{
  "nbformat": 4,
  "nbformat_minor": 0,
  "metadata": {
    "colab": {
      "provenance": [],
      "include_colab_link": true
    },
    "kernelspec": {
      "name": "python3",
      "display_name": "Python 3"
    },
    "language_info": {
      "name": "python"
    }
  },
  "cells": [
    {
      "cell_type": "markdown",
      "metadata": {
        "id": "view-in-github",
        "colab_type": "text"
      },
      "source": [
        "<a href=\"https://colab.research.google.com/github/Zarif123/SSLM-Project/blob/main/chess_eda.ipynb\" target=\"_parent\"><img src=\"https://colab.research.google.com/assets/colab-badge.svg\" alt=\"Open In Colab\"/></a>"
      ]
    },
    {
      "cell_type": "markdown",
      "source": [
        "\n",
        "### Setting Up Colab"
      ],
      "metadata": {
        "id": "0hAEbbdmVqm0"
      }
    },
    {
      "cell_type": "code",
      "execution_count": 1,
      "metadata": {
        "colab": {
          "base_uri": "https://localhost:8080/"
        },
        "id": "h6UVTapZKYBA",
        "outputId": "370824dd-de88-4202-c630-ec03b7a372b3"
      },
      "outputs": [
        {
          "output_type": "stream",
          "name": "stdout",
          "text": [
            "Mounted at /content/gdrive\n"
          ]
        }
      ],
      "source": [
        "from google.colab import drive\n",
        "drive.mount('/content/gdrive')\n",
        "folder = \"/content/gdrive/MyDrive/Statistical_LM_Group_Folder\"\n",
        "\n",
        "csv_file = \"chess_data.csv\"\n",
        "csv_path = f\"{folder}/{csv_file}\""
      ]
    },
    {
      "cell_type": "markdown",
      "source": [
        "### Imports"
      ],
      "metadata": {
        "id": "bRNnLfN9VpM9"
      }
    },
    {
      "cell_type": "code",
      "source": [
        "import pandas as pd\n",
        "import seaborn as sns\n",
        "from matplotlib import pyplot as plt\n",
        "from imblearn.under_sampling import RandomUnderSampler"
      ],
      "metadata": {
        "id": "JR2ExyfGLEcM"
      },
      "execution_count": 8,
      "outputs": []
    },
    {
      "cell_type": "markdown",
      "source": [
        "### ELO Buckets"
      ],
      "metadata": {
        "id": "YzYVTDjFe3Ts"
      }
    },
    {
      "cell_type": "code",
      "source": [
        "def rating_to_bracket(rating):\n",
        "  if rating < 1300:\n",
        "    return 0\n",
        "  elif rating >= 1300 and rating < 1500:\n",
        "    return 1\n",
        "  elif rating >= 1500 and rating < 1700:\n",
        "    return 2  \n",
        "  elif rating >= 1700 and rating < 1900:\n",
        "    return 3\n",
        "  elif rating >= 1900 and rating < 2100:\n",
        "    return 4\n",
        "  elif rating >= 2100:\n",
        "    return 5"
      ],
      "metadata": {
        "id": "LIonh4dPe2dQ"
      },
      "execution_count": 3,
      "outputs": []
    },
    {
      "cell_type": "code",
      "source": [
        "chess_data = pd.read_csv(csv_path)\n",
        "chess_data[\"Bucket\"] = chess_data[\"Elo\"].map(lambda elo: rating_to_bracket(elo))"
      ],
      "metadata": {
        "id": "HIWBSAjAe2cR"
      },
      "execution_count": 4,
      "outputs": []
    },
    {
      "cell_type": "markdown",
      "source": [
        "### Read To DataFrame"
      ],
      "metadata": {
        "id": "x5mL0SPNK757"
      }
    },
    {
      "cell_type": "code",
      "source": [
        "ratings = chess_data['Bucket']\n",
        "rating_counts = ratings.value_counts().sort_index()\n",
        "print(rating_counts)"
      ],
      "metadata": {
        "colab": {
          "base_uri": "https://localhost:8080/"
        },
        "id": "3jL73qV2K7ne",
        "outputId": "3a44774d-03cf-408e-d8ec-8583c017c397"
      },
      "execution_count": 5,
      "outputs": [
        {
          "output_type": "stream",
          "name": "stdout",
          "text": [
            "0     5579\n",
            "1    14556\n",
            "2    24971\n",
            "3    25064\n",
            "4    13320\n",
            "5     4208\n",
            "Name: Bucket, dtype: int64\n"
          ]
        }
      ]
    },
    {
      "cell_type": "markdown",
      "source": [
        "### Original Ratings Plot"
      ],
      "metadata": {
        "id": "bJanCS-oLgrH"
      }
    },
    {
      "cell_type": "code",
      "source": [
        "sns.set_theme(style=\"darkgrid\")\n",
        "ax = sns.countplot(x=chess_data[\"Bucket\"], color=\"cornflowerblue\")\n",
        "plt.title(\"Rating Distribution\")\n",
        "plt.xlabel(\"Rating Bucket\")\n",
        "plt.ylabel(\"Count\")"
      ],
      "metadata": {
        "id": "ssTOv4tOgJOo",
        "outputId": "d4b12413-7963-4bab-9f25-31a0d592d4be",
        "colab": {
          "base_uri": "https://localhost:8080/",
          "height": 498
        }
      },
      "execution_count": 7,
      "outputs": [
        {
          "output_type": "execute_result",
          "data": {
            "text/plain": [
              "Text(0, 0.5, 'Count')"
            ]
          },
          "metadata": {},
          "execution_count": 7
        },
        {
          "output_type": "display_data",
          "data": {
            "text/plain": [
              "<Figure size 640x480 with 1 Axes>"
            ],
            "image/png": "[encoded data removed]"
          },
          "metadata": {}
        }
      ]
    },
    {
      "cell_type": "markdown",
      "source": [
        "### Balancing Data"
      ],
      "metadata": {
        "id": "ewSH0vWRoqmB"
      }
    },
    {
      "cell_type": "code",
      "source": [
        "X = chess_data[\"Moves\"]\n",
        "y = chess_data[\"Bucket\"]\n",
        "\n",
        "balancer = RandomUnderSampler()\n",
        "X = X.values.reshape(-1, 1)\n",
        "X, y = balancer.fit_resample(X, y)"
      ],
      "metadata": {
        "id": "jZyyiBg7o0vW"
      },
      "execution_count": 10,
      "outputs": []
    },
    {
      "cell_type": "markdown",
      "source": [
        "### Balanced Rating Plot"
      ],
      "metadata": {
        "id": "vzd6s528pD9m"
      }
    },
    {
      "cell_type": "code",
      "source": [
        "sns.set_theme(style=\"darkgrid\")\n",
        "ax = sns.countplot(x=y, color=\"cornflowerblue\")\n",
        "plt.title(\"Rating Distribution\")\n",
        "plt.xlabel(\"Rating Bucket\")\n",
        "plt.ylabel(\"Count\")"
      ],
      "metadata": {
        "id": "ngc_wA_fpMm1",
        "outputId": "9deea172-3429-4200-b2e5-e1dcdc35e36c",
        "colab": {
          "base_uri": "https://localhost:8080/",
          "height": 498
        }
      },
      "execution_count": 11,
      "outputs": [
        {
          "output_type": "execute_result",
          "data": {
            "text/plain": [
              "Text(0, 0.5, 'Count')"
            ]
          },
          "metadata": {},
          "execution_count": 11
        },
        {
          "output_type": "display_data",
          "data": {
            "text/plain": [
              "<Figure size 640x480 with 1 Axes>"
            ],
            "image/png": "[encoded data removed]"
          },
          "metadata": {}
        }
      ]
    },
    {
      "cell_type": "code",
      "source": [
        "# chess_data.to_csv(f\"{folder}/chess_data_with_buckets.csv\", index=False)"
      ],
      "metadata": {
        "id": "_cXfDRCYfx9A"
      },
      "execution_count": null,
      "outputs": []
    }
  ]
}