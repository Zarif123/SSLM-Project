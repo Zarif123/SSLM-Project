{
  "nbformat": 4,
  "nbformat_minor": 0,
  "metadata": {
    "colab": {
      "provenance": [],
      "authorship_tag": "ABX9TyM6OreOQfaPWrUMtBPUpL6x",
      "include_colab_link": true
    },
    "kernelspec": {
      "name": "python3",
      "display_name": "Python 3"
    },
    "language_info": {
      "name": "python"
    }
  },
  "cells": [
    {
      "cell_type": "markdown",
      "metadata": {
        "id": "view-in-github",
        "colab_type": "text"
      },
      "source": [
        "<a href=\"https://colab.research.google.com/github/Zarif123/SSLM-Project/blob/main/chess_eda.ipynb\" target=\"_parent\"><img src=\"https://colab.research.google.com/assets/colab-badge.svg\" alt=\"Open In Colab\"/></a>"
      ]
    },
    {
      "cell_type": "code",
      "execution_count": 1,
      "metadata": {
        "colab": {
          "base_uri": "https://localhost:8080/"
        },
        "id": "h6UVTapZKYBA",
        "outputId": "b531d48a-6359-41d1-a44a-2424c2c9d24d"
      },
      "outputs": [
        {
          "output_type": "stream",
          "name": "stdout",
          "text": [
            "Mounted at /content/gdrive\n"
          ]
        }
      ],
      "source": [
        "from google.colab import drive\n",
        "drive.mount('/content/gdrive')\n",
        "folder = \"/content/gdrive/MyDrive/Statistical_LM_Group_Folder\"\n",
        "\n",
        "csv_file = \"chess_data.csv\"\n",
        "csv_path = f\"{folder}/{csv_file}\""
      ]
    },
    {
      "cell_type": "code",
      "source": [
        "import pandas as pd\n",
        "from matplotlib import pyplot as plt"
      ],
      "metadata": {
        "id": "JR2ExyfGLEcM"
      },
      "execution_count": 19,
      "outputs": []
    },
    {
      "cell_type": "markdown",
      "source": [
        "### Read To DataFrame"
      ],
      "metadata": {
        "id": "x5mL0SPNK757"
      }
    },
    {
      "cell_type": "code",
      "source": [
        "chess_data = pd.read_csv(csv_path)"
      ],
      "metadata": {
        "id": "3jL73qV2K7ne"
      },
      "execution_count": 4,
      "outputs": []
    },
    {
      "cell_type": "markdown",
      "source": [
        "### Ratings Histogram"
      ],
      "metadata": {
        "id": "bJanCS-oLgrH"
      }
    },
    {
      "cell_type": "code",
      "source": [
        "ratings = chess_data['Rating_Bracket']\n",
        "ratings_counts = ratings.value_counts().sort_index()\n",
        "print(ratings_counts)"
      ],
      "metadata": {
        "colab": {
          "base_uri": "https://localhost:8080/"
        },
        "id": "p2ugjX9MLZIV",
        "outputId": "fe8c5ba9-da17-445b-9366-bb4612db9e9c"
      },
      "execution_count": 41,
      "outputs": [
        {
          "output_type": "stream",
          "name": "stdout",
          "text": [
            "1        12\n",
            "2       646\n",
            "3      4921\n",
            "4     14556\n",
            "5     24971\n",
            "6     25064\n",
            "7     13320\n",
            "8      3499\n",
            "9       669\n",
            "10       40\n",
            "Name: Rating_Bracket, dtype: int64\n"
          ]
        }
      ]
    },
    {
      "cell_type": "code",
      "source": [
        "ratings_counts.plot.bar(rot=0)"
      ],
      "metadata": {
        "colab": {
          "base_uri": "https://localhost:8080/",
          "height": 505
        },
        "id": "KTaftZw8SsqM",
        "outputId": "bbb67cc0-89c1-4925-db13-2cbecbe73dca"
      },
      "execution_count": 43,
      "outputs": [
        {
          "output_type": "execute_result",
          "data": {
            "text/plain": [
              "<Axes: >"
            ]
          },
          "metadata": {},
          "execution_count": 43
        },
        {
          "output_type": "display_data",
          "data": {
            "text/plain": [
              "<Figure size 640x480 with 1 Axes>"
            ],
            "image/png": "[encoded data removed]"
          },
          "metadata": {}
        }
      ]
    }
  ]
}