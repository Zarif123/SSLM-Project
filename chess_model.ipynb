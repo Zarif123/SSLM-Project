{
  "nbformat": 4,
  "nbformat_minor": 0,
  "metadata": {
    "colab": {
      "provenance": [],
      "gpuType": "T4",
      "include_colab_link": true
    },
    "kernelspec": {
      "name": "python3",
      "display_name": "Python 3"
    },
    "language_info": {
      "name": "python"
    },
    "accelerator": "GPU"
  },
  "cells": [
    {
      "cell_type": "markdown",
      "metadata": {
        "id": "view-in-github",
        "colab_type": "text"
      },
      "source": [
        "<a href=\"https://colab.research.google.com/github/Zarif123/SSLM-Project/blob/main/chess_model.ipynb\" target=\"_parent\"><img src=\"https://colab.research.google.com/assets/colab-badge.svg\" alt=\"Open In Colab\"/></a>"
      ]
    },
    {
      "cell_type": "code",
      "source": [
        "%%capture\n",
        "!pip install transformers\n",
        "!pip install python-chess"
      ],
      "metadata": {
        "id": "SmP4VhMQYNa3"
      },
      "execution_count": 87,
      "outputs": []
    },
    {
      "cell_type": "code",
      "execution_count": 88,
      "metadata": {
        "id": "OarbiURKBnK_",
        "colab": {
          "base_uri": "https://localhost:8080/"
        },
        "outputId": "ea14c525-35e3-4b90-a3fa-df1c38f654f0"
      },
      "outputs": [
        {
          "output_type": "stream",
          "name": "stdout",
          "text": [
            "Drive already mounted at /content/gdrive; to attempt to forcibly remount, call drive.mount(\"/content/gdrive\", force_remount=True).\n"
          ]
        }
      ],
      "source": [
        "from google.colab import drive\n",
        "drive.mount('/content/gdrive')\n",
        "folder = \"/content/gdrive/MyDrive/Statistical_LM_Group_Folder\"\n",
        "\n",
        "csv_file = \"chess_data.csv\"\n",
        "csv_path = f\"{folder}/{csv_file}\"\n",
        "\n",
        "model_file = \"model.pth\"\n",
        "model_path = f\"{folder}/{model_file}\""
      ]
    },
    {
      "cell_type": "code",
      "source": [
        "from transformers import BertTokenizer, AutoTokenizer, BertModel, BertConfig, get_linear_schedule_with_warmup\n",
        "import torch.optim as optim\n",
        "import torch\n",
        "import torch.nn as nn\n",
        "import torch.nn.functional as F\n",
        "import pandas as pd\n",
        "from tqdm import tqdm\n",
        "import numpy as np\n",
        "from sklearn.model_selection import train_test_split\n",
        "from torch.utils.data import DataLoader"
      ],
      "metadata": {
        "id": "C7PY5j9_ZP99"
      },
      "execution_count": 89,
      "outputs": []
    },
    {
      "cell_type": "markdown",
      "source": [
        "###Parameters"
      ],
      "metadata": {
        "id": "T4jiOnf42l76"
      }
    },
    {
      "cell_type": "code",
      "source": [
        "device = torch.device('cuda' if torch.cuda.is_available() else 'cpu')\n",
        "\n",
        "params = {\n",
        "    \"batch_size\": 2,\n",
        "    \"epochs\": 5,\n",
        "    \"learning_rate\": 0.0005,\n",
        "    \"warmup_steps\": 0.01,\n",
        "    \"epsilon\": 1e-8,\n",
        "    \"accum_iter\": 4\n",
        "}\n",
        "\n",
        "class Params:\n",
        "  def __init__(self, **kwargs):\n",
        "    for key, value in kwargs.items():\n",
        "      setattr(self, key, value)\n",
        "\n",
        "params = Params(**params)"
      ],
      "metadata": {
        "id": "ky6kpFpn0EF0"
      },
      "execution_count": 90,
      "outputs": []
    },
    {
      "cell_type": "markdown",
      "source": [
        "### Classify Model"
      ],
      "metadata": {
        "id": "Ch3NE1cQ2p9I"
      }
    },
    {
      "cell_type": "code",
      "source": [
        "class BertClassifier(nn.Module):\n",
        "  def __init__(self, dropout=0.5, num_classes=11):\n",
        "    super(BertClassifier, self).__init__()\n",
        "\n",
        "    self.bert = BertModel.from_pretrained('bert-base-cased')\n",
        "    self.dropout = nn.Dropout(dropout)\n",
        "    self.linear = nn.Linear(768, num_classes)\n",
        "    self.relu = nn.ReLU()\n",
        "\n",
        "  def forward(self, input_id, mask):\n",
        "    _, pooled_output = self.bert(input_ids= input_id, attention_mask=mask,return_dict=False)\n",
        "    dropout_output = self.dropout(pooled_output)\n",
        "    linear_output = self.linear(dropout_output)\n",
        "    final_layer = self.relu(linear_output)\n",
        "\n",
        "    return final_layer"
      ],
      "metadata": {
        "id": "lBPTBZJ9wXZw"
      },
      "execution_count": 91,
      "outputs": []
    },
    {
      "cell_type": "markdown",
      "source": [
        "### Dataset Class"
      ],
      "metadata": {
        "id": "S0A41IRS2tFX"
      }
    },
    {
      "cell_type": "code",
      "source": [
        "class ChessDataset(torch.utils.data.Dataset):\n",
        "  def __init__(self, moves, labels):\n",
        "      tokenizer = BertTokenizer.from_pretrained('bert-base-cased')\n",
        "      self.labels = torch.Tensor(labels.values)\n",
        "      self.moves = [tokenizer(move, \n",
        "                              padding='max_length', max_length = 512, truncation=True,\n",
        "                              return_tensors=\"pt\") for move in moves]\n",
        "\n",
        "  def __len__(self):\n",
        "      return len(self.labels)\n",
        "\n",
        "  def __getitem__(self, idx):\n",
        "      return self.moves[idx], self.labels[idx]"
      ],
      "metadata": {
        "id": "jjod6hIlw0Xg"
      },
      "execution_count": 92,
      "outputs": []
    },
    {
      "cell_type": "markdown",
      "source": [
        "### Training Function"
      ],
      "metadata": {
        "id": "dr7lllaw2vMB"
      }
    },
    {
      "cell_type": "code",
      "source": [
        "def train(model, train_dataloader, val_dataloader, criterion, optimizer):\n",
        "    num_batches = len(train_dataloader)\n",
        "    scheduler = get_linear_schedule_with_warmup(optimizer, num_warmup_steps = params.warmup_steps, num_training_steps = num_batches * params.epochs)\n",
        "    for epoch_num in range(params.epochs):\n",
        "        total_acc_train = 0\n",
        "        total_loss_train = 0\n",
        "\n",
        "        for batch_idx, (train_input, train_label) in enumerate(train_dataloader):\n",
        "          if batch_idx % 10 == 0:\n",
        "            print(f\"Batch Number: {batch_idx}\")\n",
        "          train_label = train_label.to(device)\n",
        "          mask = train_input['attention_mask'].to(device)\n",
        "          input_id = train_input['input_ids'].squeeze(1).to(device)\n",
        "\n",
        "          output = model(input_id, mask)\n",
        "          \n",
        "          batch_loss = criterion(output, train_label.long())\n",
        "          total_loss_train += batch_loss.item()\n",
        "          \n",
        "          acc = (output.argmax(dim=1) == train_label).sum().item()\n",
        "          total_acc_train += acc\n",
        "\n",
        "          batch_loss.backward()\n",
        "\n",
        "          # Gradient Accumulation\n",
        "          if ((batch_idx + 1) % params.accum_iter == 0) or (batch_idx + 1 == num_batches):\n",
        "            optimizer.step()\n",
        "            scheduler.step()\n",
        "            model.zero_grad()\n",
        "        \n",
        "        total_acc_val = 0\n",
        "        total_loss_val = 0\n",
        "\n",
        "        with torch.no_grad():\n",
        "\n",
        "          for val_input, val_label in val_dataloader:\n",
        "            val_label = val_label.to(device)\n",
        "            mask = val_input['attention_mask'].to(device)\n",
        "            input_id = val_input['input_ids'].squeeze(1).to(device)\n",
        "\n",
        "            output = model(input_id, mask)\n",
        "\n",
        "            batch_loss = criterion(output, val_label.long())\n",
        "            total_loss_val += batch_loss.item()\n",
        "            \n",
        "            acc = (output.argmax(dim=1) == val_label).sum().item()\n",
        "            total_acc_val += acc\n",
        "        \n",
        "        print(\n",
        "            f'Epochs: {epoch_num + 1} | Train Loss: {total_loss_train / len(train_dataloader): .3f} \\\n",
        "            | Train Accuracy: {total_acc_train / len(train_dataloader): .3f} \\\n",
        "            | Val Loss: {total_loss_val / len(val_dataloader): .3f} \\\n",
        "            | Val Accuracy: {total_acc_val / len(val_dataloader): .3f}')\n",
        "        \n",
        "        torch.save(model.state_dict(), model_path)"
      ],
      "metadata": {
        "id": "x337jZ5ixgPG"
      },
      "execution_count": 93,
      "outputs": []
    },
    {
      "cell_type": "markdown",
      "source": [
        "### Test Function"
      ],
      "metadata": {
        "id": "Zj8L6NoCNVxi"
      }
    },
    {
      "cell_type": "code",
      "source": [
        "def test(model, test_dataloader):\n",
        "  total_acc_test = 0\n",
        "  with torch.no_grad():\n",
        "    for test_input, test_label in test_dataloader:\n",
        "      test_label = test_label.to(device)\n",
        "      mask = test_input['attention_mask'].to(device)\n",
        "      input_id = test_input['input_ids'].squeeze(1).to(device)\n",
        "\n",
        "      output = model(input_id, mask)\n",
        "      print(output.argmax(dim=1), test_label)\n",
        "\n",
        "      acc = (output.argmax(dim=1) == test_label).sum().item()\n",
        "      total_acc_test += acc\n",
        "      \n",
        "      print(f\"Test Accuracy: {total_acc_test / len(test_dataloader): .3f}\")"
      ],
      "metadata": {
        "id": "ullCZNUINYYj"
      },
      "execution_count": 105,
      "outputs": []
    },
    {
      "cell_type": "markdown",
      "source": [
        "### Loading Data"
      ],
      "metadata": {
        "id": "1MoqFHld3kHf"
      }
    },
    {
      "cell_type": "code",
      "source": [
        "chess_data = pd.read_csv(csv_path)[0:1000]\n",
        "\n",
        "X_train, X_test, y_train, y_test = train_test_split(chess_data[\"Moves\"], chess_data[\"Rating_Bracket\"], test_size=0.2, random_state=7, shuffle=True) # Splits into train/test\n",
        "X_train, X_val, y_train, y_val = train_test_split(X_train, y_train, test_size=0.25, random_state=1, shuffle=True) # Splits train into train/val\n",
        "\n",
        "train_data, val_data = ChessDataset(X_train, y_train), ChessDataset(X_val, y_val)\n",
        "train_dataloader = torch.utils.data.DataLoader(train_data, batch_size=params.batch_size, shuffle=True)\n",
        "val_dataloader = torch.utils.data.DataLoader(val_data, batch_size=params.batch_size)"
      ],
      "metadata": {
        "id": "Fb7ZFYfU3nPY"
      },
      "execution_count": 95,
      "outputs": []
    },
    {
      "cell_type": "code",
      "source": [
        "model = BertClassifier()\n",
        "model = model.to(device)\n",
        "criterion = nn.CrossEntropyLoss()\n",
        "optimizer = optim.Adam(model.parameters(), lr = params.learning_rate)"
      ],
      "metadata": {
        "colab": {
          "base_uri": "https://localhost:8080/"
        },
        "id": "fLMfD4iz5aWl",
        "outputId": "7e0f5575-b929-4d8b-f6e8-ef51629e07e2"
      },
      "execution_count": 96,
      "outputs": [
        {
          "output_type": "stream",
          "name": "stderr",
          "text": [
            "Some weights of the model checkpoint at bert-base-cased were not used when initializing BertModel: ['cls.predictions.transform.dense.bias', 'cls.predictions.transform.LayerNorm.bias', 'cls.predictions.bias', 'cls.predictions.transform.LayerNorm.weight', 'cls.predictions.transform.dense.weight', 'cls.seq_relationship.weight', 'cls.predictions.decoder.weight', 'cls.seq_relationship.bias']\n",
            "- This IS expected if you are initializing BertModel from the checkpoint of a model trained on another task or with another architecture (e.g. initializing a BertForSequenceClassification model from a BertForPreTraining model).\n",
            "- This IS NOT expected if you are initializing BertModel from the checkpoint of a model that you expect to be exactly identical (initializing a BertForSequenceClassification model from a BertForSequenceClassification model).\n"
          ]
        }
      ]
    },
    {
      "cell_type": "markdown",
      "source": [
        "### Run Training"
      ],
      "metadata": {
        "id": "mChdv51O8dC6"
      }
    },
    {
      "cell_type": "code",
      "source": [
        "train(model, train_dataloader, val_dataloader, criterion, optimizer)"
      ],
      "metadata": {
        "colab": {
          "base_uri": "https://localhost:8080/"
        },
        "id": "pHj36RRX8e0y",
        "outputId": "2afdee6d-2951-4094-8a5a-dc1c24bb8813"
      },
      "execution_count": 97,
      "outputs": [
        {
          "output_type": "stream",
          "name": "stdout",
          "text": [
            "Batch Number: 0\n",
            "Batch Number: 10\n",
            "Batch Number: 20\n",
            "Batch Number: 30\n",
            "Batch Number: 40\n",
            "Batch Number: 50\n",
            "Batch Number: 60\n",
            "Batch Number: 70\n",
            "Batch Number: 80\n",
            "Batch Number: 90\n",
            "Batch Number: 100\n",
            "Batch Number: 110\n",
            "Batch Number: 120\n",
            "Batch Number: 130\n",
            "Batch Number: 140\n",
            "Batch Number: 150\n",
            "Batch Number: 160\n",
            "Batch Number: 170\n",
            "Batch Number: 180\n",
            "Batch Number: 190\n",
            "Batch Number: 200\n",
            "Batch Number: 210\n",
            "Batch Number: 220\n",
            "Batch Number: 230\n",
            "Batch Number: 240\n",
            "Batch Number: 250\n",
            "Batch Number: 260\n",
            "Batch Number: 270\n",
            "Batch Number: 280\n",
            "Batch Number: 290\n",
            "Epochs: 1 | Train Loss:  1.986             | Train Accuracy:  0.540             | Val Loss:  1.941             | Val Accuracy:  0.430\n",
            "Batch Number: 0\n",
            "Batch Number: 10\n",
            "Batch Number: 20\n",
            "Batch Number: 30\n",
            "Batch Number: 40\n",
            "Batch Number: 50\n",
            "Batch Number: 60\n",
            "Batch Number: 70\n",
            "Batch Number: 80\n",
            "Batch Number: 90\n",
            "Batch Number: 100\n",
            "Batch Number: 110\n",
            "Batch Number: 120\n",
            "Batch Number: 130\n",
            "Batch Number: 140\n",
            "Batch Number: 150\n",
            "Batch Number: 160\n",
            "Batch Number: 170\n",
            "Batch Number: 180\n",
            "Batch Number: 190\n",
            "Batch Number: 200\n",
            "Batch Number: 210\n",
            "Batch Number: 220\n",
            "Batch Number: 230\n",
            "Batch Number: 240\n",
            "Batch Number: 250\n",
            "Batch Number: 260\n",
            "Batch Number: 270\n",
            "Batch Number: 280\n",
            "Batch Number: 290\n",
            "Epochs: 2 | Train Loss:  1.907             | Train Accuracy:  0.500             | Val Loss:  1.885             | Val Accuracy:  0.570\n",
            "Batch Number: 0\n",
            "Batch Number: 10\n",
            "Batch Number: 20\n",
            "Batch Number: 30\n",
            "Batch Number: 40\n",
            "Batch Number: 50\n",
            "Batch Number: 60\n",
            "Batch Number: 70\n",
            "Batch Number: 80\n",
            "Batch Number: 90\n",
            "Batch Number: 100\n",
            "Batch Number: 110\n",
            "Batch Number: 120\n",
            "Batch Number: 130\n",
            "Batch Number: 140\n",
            "Batch Number: 150\n",
            "Batch Number: 160\n",
            "Batch Number: 170\n",
            "Batch Number: 180\n",
            "Batch Number: 190\n",
            "Batch Number: 200\n",
            "Batch Number: 210\n",
            "Batch Number: 220\n",
            "Batch Number: 230\n",
            "Batch Number: 240\n",
            "Batch Number: 250\n",
            "Batch Number: 260\n",
            "Batch Number: 270\n",
            "Batch Number: 280\n",
            "Batch Number: 290\n",
            "Epochs: 3 | Train Loss:  1.894             | Train Accuracy:  0.540             | Val Loss:  1.911             | Val Accuracy:  0.470\n",
            "Batch Number: 0\n",
            "Batch Number: 10\n",
            "Batch Number: 20\n",
            "Batch Number: 30\n",
            "Batch Number: 40\n",
            "Batch Number: 50\n",
            "Batch Number: 60\n",
            "Batch Number: 70\n",
            "Batch Number: 80\n",
            "Batch Number: 90\n",
            "Batch Number: 100\n",
            "Batch Number: 110\n",
            "Batch Number: 120\n",
            "Batch Number: 130\n",
            "Batch Number: 140\n",
            "Batch Number: 150\n",
            "Batch Number: 160\n",
            "Batch Number: 170\n",
            "Batch Number: 180\n",
            "Batch Number: 190\n",
            "Batch Number: 200\n",
            "Batch Number: 210\n",
            "Batch Number: 220\n",
            "Batch Number: 230\n",
            "Batch Number: 240\n",
            "Batch Number: 250\n",
            "Batch Number: 260\n",
            "Batch Number: 270\n",
            "Batch Number: 280\n",
            "Batch Number: 290\n",
            "Epochs: 4 | Train Loss:  1.906             | Train Accuracy:  0.497             | Val Loss:  1.908             | Val Accuracy:  0.620\n",
            "Batch Number: 0\n",
            "Batch Number: 10\n",
            "Batch Number: 20\n",
            "Batch Number: 30\n",
            "Batch Number: 40\n",
            "Batch Number: 50\n",
            "Batch Number: 60\n",
            "Batch Number: 70\n",
            "Batch Number: 80\n",
            "Batch Number: 90\n",
            "Batch Number: 100\n",
            "Batch Number: 110\n",
            "Batch Number: 120\n",
            "Batch Number: 130\n",
            "Batch Number: 140\n",
            "Batch Number: 150\n",
            "Batch Number: 160\n",
            "Batch Number: 170\n",
            "Batch Number: 180\n",
            "Batch Number: 190\n",
            "Batch Number: 200\n",
            "Batch Number: 210\n",
            "Batch Number: 220\n",
            "Batch Number: 230\n",
            "Batch Number: 240\n",
            "Batch Number: 250\n",
            "Batch Number: 260\n",
            "Batch Number: 270\n",
            "Batch Number: 280\n",
            "Batch Number: 290\n",
            "Epochs: 5 | Train Loss:  1.871             | Train Accuracy:  0.553             | Val Loss:  1.857             | Val Accuracy:  0.540\n"
          ]
        }
      ]
    },
    {
      "cell_type": "code",
      "source": [
        "test_data = ChessDataset(X_test, y_test)\n",
        "test_dataloader = torch.utils.data.DataLoader(test_data, batch_size=params.batch_size)\n",
        "test(model, test_dataloader)"
      ],
      "metadata": {
        "id": "9HSMDah7SZpM"
      },
      "execution_count": null,
      "outputs": []
    }
  ]
}