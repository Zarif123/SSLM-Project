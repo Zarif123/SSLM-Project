{
  "nbformat": 4,
  "nbformat_minor": 0,
  "metadata": {
    "colab": {
      "provenance": [],
      "gpuType": "T4",
      "include_colab_link": true
    },
    "kernelspec": {
      "name": "python3",
      "display_name": "Python 3"
    },
    "language_info": {
      "name": "python"
    },
    "accelerator": "GPU"
  },
  "cells": [
    {
      "cell_type": "markdown",
      "metadata": {
        "id": "view-in-github",
        "colab_type": "text"
      },
      "source": [
        "<a href=\"https://colab.research.google.com/github/Zarif123/SSLM-Project/blob/main/chess_model.ipynb\" target=\"_parent\"><img src=\"https://colab.research.google.com/assets/colab-badge.svg\" alt=\"Open In Colab\"/></a>"
      ]
    },
    {
      "cell_type": "code",
      "source": [
        "%%capture\n",
        "!pip install transformers\n",
        "!pip install python-chess"
      ],
      "metadata": {
        "id": "SmP4VhMQYNa3"
      },
      "execution_count": 9,
      "outputs": []
    },
    {
      "cell_type": "code",
      "execution_count": 10,
      "metadata": {
        "id": "OarbiURKBnK_",
        "colab": {
          "base_uri": "https://localhost:8080/"
        },
        "outputId": "0eba75dc-e9a3-4bd0-c32b-f2d79a41a0ef"
      },
      "outputs": [
        {
          "output_type": "stream",
          "name": "stdout",
          "text": [
            "Drive already mounted at /content/gdrive; to attempt to forcibly remount, call drive.mount(\"/content/gdrive\", force_remount=True).\n"
          ]
        }
      ],
      "source": [
        "from datetime import datetime\n",
        "\n",
        "from google.colab import drive\n",
        "drive.mount('/content/gdrive')\n",
        "folder = \"/content/gdrive/MyDrive/Statistical_LM_Group_Folder\"\n",
        "\n",
        "csv_file = \"chess_data_with_buckets.csv\"\n",
        "csv_path = f\"{folder}/{csv_file}\"\n",
        "\n",
        "\n",
        "now = datetime.now()\n",
        "dt_string = now.strftime(\"%m_%d_%Y_%H_%M\")\n",
        "\n",
        "model_file = \"classifier_model.pth\"\n",
        "datetime = dt_string\n",
        "model_path = f\"{folder}/{datetime}_{model_file}\""
      ]
    },
    {
      "cell_type": "code",
      "source": [
        "from transformers import BertTokenizer, AutoTokenizer, BertModel, BertConfig, get_linear_schedule_with_warmup\n",
        "import torch.optim as optim\n",
        "import torch\n",
        "import torch.nn as nn\n",
        "import torch.nn.functional as F\n",
        "import pandas as pd\n",
        "from tqdm import tqdm\n",
        "import numpy as np\n",
        "from sklearn.model_selection import train_test_split\n",
        "from torch.utils.data import DataLoader\n",
        "from imblearn.under_sampling import RandomUnderSampler"
      ],
      "metadata": {
        "id": "C7PY5j9_ZP99"
      },
      "execution_count": 11,
      "outputs": []
    },
    {
      "cell_type": "markdown",
      "source": [
        "###Parameters"
      ],
      "metadata": {
        "id": "T4jiOnf42l76"
      }
    },
    {
      "cell_type": "code",
      "source": [
        "device = torch.device('cuda' if torch.cuda.is_available() else 'cpu')\n",
        "\n",
        "params = {\n",
        "    \"batch_size\": 2,\n",
        "    \"epochs\": 5,\n",
        "    \"learning_rate\": 0.005,\n",
        "    \"warmup_steps\": 0.01,\n",
        "    \"epsilon\": 1e-8,\n",
        "    \"accum_iter\": 4\n",
        "}\n",
        "\n",
        "class Params:\n",
        "  def __init__(self, **kwargs):\n",
        "    for key, value in kwargs.items():\n",
        "      setattr(self, key, value)\n",
        "\n",
        "params = Params(**params)"
      ],
      "metadata": {
        "id": "ky6kpFpn0EF0"
      },
      "execution_count": 12,
      "outputs": []
    },
    {
      "cell_type": "markdown",
      "source": [
        "### Classify Model"
      ],
      "metadata": {
        "id": "Ch3NE1cQ2p9I"
      }
    },
    {
      "cell_type": "code",
      "source": [
        "class BertClassifier(nn.Module):\n",
        "  def __init__(self, dropout=0.5, num_classes=11):\n",
        "    super(BertClassifier, self).__init__()\n",
        "\n",
        "    self.bert = BertModel.from_pretrained('bert-base-cased')\n",
        "    self.dropout = nn.Dropout(dropout)\n",
        "    self.linear = nn.Linear(768, num_classes)\n",
        "    self.relu = nn.ReLU()\n",
        "\n",
        "  def forward(self, input_id, mask):\n",
        "    _, pooled_output = self.bert(input_ids= input_id, attention_mask=mask,return_dict=False)\n",
        "    dropout_output = self.dropout(pooled_output)\n",
        "    linear_output = self.linear(dropout_output)\n",
        "    final_layer = self.relu(linear_output)\n",
        "\n",
        "    return final_layer"
      ],
      "metadata": {
        "id": "lBPTBZJ9wXZw"
      },
      "execution_count": 13,
      "outputs": []
    },
    {
      "cell_type": "markdown",
      "source": [
        "### Dataset Class"
      ],
      "metadata": {
        "id": "S0A41IRS2tFX"
      }
    },
    {
      "cell_type": "code",
      "source": [
        "class ChessDataset(torch.utils.data.Dataset):\n",
        "  def __init__(self, moves, labels):\n",
        "      tokenizer = BertTokenizer.from_pretrained('bert-base-cased')\n",
        "      self.labels = torch.Tensor(labels.values)\n",
        "      self.moves = [tokenizer(move, \n",
        "                              padding='max_length', max_length = 512, truncation=True,\n",
        "                              return_tensors=\"pt\") for move in moves]\n",
        "\n",
        "  def __len__(self):\n",
        "      return len(self.labels)\n",
        "\n",
        "  def __getitem__(self, idx):\n",
        "      return self.moves[idx], self.labels[idx]"
      ],
      "metadata": {
        "id": "jjod6hIlw0Xg"
      },
      "execution_count": 14,
      "outputs": []
    },
    {
      "cell_type": "markdown",
      "source": [
        "### Training Function"
      ],
      "metadata": {
        "id": "dr7lllaw2vMB"
      }
    },
    {
      "cell_type": "code",
      "source": [
        "def train(model, train_dataloader, val_dataloader, criterion, optimizer):\n",
        "    num_batches = len(train_dataloader)\n",
        "    scheduler = get_linear_schedule_with_warmup(optimizer, num_warmup_steps = params.warmup_steps, num_training_steps = num_batches * params.epochs)\n",
        "    for epoch_num in range(params.epochs):\n",
        "        total_acc_train = 0\n",
        "        total_loss_train = 0\n",
        "\n",
        "        for batch_idx, (train_input, train_label) in enumerate(train_dataloader):\n",
        "          if batch_idx % 10 == 0:\n",
        "            print(f\"Batch Number: {batch_idx}\")\n",
        "          train_label = train_label.to(device)\n",
        "          mask = train_input['attention_mask'].to(device)\n",
        "          input_id = train_input['input_ids'].squeeze(1).to(device)\n",
        "\n",
        "          output = model(input_id, mask)\n",
        "          \n",
        "          batch_loss = criterion(output, train_label.long())\n",
        "          total_loss_train += batch_loss.item()\n",
        "          \n",
        "          acc = (output.argmax(dim=1) == train_label).sum().item()\n",
        "          total_acc_train += acc\n",
        "\n",
        "          batch_loss.backward()\n",
        "\n",
        "          # Gradient Accumulation\n",
        "          if ((batch_idx + 1) % params.accum_iter == 0) or (batch_idx + 1 == num_batches):\n",
        "            optimizer.step()\n",
        "            scheduler.step()\n",
        "            model.zero_grad()\n",
        "        \n",
        "        total_acc_val = 0\n",
        "        total_loss_val = 0\n",
        "\n",
        "        with torch.no_grad():\n",
        "\n",
        "          for val_input, val_label in val_dataloader:\n",
        "            val_label = val_label.to(device)\n",
        "            mask = val_input['attention_mask'].to(device)\n",
        "            input_id = val_input['input_ids'].squeeze(1).to(device)\n",
        "\n",
        "            output = model(input_id, mask)\n",
        "\n",
        "            batch_loss = criterion(output, val_label.long())\n",
        "            total_loss_val += batch_loss.item()\n",
        "            \n",
        "            acc = (output.argmax(dim=1) == val_label).sum().item()\n",
        "            total_acc_val += acc\n",
        "        \n",
        "        print(\n",
        "            f'Epochs: {epoch_num + 1} | Train Loss: {total_loss_train / len(train_dataloader): .3f} \\\n",
        "            | Train Accuracy: {total_acc_train / len(train_dataloader): .3f} \\\n",
        "            | Val Loss: {total_loss_val / len(val_dataloader): .3f} \\\n",
        "            | Val Accuracy: {total_acc_val / len(val_dataloader): .3f}')\n",
        "        \n",
        "        torch.save(model.state_dict(), model_path)"
      ],
      "metadata": {
        "id": "x337jZ5ixgPG"
      },
      "execution_count": 22,
      "outputs": []
    },
    {
      "cell_type": "markdown",
      "source": [
        "### Test Function"
      ],
      "metadata": {
        "id": "Zj8L6NoCNVxi"
      }
    },
    {
      "cell_type": "code",
      "source": [
        "def test(model, test_dataloader):\n",
        "  total_acc_test = 0\n",
        "  with torch.no_grad():\n",
        "    for test_input, test_label in test_dataloader:\n",
        "      test_label = test_label.to(device)\n",
        "      mask = test_input['attention_mask'].to(device)\n",
        "      input_id = test_input['input_ids'].squeeze(1).to(device)\n",
        "\n",
        "      output = model(input_id, mask)\n",
        "      print(output.argmax(dim=1), test_label)\n",
        "\n",
        "      acc = (output.argmax(dim=1) == test_label).sum().item()\n",
        "      total_acc_test += acc\n",
        "      \n",
        "      print(f\"Test Accuracy: {total_acc_test / len(test_dataloader): .3f}\")"
      ],
      "metadata": {
        "id": "ullCZNUINYYj"
      },
      "execution_count": 23,
      "outputs": []
    },
    {
      "cell_type": "markdown",
      "source": [
        "### Loading Data"
      ],
      "metadata": {
        "id": "1MoqFHld3kHf"
      }
    },
    {
      "cell_type": "code",
      "source": [
        "%%capture\n",
        "chess_data = pd.read_csv(csv_path)[0:30000]\n",
        "X = chess_data[\"Moves\"]\n",
        "y = chess_data[\"Bucket\"]\n",
        "\n",
        "balancer = RandomUnderSampler()\n",
        "X = X.values.reshape(-1, 1)\n",
        "X, y = balancer.fit_resample(X, y)\n",
        "rating_counts = y.value_counts().sort_index()\n",
        "X = X.flatten()\n",
        "\n",
        "X_train, X_test, y_train, y_test = train_test_split(X, y, test_size=0.2, random_state=7, shuffle=True) # Splits into train/test\n",
        "X_train, X_val, y_train, y_val = train_test_split(X_train, y_train, test_size=0.25, random_state=1, shuffle=True) # Splits train into train/val\n",
        "\n",
        "train_data, val_data, test_data = ChessDataset(X_train, y_train), ChessDataset(X_val, y_val), ChessDataset(X_test, y_test)\n",
        "train_dataloader = torch.utils.data.DataLoader(train_data, batch_size=params.batch_size, shuffle=True)\n",
        "val_dataloader = torch.utils.data.DataLoader(val_data, batch_size=params.batch_size)\n",
        "test_dataloader = torch.utils.data.DataLoader(test_data, batch_size=params.batch_size)"
      ],
      "metadata": {
        "id": "Fb7ZFYfU3nPY"
      },
      "execution_count": 34,
      "outputs": []
    },
    {
      "cell_type": "code",
      "source": [
        "%%capture\n",
        "model = BertClassifier(num_classes=14)\n",
        "model = model.to(device)\n",
        "criterion = nn.CrossEntropyLoss()\n",
        "optimizer = optim.Adam(model.parameters(), lr = params.learning_rate)"
      ],
      "metadata": {
        "colab": {
          "base_uri": "https://localhost:8080/",
          "height": 89
        },
        "id": "fLMfD4iz5aWl",
        "outputId": "87070d1b-40d3-49fd-b059-585266810166"
      },
      "execution_count": 35,
      "outputs": [
        {
          "output_type": "stream",
          "name": "stderr",
          "text": [
            "Some weights of the model checkpoint at bert-base-cased were not used when initializing BertModel: ['cls.predictions.transform.LayerNorm.weight', 'cls.predictions.decoder.weight', 'cls.predictions.transform.dense.bias', 'cls.predictions.transform.dense.weight', 'cls.seq_relationship.bias', 'cls.seq_relationship.weight', 'cls.predictions.transform.LayerNorm.bias', 'cls.predictions.bias']\n",
            "- This IS expected if you are initializing BertModel from the checkpoint of a model trained on another task or with another architecture (e.g. initializing a BertForSequenceClassification model from a BertForPreTraining model).\n",
            "- This IS NOT expected if you are initializing BertModel from the checkpoint of a model that you expect to be exactly identical (initializing a BertForSequenceClassification model from a BertForSequenceClassification model).\n"
          ]
        }
      ]
    },
    {
      "cell_type": "markdown",
      "source": [
        "### Run Training"
      ],
      "metadata": {
        "id": "mChdv51O8dC6"
      }
    },
    {
      "cell_type": "code",
      "source": [
        "train(model, train_dataloader, val_dataloader, criterion, optimizer)"
      ],
      "metadata": {
        "colab": {
          "base_uri": "https://localhost:8080/"
        },
        "id": "pHj36RRX8e0y",
        "outputId": "fd7f604d-199c-4e1c-c46b-7fdb77b076c1"
      },
      "execution_count": 26,
      "outputs": [
        {
          "output_type": "stream",
          "name": "stdout",
          "text": [
            "Batch Number: 0\n",
            "Batch Number: 10\n",
            "Batch Number: 20\n",
            "Batch Number: 30\n",
            "Batch Number: 40\n",
            "Batch Number: 50\n",
            "Batch Number: 60\n",
            "Batch Number: 70\n",
            "Batch Number: 80\n",
            "Batch Number: 90\n",
            "Batch Number: 100\n",
            "Batch Number: 110\n",
            "Batch Number: 120\n",
            "Batch Number: 130\n",
            "Batch Number: 140\n",
            "Epochs: 1 | Train Loss:  3.318             | Train Accuracy:  1.340             | Val Loss:  3.182             | Val Accuracy:  1.200\n",
            "Batch Number: 0\n",
            "Batch Number: 10\n",
            "Batch Number: 20\n",
            "Batch Number: 30\n",
            "Batch Number: 40\n",
            "Batch Number: 50\n",
            "Batch Number: 60\n",
            "Batch Number: 70\n",
            "Batch Number: 80\n",
            "Batch Number: 90\n",
            "Batch Number: 100\n",
            "Batch Number: 110\n",
            "Batch Number: 120\n",
            "Batch Number: 130\n",
            "Batch Number: 140\n",
            "Epochs: 2 | Train Loss:  3.085             | Train Accuracy:  1.373             | Val Loss:  3.074             | Val Accuracy:  1.560\n",
            "Batch Number: 0\n",
            "Batch Number: 10\n",
            "Batch Number: 20\n",
            "Batch Number: 30\n",
            "Batch Number: 40\n",
            "Batch Number: 50\n",
            "Batch Number: 60\n",
            "Batch Number: 70\n",
            "Batch Number: 80\n",
            "Batch Number: 90\n",
            "Batch Number: 100\n",
            "Batch Number: 110\n",
            "Batch Number: 120\n",
            "Batch Number: 130\n",
            "Batch Number: 140\n",
            "Epochs: 3 | Train Loss:  3.027             | Train Accuracy:  1.400             | Val Loss:  2.930             | Val Accuracy:  1.640\n",
            "Batch Number: 0\n",
            "Batch Number: 10\n",
            "Batch Number: 20\n",
            "Batch Number: 30\n",
            "Batch Number: 40\n",
            "Batch Number: 50\n",
            "Batch Number: 60\n",
            "Batch Number: 70\n",
            "Batch Number: 80\n",
            "Batch Number: 90\n",
            "Batch Number: 100\n",
            "Batch Number: 110\n",
            "Batch Number: 120\n",
            "Batch Number: 130\n",
            "Batch Number: 140\n",
            "Epochs: 4 | Train Loss:  2.977             | Train Accuracy:  1.580             | Val Loss:  3.026             | Val Accuracy:  1.540\n",
            "Batch Number: 0\n",
            "Batch Number: 10\n",
            "Batch Number: 20\n",
            "Batch Number: 30\n",
            "Batch Number: 40\n",
            "Batch Number: 50\n",
            "Batch Number: 60\n",
            "Batch Number: 70\n",
            "Batch Number: 80\n",
            "Batch Number: 90\n",
            "Batch Number: 100\n",
            "Batch Number: 110\n",
            "Batch Number: 120\n",
            "Batch Number: 130\n",
            "Batch Number: 140\n",
            "Epochs: 5 | Train Loss:  3.032             | Train Accuracy:  1.547             | Val Loss:  3.056             | Val Accuracy:  1.500\n"
          ]
        }
      ]
    },
    {
      "cell_type": "code",
      "source": [
        "test_model = model.load_state_dict(torch.load(model_path))\n",
        "test(test_model, test_dataloader)"
      ],
      "metadata": {
        "colab": {
          "base_uri": "https://localhost:8080/",
          "height": 182
        },
        "id": "9HSMDah7SZpM",
        "outputId": "6c8b824e-2580-41d7-bdf6-ae5169f009cd"
      },
      "execution_count": 2,
      "outputs": [
        {
          "output_type": "error",
          "ename": "NameError",
          "evalue": "ignored",
          "traceback": [
            "\u001b[0;31m---------------------------------------------------------------------------\u001b[0m",
            "\u001b[0;31mNameError\u001b[0m                                 Traceback (most recent call last)",
            "\u001b[0;32m<ipython-input-2-28ffa7fcc57d>\u001b[0m in \u001b[0;36m<cell line: 1>\u001b[0;34m()\u001b[0m\n\u001b[0;32m----> 1\u001b[0;31m \u001b[0mtest_model\u001b[0m \u001b[0;34m=\u001b[0m \u001b[0mmodel\u001b[0m\u001b[0;34m.\u001b[0m\u001b[0mload_state_dict\u001b[0m\u001b[0;34m(\u001b[0m\u001b[0mtorch\u001b[0m\u001b[0;34m.\u001b[0m\u001b[0mload\u001b[0m\u001b[0;34m(\u001b[0m\u001b[0mmodel_path\u001b[0m\u001b[0;34m)\u001b[0m\u001b[0;34m)\u001b[0m\u001b[0;34m\u001b[0m\u001b[0;34m\u001b[0m\u001b[0m\n\u001b[0m\u001b[1;32m      2\u001b[0m \u001b[0mtest\u001b[0m\u001b[0;34m(\u001b[0m\u001b[0mmodel\u001b[0m\u001b[0;34m,\u001b[0m \u001b[0mtest_dataloader\u001b[0m\u001b[0;34m)\u001b[0m\u001b[0;34m\u001b[0m\u001b[0;34m\u001b[0m\u001b[0m\n",
            "\u001b[0;31mNameError\u001b[0m: name 'model' is not defined"
          ]
        }
      ]
    }
  ]
}