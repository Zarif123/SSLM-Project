{
  "nbformat": 4,
  "nbformat_minor": 0,
  "metadata": {
    "colab": {
      "provenance": [],
      "include_colab_link": true
    },
    "kernelspec": {
      "name": "python3",
      "display_name": "Python 3"
    },
    "language_info": {
      "name": "python"
    }
  },
  "cells": [
    {
      "cell_type": "markdown",
      "metadata": {
        "id": "view-in-github",
        "colab_type": "text"
      },
      "source": [
        "<a href=\"https://colab.research.google.com/github/Zarif123/SSLM-Project/blob/main/chess_model.ipynb\" target=\"_parent\"><img src=\"https://colab.research.google.com/assets/colab-badge.svg\" alt=\"Open In Colab\"/></a>"
      ]
    },
    {
      "cell_type": "code",
      "source": [
        "%%capture\n",
        "!pip install transformers\n",
        "!pip install python-chess"
      ],
      "metadata": {
        "id": "SmP4VhMQYNa3"
      },
      "execution_count": null,
      "outputs": []
    },
    {
      "cell_type": "code",
      "execution_count": null,
      "metadata": {
        "id": "OarbiURKBnK_",
        "colab": {
          "base_uri": "https://localhost:8080/"
        },
        "outputId": "896ce040-3126-4fb8-8f97-0eb07b8eded5"
      },
      "outputs": [
        {
          "output_type": "stream",
          "name": "stdout",
          "text": [
            "Drive already mounted at /content/gdrive; to attempt to forcibly remount, call drive.mount(\"/content/gdrive\", force_remount=True).\n"
          ]
        }
      ],
      "source": [
        "from google.colab import drive\n",
        "drive.mount('/content/gdrive')\n",
        "folder = \"/content/gdrive/MyDrive/Statistical_LM_Group_Folder\"\n",
        "\n",
        "pgn_data_file = \"lichess_db_standard_rated_2017-01.pgn\"\n",
        "pgn_data_path = f\"{folder}/{pgn_data_file}\"\n",
        "\n",
        "csv_file = \"chess_data.csv\"\n",
        "csv_path = f\"{folder}/{csv_file}\""
      ]
    },
    {
      "cell_type": "code",
      "source": [
        "from transformers import AutoTokenizer, BertModel, BertConfig\n",
        "import torch.optim as optim\n",
        "import torch\n",
        "import torch.nn as nn\n",
        "import torch.nn.functional as F\n",
        "import pandas as pd\n",
        "import chess.pgn"
      ],
      "metadata": {
        "id": "C7PY5j9_ZP99"
      },
      "execution_count": null,
      "outputs": []
    },
    {
      "cell_type": "code",
      "source": [
        "def rating_to_bracket(rating):\n",
        "  if rating < 600:\n",
        "    return 0\n",
        "  elif rating >= 600 and rating < 900:\n",
        "    return 1\n",
        "  elif rating >= 900 and rating < 1100:\n",
        "    return 2\n",
        "  elif rating >= 1100 and rating < 1300:\n",
        "    return 3\n",
        "  elif rating >= 1300 and rating < 1500:\n",
        "    return 4\n",
        "  elif rating >= 1500 and rating < 1700:\n",
        "    return 5  \n",
        "  elif rating >= 1700 and rating < 1900:\n",
        "    return 6\n",
        "  elif rating >= 1900 and rating < 2100:\n",
        "    return 7\n",
        "  elif rating >= 2100 and rating < 2300:\n",
        "    return 8\n",
        "  elif rating >= 2300 and rating < 2500:\n",
        "    return 9\n",
        "  elif rating >= 2500:\n",
        "    return 10"
      ],
      "metadata": {
        "id": "Sc_gCTHfqG-9"
      },
      "execution_count": null,
      "outputs": []
    },
    {
      "cell_type": "code",
      "source": [
        "# EDA\n",
        "## Bell Curve of Ratings"
      ],
      "metadata": {
        "id": "i3BcsRDIrlpN"
      },
      "execution_count": null,
      "outputs": []
    },
    {
      "cell_type": "code",
      "source": [
        "# Processing Data\n",
        "data_list = []\n",
        "\n",
        "pgn_data = open(pgn_data_path)\n",
        "for i in range(1, 100000):\n",
        "  game = chess.pgn.read_game(pgn_data)\n",
        "  if game.mainline():\n",
        "    moves = game.mainline() # Original moves\n",
        "    if \"{\" in str(moves):\n",
        "      continue\n",
        "    # move_list = list(map(lambda x: x.san(), moves)) # Parse out evaluations\n",
        "    # for i in range(0, len(move_list)): # Consider numbering differently\n",
        "    #   if i % 2 == 0:\n",
        "    #     move_list[i] = str(i // 2 + 1) + \". \" + move_list[i]\n",
        "    # moves_string = \" \".join(move_list)\n",
        "    avg = (int(game.headers[\"BlackElo\"]) + int(game.headers[\"WhiteElo\"])) // 2 # Average elo\n",
        "    rating_bracket = rating_to_bracket(avg)\n",
        "\n",
        "    data_list.append((moves, rating_bracket))\n",
        "\n",
        "# create df\n",
        "chess_df = pd.DataFrame(data_list, columns=[\"Moves\", \"Rating_Bracket\"])\n",
        "chess_df.to_csv(csv_path, index=False)\n",
        "print(\"Num entries: \", len(chess_df))"
      ],
      "metadata": {
        "colab": {
          "base_uri": "https://localhost:8080/"
        },
        "id": "sWDrpyXSZjOZ",
        "outputId": "25c7ee99-9420-4f71-d193-ed817e752d48"
      },
      "execution_count": null,
      "outputs": [
        {
          "output_type": "stream",
          "name": "stdout",
          "text": [
            "Num entries:  87698\n"
          ]
        }
      ]
    }
  ]
}