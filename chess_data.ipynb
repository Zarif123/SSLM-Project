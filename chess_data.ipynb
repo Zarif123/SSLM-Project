{
  "nbformat": 4,
  "nbformat_minor": 0,
  "metadata": {
    "colab": {
      "provenance": [],
      "include_colab_link": true
    },
    "kernelspec": {
      "name": "python3",
      "display_name": "Python 3"
    },
    "language_info": {
      "name": "python"
    }
  },
  "cells": [
    {
      "cell_type": "markdown",
      "metadata": {
        "id": "view-in-github",
        "colab_type": "text"
      },
      "source": [
        "<a href=\"https://colab.research.google.com/github/Zarif123/SSLM-Project/blob/main/chess_data.ipynb\" target=\"_parent\"><img src=\"https://colab.research.google.com/assets/colab-badge.svg\" alt=\"Open In Colab\"/></a>"
      ]
    },
    {
      "cell_type": "code",
      "source": [
        "%%capture\n",
        "!pip install transformers\n",
        "!pip install python-chess"
      ],
      "metadata": {
        "id": "SmP4VhMQYNa3"
      },
      "execution_count": 22,
      "outputs": []
    },
    {
      "cell_type": "code",
      "execution_count": 27,
      "metadata": {
        "id": "OarbiURKBnK_",
        "outputId": "97113c52-983c-429b-a39f-e4b863965142",
        "colab": {
          "base_uri": "https://localhost:8080/"
        }
      },
      "outputs": [
        {
          "output_type": "stream",
          "name": "stdout",
          "text": [
            "Drive already mounted at /content/gdrive; to attempt to forcibly remount, call drive.mount(\"/content/gdrive\", force_remount=True).\n"
          ]
        }
      ],
      "source": [
        "from google.colab import drive\n",
        "drive.mount('/content/gdrive')\n",
        "\n",
        "pgn_data_file = \"lichess_db_standard_rated_2017-01.pgn\"\n",
        "pgn_data_path = f\"/content/gdrive/MyDrive/Statistical_LM_Group_Folder/{data_file}\""
      ]
    },
    {
      "cell_type": "code",
      "source": [
        "from transformers import AutoTokenizer, BertModel\n",
        "import torch.optim as optim\n",
        "import torch\n",
        "import torch.nn as nn\n",
        "import torch.nn.functional as F\n",
        "\n",
        "import chess.pgn"
      ],
      "metadata": {
        "id": "C7PY5j9_ZP99"
      },
      "execution_count": 28,
      "outputs": []
    },
    {
      "cell_type": "code",
      "source": [
        "pgn_data = open(pgn_data_path)\n",
        "for i in range(10):\n",
        "  game1 = chess.pgn.read_game(pgn_data)"
      ],
      "metadata": {
        "id": "sWDrpyXSZjOZ"
      },
      "execution_count": 31,
      "outputs": []
    },
    {
      "cell_type": "code",
      "source": [
        "print(game1)"
      ],
      "metadata": {
        "id": "5bbepFkdcdfe",
        "outputId": "f1186e65-f449-4d98-c02e-e25f0df96298",
        "colab": {
          "base_uri": "https://localhost:8080/"
        }
      },
      "execution_count": 46,
      "outputs": [
        {
          "output_type": "stream",
          "name": "stdout",
          "text": [
            "[Event \"Rated Classical tournament https://lichess.org/tournament/Ui35r0ty\"]\n",
            "[Site \"https://lichess.org/YTmM2vw0\"]\n",
            "[Date \"????.??.??\"]\n",
            "[Round \"?\"]\n",
            "[White \"Kahonas\"]\n",
            "[Black \"kaminzik\"]\n",
            "[Result \"0-1\"]\n",
            "[BlackElo \"1962\"]\n",
            "[BlackRatingDiff \"+11\"]\n",
            "[ECO \"A46\"]\n",
            "[Opening \"Indian Game: Wade-Tartakower Defense\"]\n",
            "[Termination \"Normal\"]\n",
            "[TimeControl \"600+0\"]\n",
            "[UTCDate \"2016.12.31\"]\n",
            "[UTCTime \"23:00:01\"]\n",
            "[WhiteElo \"1926\"]\n",
            "[WhiteRatingDiff \"-10\"]\n",
            "\n",
            "1. Nf3 d6 2. d4 Nf6 3. c4 g6 4. Nc3 Bg7 5. Bf4 O-O 6. e3 c6 7. Bd3 a6 8. O-O b5 9. Qb3 Bb7 10. cxb5 cxb5 11. Be2 Bc8 12. a4 bxa4 13. Nxa4 Nbd7 14. Nd2 e5 15. dxe5 dxe5 16. Bg5 Rb8 17. Qc3 Bb7 18. Bf3 e4 19. Bxe4 Nxe4 20. Bxd8 Nxc3 21. Nxc3 Rfxd8 22. Nc4 Ne5 23. Nxe5 Bxe5 24. f3 Rd2 25. Rab1 Bc8 26. Na4 Bd7 27. Nc5 Bb5 28. Rfc1 Bxb2 29. Re1 Be5 30. Ne4 Rc2 31. Red1 f5 32. Ng5 Rbc8 33. Rd5 Bf6 34. Ne6 Rc1+ 35. Rxc1 Rxc1+ 36. Kf2 Rf1+ 37. Kg3 Bc4 38. Rd6 Be5+ 39. f4 Bxd6 40. Nd4 a5 41. Nf3 Rxf3+ 42. Kxf3 a4 43. g4 a3 44. gxf5 gxf5 45. h4 a2 46. h5 a1=Q 47. Kg3 Qe1+ 48. Kh3 Qxe3+ 49. Kh4 Qxf4+ 50. Kh3 Qg3# 0-1\n"
          ]
        }
      ]
    }
  ]
}