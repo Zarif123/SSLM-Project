{
  "nbformat": 4,
  "nbformat_minor": 0,
  "metadata": {
    "colab": {
      "provenance": [],
      "gpuType": "T4",
      "include_colab_link": true
    },
    "kernelspec": {
      "name": "python3",
      "display_name": "Python 3"
    },
    "language_info": {
      "name": "python"
    },
    "accelerator": "GPU"
  },
  "cells": [
    {
      "cell_type": "markdown",
      "metadata": {
        "id": "view-in-github",
        "colab_type": "text"
      },
      "source": [
        "<a href=\"https://colab.research.google.com/github/Zarif123/SSLM-Project/blob/main/chess_model_classification.ipynb\" target=\"_parent\"><img src=\"https://colab.research.google.com/assets/colab-badge.svg\" alt=\"Open In Colab\"/></a>"
      ]
    },
    {
      "cell_type": "code",
      "source": [
        "%%capture\n",
        "!pip install transformers\n",
        "!pip install python-chess"
      ],
      "metadata": {
        "id": "SmP4VhMQYNa3"
      },
      "execution_count": 1,
      "outputs": []
    },
    {
      "cell_type": "code",
      "execution_count": 2,
      "metadata": {
        "id": "OarbiURKBnK_",
        "colab": {
          "base_uri": "https://localhost:8080/"
        },
        "outputId": "943f6f82-7d4e-4d92-9308-5b9e83124c92"
      },
      "outputs": [
        {
          "output_type": "stream",
          "name": "stdout",
          "text": [
            "Mounted at /content/gdrive\n"
          ]
        }
      ],
      "source": [
        "from datetime import datetime\n",
        "\n",
        "from google.colab import drive\n",
        "drive.mount('/content/gdrive')\n",
        "folder = \"/content/gdrive/MyDrive/Statistical_LM_Group_Folder\"\n",
        "\n",
        "csv_file = \"chess_data_with_buckets.csv\"\n",
        "csv_path = f\"{folder}/{csv_file}\"\n",
        "\n",
        "\n",
        "now = datetime.now()\n",
        "dt_string = now.strftime(\"%m_%d_%Y_%H_%M\")\n",
        "\n",
        "model_file = \"classifier_model.pth\"\n",
        "datetime = dt_string\n",
        "model_path = f\"{folder}/{datetime}_{model_file}\""
      ]
    },
    {
      "cell_type": "code",
      "source": [
        "from transformers import BertTokenizer, AutoTokenizer, BertModel, BertConfig, get_linear_schedule_with_warmup\n",
        "import torch.optim as optim\n",
        "import torch\n",
        "import torch.nn as nn\n",
        "import torch.nn.functional as F\n",
        "import pandas as pd\n",
        "from tqdm import tqdm\n",
        "import numpy as np\n",
        "from sklearn.model_selection import train_test_split\n",
        "from torch.utils.data import DataLoader\n",
        "from imblearn.under_sampling import RandomUnderSampler"
      ],
      "metadata": {
        "id": "C7PY5j9_ZP99"
      },
      "execution_count": 3,
      "outputs": []
    },
    {
      "cell_type": "markdown",
      "source": [
        "###Parameters"
      ],
      "metadata": {
        "id": "T4jiOnf42l76"
      }
    },
    {
      "cell_type": "code",
      "source": [
        "device = torch.device('cuda' if torch.cuda.is_available() else 'cpu')\n",
        "\n",
        "params = {\n",
        "    \"batch_size\": 4,\n",
        "    \"epochs\": 5,\n",
        "    \"learning_rate\": 0.00003,\n",
        "    \"warmup_steps\": 0.01,\n",
        "    \"epsilon\": 1e-8,\n",
        "    \"accum_iter\": 8,\n",
        "    \"num_classes\": 6,\n",
        "    \"dropout\": 0.5\n",
        "}\n",
        "\n",
        "class Params:\n",
        "  def __init__(self, **kwargs):\n",
        "    for key, value in kwargs.items():\n",
        "      setattr(self, key, value)\n",
        "\n",
        "params = Params(**params)"
      ],
      "metadata": {
        "id": "ky6kpFpn0EF0"
      },
      "execution_count": 4,
      "outputs": []
    },
    {
      "cell_type": "markdown",
      "source": [
        "### Classify Model"
      ],
      "metadata": {
        "id": "Ch3NE1cQ2p9I"
      }
    },
    {
      "cell_type": "code",
      "source": [
        "class BertClassifier(nn.Module):\n",
        "  def __init__(self, dropout=params.dropout, num_classes=params.num_classes):\n",
        "    super(BertClassifier, self).__init__()\n",
        "\n",
        "    self.bert = BertModel.from_pretrained('bert-base-uncased')\n",
        "    self.dropout = nn.Dropout(dropout)\n",
        "    self.linear = nn.Linear(768, num_classes)\n",
        "    # self.relu = nn.ReLU()\n",
        "    self.softmax = nn.LogSoftmax(dim=1)\n",
        "\n",
        "  def forward(self, input_id, mask):\n",
        "    _, pooled_output = self.bert(input_ids= input_id, attention_mask=mask,return_dict=False)\n",
        "    dropout_output = self.dropout(pooled_output)\n",
        "    linear_output = self.linear(dropout_output)\n",
        "    final_layer = self.softmax(linear_output)\n",
        "\n",
        "    return final_layer"
      ],
      "metadata": {
        "id": "lBPTBZJ9wXZw"
      },
      "execution_count": 11,
      "outputs": []
    },
    {
      "cell_type": "markdown",
      "source": [
        "### Dataset Class"
      ],
      "metadata": {
        "id": "S0A41IRS2tFX"
      }
    },
    {
      "cell_type": "code",
      "source": [
        "class ChessDataset(torch.utils.data.Dataset):\n",
        "  def __init__(self, moves, labels):\n",
        "      tokenizer = BertTokenizer.from_pretrained('bert-base-uncased')\n",
        "      self.labels = torch.Tensor(labels.values)\n",
        "      self.moves = [tokenizer(move, \n",
        "                              padding='max_length', max_length = 256, truncation=True,\n",
        "                              return_tensors=\"pt\") for move in moves]\n",
        "\n",
        "  def __len__(self):\n",
        "      return len(self.labels)\n",
        "\n",
        "  def __getitem__(self, idx):\n",
        "      return self.moves[idx], self.labels[idx]"
      ],
      "metadata": {
        "id": "jjod6hIlw0Xg"
      },
      "execution_count": 12,
      "outputs": []
    },
    {
      "cell_type": "markdown",
      "source": [
        "### Training Function"
      ],
      "metadata": {
        "id": "dr7lllaw2vMB"
      }
    },
    {
      "cell_type": "code",
      "source": [
        "def train(model, train_dataloader, val_dataloader, criterion, optimizer):\n",
        "    num_batches = len(train_dataloader)\n",
        "    scheduler = get_linear_schedule_with_warmup(optimizer, num_warmup_steps = params.warmup_steps, num_training_steps = num_batches * params.epochs)\n",
        "    print(f\"Number of batches: {num_batches}\")\n",
        "    for epoch_num in range(params.epochs):\n",
        "        total_acc_train = 0\n",
        "        total_loss_train = 0\n",
        "\n",
        "        for batch_idx, (train_input, train_label) in enumerate(train_dataloader):\n",
        "        #   print(sum(train_input['input_ids'].squeeze(1)[0] == 0))\n",
        "          train_label = train_label.to(device)\n",
        "          mask = train_input['attention_mask'].to(device)\n",
        "          input_id = train_input['input_ids'].squeeze(1).to(device)\n",
        "\n",
        "          output = model(input_id, mask)\n",
        "          \n",
        "          batch_loss = criterion(output, train_label.long())\n",
        "          total_loss_train += batch_loss.item()\n",
        "          \n",
        "          acc = (output.argmax(dim=1) == train_label).sum().item()\n",
        "          total_acc_train += acc\n",
        "\n",
        "          batch_loss.backward()\n",
        "\n",
        "          # Gradient Accumulation\n",
        "          if ((batch_idx + 1) % params.accum_iter == 0) or (batch_idx + 1 == num_batches):\n",
        "            optimizer.step()\n",
        "            scheduler.step()\n",
        "            optimizer.zero_grad()\n",
        "\n",
        "          if batch_idx % 500 == 0:\n",
        "            print(f\"Batch Number: {batch_idx}\")\n",
        "            print(f\"Model Output: {torch.exp(output).tolist()}\")\n",
        "        \n",
        "        total_acc_val = 0\n",
        "        total_loss_val = 0\n",
        "\n",
        "        with torch.no_grad():\n",
        "\n",
        "          for val_input, val_label in val_dataloader:\n",
        "            val_label = val_label.to(device)\n",
        "            mask = val_input['attention_mask'].to(device)\n",
        "            input_id = val_input['input_ids'].squeeze(1).to(device)\n",
        "\n",
        "            output = model(input_id, mask)\n",
        "            \n",
        "            batch_loss = criterion(output, val_label.long())\n",
        "            total_loss_val += batch_loss.item()\n",
        "            \n",
        "            acc = (output.argmax(dim=1) == val_label).sum().item()\n",
        "            total_acc_val += acc\n",
        "        \n",
        "        print(\n",
        "            f'Epochs: {epoch_num + 1} | Train Loss: {total_loss_train / len(train_dataloader): .3f} \\\n",
        "            | Train Accuracy: {total_acc_train / len(train_dataloader) / params.batch_size: .3f} \\\n",
        "            | Val Loss: {total_loss_val / len(val_dataloader): .3f} \\\n",
        "            | Val Accuracy: {total_acc_val / len(val_dataloader) / params.batch_size: .3f}')\n",
        "        \n",
        "        torch.save(model.state_dict(), model_path)"
      ],
      "metadata": {
        "id": "x337jZ5ixgPG"
      },
      "execution_count": 7,
      "outputs": []
    },
    {
      "cell_type": "markdown",
      "source": [
        "### Test Function"
      ],
      "metadata": {
        "id": "Zj8L6NoCNVxi"
      }
    },
    {
      "cell_type": "code",
      "source": [
        "def test(model, test_dataloader):\n",
        "  total_acc_test = 0\n",
        "  with torch.no_grad():\n",
        "    for test_input, test_label in test_dataloader:\n",
        "      test_label = test_label.to(device)\n",
        "      mask = test_input['attention_mask'].to(device)\n",
        "      input_id = test_input['input_ids'].squeeze(1).to(device)\n",
        "\n",
        "      output = model(input_id, mask)\n",
        "      # print(f\"Model Output: {torch.exp(output).tolist()}\")\n",
        "      # print(f\"Prediction: {output.argmax(dim=1).tolist()}, Truth: {test_label.tolist()}\")\n",
        "\n",
        "      acc = (output.argmax(dim=1) == test_label).sum().item()\n",
        "      total_acc_test += acc\n",
        "       \n",
        "    print(f\"Test Accuracy: {total_acc_test / len(test_dataloader): .3f}\")"
      ],
      "metadata": {
        "id": "ullCZNUINYYj"
      },
      "execution_count": 17,
      "outputs": []
    },
    {
      "cell_type": "markdown",
      "source": [
        "### Loading Data"
      ],
      "metadata": {
        "id": "1MoqFHld3kHf"
      }
    },
    {
      "cell_type": "code",
      "source": [
        "%%capture\n",
        "chess_data = pd.read_csv(csv_path)\n",
        "X = chess_data[\"Moves\"]\n",
        "y = chess_data[\"Bucket\"]\n",
        "\n",
        "balancer = RandomUnderSampler()\n",
        "X = X.values.reshape(-1, 1)\n",
        "X, y = balancer.fit_resample(X, y)\n",
        "rating_counts = y.value_counts().sort_index()\n",
        "X = X.flatten()\n",
        "\n",
        "X_train, X_test, y_train, y_test = train_test_split(X, y, test_size=0.2, random_state=7, shuffle=True) # Splits into train/test\n",
        "X_train, X_val, y_train, y_val = train_test_split(X_train, y_train, test_size=0.25, random_state=1, shuffle=True) # Splits train into train/val\n",
        "\n",
        "train_data, val_data, test_data = ChessDataset(X_train, y_train), ChessDataset(X_val, y_val), ChessDataset(X_test, y_test)"
      ],
      "metadata": {
        "id": "Fb7ZFYfU3nPY"
      },
      "execution_count": 13,
      "outputs": []
    },
    {
      "cell_type": "code",
      "source": [
        "rating_counts = y.value_counts().sort_index()\n",
        "rating_counts"
      ],
      "metadata": {
        "id": "XoFWB2KvkTNe",
        "outputId": "fefa8b82-673a-4457-813e-6ad9f4236e12",
        "colab": {
          "base_uri": "https://localhost:8080/"
        }
      },
      "execution_count": 19,
      "outputs": [
        {
          "output_type": "execute_result",
          "data": {
            "text/plain": [
              "0    4208\n",
              "1    4208\n",
              "2    4208\n",
              "3    4208\n",
              "4    4208\n",
              "5    4208\n",
              "Name: Bucket, dtype: int64"
            ]
          },
          "metadata": {},
          "execution_count": 19
        }
      ]
    },
    {
      "cell_type": "code",
      "source": [
        "train_dataloader = torch.utils.data.DataLoader(train_data, batch_size=params.batch_size, shuffle=True)\n",
        "val_dataloader = torch.utils.data.DataLoader(val_data, batch_size=params.batch_size)\n",
        "test_dataloader = torch.utils.data.DataLoader(test_data)"
      ],
      "metadata": {
        "id": "tVa8WpZc6Axi"
      },
      "execution_count": 14,
      "outputs": []
    },
    {
      "cell_type": "markdown",
      "source": [
        "### Initialize Model"
      ],
      "metadata": {
        "id": "k05I66qnvMeB"
      }
    },
    {
      "cell_type": "code",
      "source": [
        "%%capture\n",
        "model = BertClassifier()\n",
        "model = model.to(device)\n",
        "criterion = nn.NLLLoss()\n",
        "optimizer = optim.AdamW(model.parameters(), lr = params.learning_rate)"
      ],
      "metadata": {
        "colab": {
          "base_uri": "https://localhost:8080/",
          "height": 89
        },
        "id": "fLMfD4iz5aWl",
        "outputId": "809525b9-651b-4856-b031-b11cc383ba65"
      },
      "execution_count": null,
      "outputs": [
        {
          "output_type": "stream",
          "name": "stderr",
          "text": [
            "Some weights of the model checkpoint at bert-base-cased were not used when initializing BertModel: ['cls.predictions.transform.dense.weight', 'cls.seq_relationship.weight', 'cls.predictions.decoder.weight', 'cls.predictions.bias', 'cls.seq_relationship.bias', 'cls.predictions.transform.LayerNorm.bias', 'cls.predictions.transform.LayerNorm.weight', 'cls.predictions.transform.dense.bias']\n",
            "- This IS expected if you are initializing BertModel from the checkpoint of a model trained on another task or with another architecture (e.g. initializing a BertForSequenceClassification model from a BertForPreTraining model).\n",
            "- This IS NOT expected if you are initializing BertModel from the checkpoint of a model that you expect to be exactly identical (initializing a BertForSequenceClassification model from a BertForSequenceClassification model).\n"
          ]
        }
      ]
    },
    {
      "cell_type": "markdown",
      "source": [
        "### Run Training"
      ],
      "metadata": {
        "id": "mChdv51O8dC6"
      }
    },
    {
      "cell_type": "code",
      "source": [
        "train(model, train_dataloader, val_dataloader, criterion, optimizer)"
      ],
      "metadata": {
        "id": "pHj36RRX8e0y"
      },
      "execution_count": null,
      "outputs": []
    },
    {
      "cell_type": "markdown",
      "source": [
        "### Run Testing"
      ],
      "metadata": {
        "id": "wH3GOh7rvQTl"
      }
    },
    {
      "cell_type": "code",
      "source": [
        "test_model_name = \"06_02_2023_09_01_classifier_model.pth\"\n",
        "test_model_path = f\"{folder}/{test_model_name}\"\n",
        "\n",
        "test_model = BertClassifier()\n",
        "test_model = test_model.to(device)\n",
        "test_model.load_state_dict(torch.load(test_model_path))\n",
        "test(test_model, test_dataloader)"
      ],
      "metadata": {
        "colab": {
          "base_uri": "https://localhost:8080/"
        },
        "id": "9HSMDah7SZpM",
        "outputId": "0e6de822-a909-453c-85af-1d5aa74eaf99"
      },
      "execution_count": 20,
      "outputs": [
        {
          "output_type": "stream",
          "name": "stderr",
          "text": [
            "Some weights of the model checkpoint at bert-base-uncased were not used when initializing BertModel: ['cls.predictions.transform.LayerNorm.bias', 'cls.predictions.transform.dense.weight', 'cls.predictions.bias', 'cls.seq_relationship.weight', 'cls.predictions.transform.dense.bias', 'cls.seq_relationship.bias', 'cls.predictions.decoder.weight', 'cls.predictions.transform.LayerNorm.weight']\n",
            "- This IS expected if you are initializing BertModel from the checkpoint of a model trained on another task or with another architecture (e.g. initializing a BertForSequenceClassification model from a BertForPreTraining model).\n",
            "- This IS NOT expected if you are initializing BertModel from the checkpoint of a model that you expect to be exactly identical (initializing a BertForSequenceClassification model from a BertForSequenceClassification model).\n"
          ]
        },
        {
          "output_type": "stream",
          "name": "stdout",
          "text": [
            "Test Accuracy:  0.371\n"
          ]
        }
      ]
    }
  ]
}