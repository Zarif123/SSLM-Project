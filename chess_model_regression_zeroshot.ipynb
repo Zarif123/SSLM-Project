{
  "nbformat": 4,
  "nbformat_minor": 0,
  "metadata": {
    "colab": {
      "provenance": [],
      "gpuType": "T4",
      "include_colab_link": true
    },
    "kernelspec": {
      "name": "python3",
      "display_name": "Python 3"
    },
    "language_info": {
      "name": "python"
    },
    "accelerator": "GPU"
  },
  "cells": [
    {
      "cell_type": "markdown",
      "metadata": {
        "id": "view-in-github",
        "colab_type": "text"
      },
      "source": [
        "<a href=\"https://colab.research.google.com/github/Zarif123/SSLM-Project/blob/main/chess_model_regression_zeroshot.ipynb\" target=\"_parent\"><img src=\"https://colab.research.google.com/assets/colab-badge.svg\" alt=\"Open In Colab\"/></a>"
      ]
    },
    {
      "cell_type": "code",
      "source": [
        "%%capture\n",
        "!pip install transformers\n",
        "!pip install python-chess"
      ],
      "metadata": {
        "id": "SmP4VhMQYNa3"
      },
      "execution_count": 252,
      "outputs": []
    },
    {
      "cell_type": "code",
      "execution_count": 253,
      "metadata": {
        "id": "OarbiURKBnK_",
        "colab": {
          "base_uri": "https://localhost:8080/"
        },
        "outputId": "72579bc4-2fee-4202-9518-b1bcf01d5d66"
      },
      "outputs": [
        {
          "output_type": "stream",
          "name": "stdout",
          "text": [
            "Drive already mounted at /content/gdrive; to attempt to forcibly remount, call drive.mount(\"/content/gdrive\", force_remount=True).\n"
          ]
        }
      ],
      "source": [
        "from datetime import datetime\n",
        "\n",
        "from google.colab import drive\n",
        "drive.mount('/content/gdrive')\n",
        "folder = \"/content/gdrive/MyDrive/Statistical_LM_Group_Folder\"\n",
        "\n",
        "csv_file = \"chess_data_with_buckets.csv\"\n",
        "csv_path = f\"{folder}/{csv_file}\"\n",
        "\n",
        "\n",
        "now = datetime.now()\n",
        "dt_string = now.strftime(\"%m_%d_%Y_%H_%M\")\n",
        "\n",
        "model_file = \"regression_model.pth\"\n",
        "datetime = dt_string\n",
        "model_path = f\"{folder}/{datetime}_{model_file}\""
      ]
    },
    {
      "cell_type": "code",
      "source": [
        "from transformers import BertTokenizer, AutoTokenizer, BertModel, BertConfig, get_linear_schedule_with_warmup\n",
        "import torch.optim as optim\n",
        "import torch\n",
        "import torch.nn as nn\n",
        "import torch.nn.functional as F\n",
        "import pandas as pd\n",
        "from tqdm import tqdm\n",
        "import numpy as np\n",
        "from sklearn.model_selection import train_test_split\n",
        "from sklearn.preprocessing import StandardScaler\n",
        "from torch.utils.data import DataLoader\n",
        "from imblearn.under_sampling import RandomUnderSampler"
      ],
      "metadata": {
        "id": "C7PY5j9_ZP99"
      },
      "execution_count": 254,
      "outputs": []
    },
    {
      "cell_type": "markdown",
      "source": [
        "###Parameters"
      ],
      "metadata": {
        "id": "T4jiOnf42l76"
      }
    },
    {
      "cell_type": "code",
      "source": [
        "device = torch.device('cuda' if torch.cuda.is_available() else 'cpu')\n",
        "\n",
        "params = {\n",
        "    \"batch_size\": 1,\n",
        "    \"epochs\": 5,\n",
        "    \"learning_rate\": 0.00003,\n",
        "    \"warmup_steps\": 0.01,\n",
        "    \"epsilon\": 1e-8,\n",
        "    \"accum_iter\": 8,\n",
        "    \"num_classes\": 6,\n",
        "    \"dropout\": 0.5\n",
        "}\n",
        "\n",
        "class Params:\n",
        "  def __init__(self, **kwargs):\n",
        "    for key, value in kwargs.items():\n",
        "      setattr(self, key, value)\n",
        "\n",
        "params = Params(**params)"
      ],
      "metadata": {
        "id": "ky6kpFpn0EF0"
      },
      "execution_count": 255,
      "outputs": []
    },
    {
      "cell_type": "markdown",
      "source": [
        "### Regression Model"
      ],
      "metadata": {
        "id": "Ch3NE1cQ2p9I"
      }
    },
    {
      "cell_type": "code",
      "source": [
        "class BertRegressor(nn.Module):\n",
        "  def __init__(self, dropout=params.dropout):\n",
        "    super(BertRegressor, self).__init__()\n",
        "\n",
        "    self.bert = BertModel.from_pretrained('bert-base-cased')\n",
        "    self.dropout = nn.Dropout(dropout)\n",
        "    self.linear = nn.Linear(768, 1)\n",
        "\n",
        "  def forward(self, input_id, mask):\n",
        "    _, pooled_output = self.bert(input_ids= input_id, attention_mask=mask,return_dict=False)\n",
        "    dropout_output = self.dropout(pooled_output)\n",
        "    linear_output = self.linear(dropout_output)\n",
        "\n",
        "    return linear_output"
      ],
      "metadata": {
        "id": "lBPTBZJ9wXZw"
      },
      "execution_count": 256,
      "outputs": []
    },
    {
      "cell_type": "markdown",
      "source": [
        "### Dataset Class"
      ],
      "metadata": {
        "id": "S0A41IRS2tFX"
      }
    },
    {
      "cell_type": "code",
      "source": [
        "class ChessDataset(torch.utils.data.Dataset):\n",
        "  def __init__(self, moves, labels):\n",
        "      tokenizer = BertTokenizer.from_pretrained('bert-base-cased')\n",
        "      self.labels = torch.Tensor(labels)\n",
        "      self.moves = [tokenizer(move, \n",
        "                              padding='max_length', max_length = 256, truncation=True,\n",
        "                              return_tensors=\"pt\") for move in moves]\n",
        "\n",
        "  def __len__(self):\n",
        "      return len(self.labels)\n",
        "\n",
        "  def __getitem__(self, idx):\n",
        "      return self.moves[idx], self.labels[idx]"
      ],
      "metadata": {
        "id": "jjod6hIlw0Xg"
      },
      "execution_count": 257,
      "outputs": []
    },
    {
      "cell_type": "markdown",
      "source": [
        "### Helper Functions"
      ],
      "metadata": {
        "id": "rLZ23Cgty6G7"
      }
    },
    {
      "cell_type": "code",
      "source": [
        "def rating_to_bucket(rating):\n",
        "  if rating < 1300:\n",
        "    return 0\n",
        "  elif rating >= 1300 and rating < 1500:\n",
        "    return 1\n",
        "  elif rating >= 1500 and rating < 1700:\n",
        "    return 2  \n",
        "  elif rating >= 1700 and rating < 1900:\n",
        "    return 3\n",
        "  elif rating >= 1900 and rating < 2100:\n",
        "    return 4\n",
        "  elif rating >= 2100:\n",
        "    return 5"
      ],
      "metadata": {
        "id": "mN_Stf6vSwM8"
      },
      "execution_count": 258,
      "outputs": []
    },
    {
      "cell_type": "code",
      "source": [
        "def get_metrics(model_output, label):\n",
        "  \"\"\"\n",
        "  Returns accuracy and loss of true ELO values\n",
        "  \"\"\"\n",
        "  \n",
        "  output = model_output.cpu().detach().numpy()\n",
        "  label = label.cpu().detach().numpy()\n",
        "  \n",
        "  pred_rating = torch.Tensor(scaler.inverse_transform(output))\n",
        "  real_rating = torch.Tensor(scaler.inverse_transform(label))\n",
        "  loss = criterion(pred_rating, real_rating)\n",
        "\n",
        "  pred_bucket = np.array(list(map(rating_to_bucket, pred_rating)))\n",
        "  real_bucket = np.array(list(map(rating_to_bucket, real_rating)))\n",
        "\n",
        "  acc = (pred_bucket == real_bucket).sum().item()\n",
        "  return acc, loss"
      ],
      "metadata": {
        "id": "Gvy38caiy7ea"
      },
      "execution_count": 259,
      "outputs": []
    },
    {
      "cell_type": "markdown",
      "source": [
        "### Test Function"
      ],
      "metadata": {
        "id": "Zj8L6NoCNVxi"
      }
    },
    {
      "cell_type": "code",
      "source": [
        "def test(model, test_dataloader, criterion, scaler):\n",
        "  total_acc_test = 0\n",
        "  total_loss_test = 0\n",
        "  with torch.no_grad():\n",
        "    for test_input, test_label in test_dataloader:\n",
        "      test_label = test_label.to(device)\n",
        "      mask = test_input['attention_mask'].to(device)\n",
        "      input_id = test_input['input_ids'].squeeze(1).to(device)\n",
        "\n",
        "      output = model(input_id, mask)\n",
        "      \n",
        "      acc, loss = get_metrics(output, test_label)\n",
        "      total_acc_test += acc\n",
        "      total_loss_test += loss\n",
        "       \n",
        "    print(f\"Test Accuracy: {total_acc_test / len(test_dataloader): .3f}\")\n",
        "    print(f\"Test Loss: {total_loss_test / len(test_dataloader): .3f}\")"
      ],
      "metadata": {
        "id": "ullCZNUINYYj"
      },
      "execution_count": 261,
      "outputs": []
    },
    {
      "cell_type": "markdown",
      "source": [
        "### Loading Data"
      ],
      "metadata": {
        "id": "1MoqFHld3kHf"
      }
    },
    {
      "cell_type": "code",
      "source": [
        "%%capture\n",
        "chess_data = pd.read_csv(csv_path)\n",
        "\n",
        "X = chess_data[\"Moves\"]\n",
        "y = chess_data[\"Elo\"]\n",
        "\n",
        "scaler = StandardScaler()\n",
        "y = scaler.fit_transform(y.values.reshape(-1, 1))\n",
        "\n",
        "test_data = ChessDataset(X, y)\n",
        "test_dataloader = torch.utils.data.DataLoader(test_data)"
      ],
      "metadata": {
        "id": "Fb7ZFYfU3nPY"
      },
      "execution_count": 262,
      "outputs": []
    },
    {
      "cell_type": "markdown",
      "source": [
        "### Initialize Model"
      ],
      "metadata": {
        "id": "k05I66qnvMeB"
      }
    },
    {
      "cell_type": "code",
      "source": [
        "%%capture\n",
        "model = BertRegressor()\n",
        "model = model.to(device)\n",
        "criterion = nn.L1Loss()\n",
        "optimizer = optim.AdamW(model.parameters(), lr = params.learning_rate)"
      ],
      "metadata": {
        "id": "fLMfD4iz5aWl",
        "colab": {
          "base_uri": "https://localhost:8080/"
        },
        "outputId": "4b37ab15-a02d-40e9-bd67-a0e6d7690603"
      },
      "execution_count": 264,
      "outputs": [
        {
          "output_type": "stream",
          "name": "stderr",
          "text": [
            "Some weights of the model checkpoint at bert-base-cased were not used when initializing BertModel: ['cls.predictions.decoder.weight', 'cls.predictions.bias', 'cls.seq_relationship.weight', 'cls.seq_relationship.bias', 'cls.predictions.transform.dense.weight', 'cls.predictions.transform.LayerNorm.weight', 'cls.predictions.transform.dense.bias', 'cls.predictions.transform.LayerNorm.bias']\n",
            "- This IS expected if you are initializing BertModel from the checkpoint of a model trained on another task or with another architecture (e.g. initializing a BertForSequenceClassification model from a BertForPreTraining model).\n",
            "- This IS NOT expected if you are initializing BertModel from the checkpoint of a model that you expect to be exactly identical (initializing a BertForSequenceClassification model from a BertForSequenceClassification model).\n"
          ]
        }
      ]
    },
    {
      "cell_type": "markdown",
      "source": [
        "### Run Testing"
      ],
      "metadata": {
        "id": "wH3GOh7rvQTl"
      }
    },
    {
      "cell_type": "code",
      "source": [
        "# test_model_name = \"06_01_2023_20_27_regression_model.pth\"\n",
        "# test_model_path = f\"{folder}/{test_model_name}\"\n",
        "\n",
        "test_model = BertRegressor()\n",
        "test_model = test_model.to(device)\n",
        "test(test_model, test_dataloader, criterion, scaler)"
      ],
      "metadata": {
        "id": "9HSMDah7SZpM",
        "colab": {
          "base_uri": "https://localhost:8080/"
        },
        "outputId": "f5dbee42-8659-4b9b-f6d1-1f4e2e0f3862"
      },
      "execution_count": 268,
      "outputs": [
        {
          "output_type": "stream",
          "name": "stderr",
          "text": [
            "Some weights of the model checkpoint at bert-base-cased were not used when initializing BertModel: ['cls.predictions.decoder.weight', 'cls.predictions.bias', 'cls.seq_relationship.weight', 'cls.seq_relationship.bias', 'cls.predictions.transform.dense.weight', 'cls.predictions.transform.LayerNorm.weight', 'cls.predictions.transform.dense.bias', 'cls.predictions.transform.LayerNorm.bias']\n",
            "- This IS expected if you are initializing BertModel from the checkpoint of a model trained on another task or with another architecture (e.g. initializing a BertForSequenceClassification model from a BertForPreTraining model).\n",
            "- This IS NOT expected if you are initializing BertModel from the checkpoint of a model that you expect to be exactly identical (initializing a BertForSequenceClassification model from a BertForSequenceClassification model).\n"
          ]
        },
        {
          "output_type": "stream",
          "name": "stdout",
          "text": [
            "Test Accuracy:  0.171\n",
            "Test Loss:  295.760\n"
          ]
        }
      ]
    }
  ]
}