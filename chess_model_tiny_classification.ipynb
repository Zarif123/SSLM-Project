{
  "nbformat": 4,
  "nbformat_minor": 0,
  "metadata": {
    "colab": {
      "provenance": [],
      "gpuType": "T4",
      "include_colab_link": true
    },
    "kernelspec": {
      "name": "python3",
      "display_name": "Python 3"
    },
    "language_info": {
      "name": "python"
    },
    "accelerator": "GPU",
    "widgets": {
      "application/vnd.jupyter.widget-state+json": {
        "c0ef0f5790224fba9e03d5b5e7f7a001": {
          "model_module": "@jupyter-widgets/controls",
          "model_name": "HBoxModel",
          "model_module_version": "1.5.0",
          "state": {
            "_dom_classes": [],
            "_model_module": "@jupyter-widgets/controls",
            "_model_module_version": "1.5.0",
            "_model_name": "HBoxModel",
            "_view_count": null,
            "_view_module": "@jupyter-widgets/controls",
            "_view_module_version": "1.5.0",
            "_view_name": "HBoxView",
            "box_style": "",
            "children": [
              "IPY_MODEL_cfcf4a060cdd45959b27e1618838e60e",
              "IPY_MODEL_1e95dfb95ca24380a9f2eeb027b6a72c",
              "IPY_MODEL_97792ad30d4b454aa8fb8fcca6bb1241"
            ],
            "layout": "IPY_MODEL_193bf3c475cd4360a4023c8acc557717"
          }
        },
        "cfcf4a060cdd45959b27e1618838e60e": {
          "model_module": "@jupyter-widgets/controls",
          "model_name": "HTMLModel",
          "model_module_version": "1.5.0",
          "state": {
            "_dom_classes": [],
            "_model_module": "@jupyter-widgets/controls",
            "_model_module_version": "1.5.0",
            "_model_name": "HTMLModel",
            "_view_count": null,
            "_view_module": "@jupyter-widgets/controls",
            "_view_module_version": "1.5.0",
            "_view_name": "HTMLView",
            "description": "",
            "description_tooltip": null,
            "layout": "IPY_MODEL_017ab9eb5b984fbe9af63b38fa27c95c",
            "placeholder": "​",
            "style": "IPY_MODEL_25475c07e2d54778ab79d2601d5081f5",
            "value": "Downloading (…)lve/main/config.json: 100%"
          }
        },
        "1e95dfb95ca24380a9f2eeb027b6a72c": {
          "model_module": "@jupyter-widgets/controls",
          "model_name": "FloatProgressModel",
          "model_module_version": "1.5.0",
          "state": {
            "_dom_classes": [],
            "_model_module": "@jupyter-widgets/controls",
            "_model_module_version": "1.5.0",
            "_model_name": "FloatProgressModel",
            "_view_count": null,
            "_view_module": "@jupyter-widgets/controls",
            "_view_module_version": "1.5.0",
            "_view_name": "ProgressView",
            "bar_style": "success",
            "description": "",
            "description_tooltip": null,
            "layout": "IPY_MODEL_c69ca230f19d46b4a7f551f55b4f782c",
            "max": 285,
            "min": 0,
            "orientation": "horizontal",
            "style": "IPY_MODEL_4240777ee1c64901be5514ab92767c6e",
            "value": 285
          }
        },
        "97792ad30d4b454aa8fb8fcca6bb1241": {
          "model_module": "@jupyter-widgets/controls",
          "model_name": "HTMLModel",
          "model_module_version": "1.5.0",
          "state": {
            "_dom_classes": [],
            "_model_module": "@jupyter-widgets/controls",
            "_model_module_version": "1.5.0",
            "_model_name": "HTMLModel",
            "_view_count": null,
            "_view_module": "@jupyter-widgets/controls",
            "_view_module_version": "1.5.0",
            "_view_name": "HTMLView",
            "description": "",
            "description_tooltip": null,
            "layout": "IPY_MODEL_319872a6e16b4ba8aa4addb3d20151fb",
            "placeholder": "​",
            "style": "IPY_MODEL_b4ae4ec9d8a744a88b8b714818f8652b",
            "value": " 285/285 [00:00&lt;00:00, 11.2kB/s]"
          }
        },
        "193bf3c475cd4360a4023c8acc557717": {
          "model_module": "@jupyter-widgets/base",
          "model_name": "LayoutModel",
          "model_module_version": "1.2.0",
          "state": {
            "_model_module": "@jupyter-widgets/base",
            "_model_module_version": "1.2.0",
            "_model_name": "LayoutModel",
            "_view_count": null,
            "_view_module": "@jupyter-widgets/base",
            "_view_module_version": "1.2.0",
            "_view_name": "LayoutView",
            "align_content": null,
            "align_items": null,
            "align_self": null,
            "border": null,
            "bottom": null,
            "display": null,
            "flex": null,
            "flex_flow": null,
            "grid_area": null,
            "grid_auto_columns": null,
            "grid_auto_flow": null,
            "grid_auto_rows": null,
            "grid_column": null,
            "grid_gap": null,
            "grid_row": null,
            "grid_template_areas": null,
            "grid_template_columns": null,
            "grid_template_rows": null,
            "height": null,
            "justify_content": null,
            "justify_items": null,
            "left": null,
            "margin": null,
            "max_height": null,
            "max_width": null,
            "min_height": null,
            "min_width": null,
            "object_fit": null,
            "object_position": null,
            "order": null,
            "overflow": null,
            "overflow_x": null,
            "overflow_y": null,
            "padding": null,
            "right": null,
            "top": null,
            "visibility": null,
            "width": null
          }
        },
        "017ab9eb5b984fbe9af63b38fa27c95c": {
          "model_module": "@jupyter-widgets/base",
          "model_name": "LayoutModel",
          "model_module_version": "1.2.0",
          "state": {
            "_model_module": "@jupyter-widgets/base",
            "_model_module_version": "1.2.0",
            "_model_name": "LayoutModel",
            "_view_count": null,
            "_view_module": "@jupyter-widgets/base",
            "_view_module_version": "1.2.0",
            "_view_name": "LayoutView",
            "align_content": null,
            "align_items": null,
            "align_self": null,
            "border": null,
            "bottom": null,
            "display": null,
            "flex": null,
            "flex_flow": null,
            "grid_area": null,
            "grid_auto_columns": null,
            "grid_auto_flow": null,
            "grid_auto_rows": null,
            "grid_column": null,
            "grid_gap": null,
            "grid_row": null,
            "grid_template_areas": null,
            "grid_template_columns": null,
            "grid_template_rows": null,
            "height": null,
            "justify_content": null,
            "justify_items": null,
            "left": null,
            "margin": null,
            "max_height": null,
            "max_width": null,
            "min_height": null,
            "min_width": null,
            "object_fit": null,
            "object_position": null,
            "order": null,
            "overflow": null,
            "overflow_x": null,
            "overflow_y": null,
            "padding": null,
            "right": null,
            "top": null,
            "visibility": null,
            "width": null
          }
        },
        "25475c07e2d54778ab79d2601d5081f5": {
          "model_module": "@jupyter-widgets/controls",
          "model_name": "DescriptionStyleModel",
          "model_module_version": "1.5.0",
          "state": {
            "_model_module": "@jupyter-widgets/controls",
            "_model_module_version": "1.5.0",
            "_model_name": "DescriptionStyleModel",
            "_view_count": null,
            "_view_module": "@jupyter-widgets/base",
            "_view_module_version": "1.2.0",
            "_view_name": "StyleView",
            "description_width": ""
          }
        },
        "c69ca230f19d46b4a7f551f55b4f782c": {
          "model_module": "@jupyter-widgets/base",
          "model_name": "LayoutModel",
          "model_module_version": "1.2.0",
          "state": {
            "_model_module": "@jupyter-widgets/base",
            "_model_module_version": "1.2.0",
            "_model_name": "LayoutModel",
            "_view_count": null,
            "_view_module": "@jupyter-widgets/base",
            "_view_module_version": "1.2.0",
            "_view_name": "LayoutView",
            "align_content": null,
            "align_items": null,
            "align_self": null,
            "border": null,
            "bottom": null,
            "display": null,
            "flex": null,
            "flex_flow": null,
            "grid_area": null,
            "grid_auto_columns": null,
            "grid_auto_flow": null,
            "grid_auto_rows": null,
            "grid_column": null,
            "grid_gap": null,
            "grid_row": null,
            "grid_template_areas": null,
            "grid_template_columns": null,
            "grid_template_rows": null,
            "height": null,
            "justify_content": null,
            "justify_items": null,
            "left": null,
            "margin": null,
            "max_height": null,
            "max_width": null,
            "min_height": null,
            "min_width": null,
            "object_fit": null,
            "object_position": null,
            "order": null,
            "overflow": null,
            "overflow_x": null,
            "overflow_y": null,
            "padding": null,
            "right": null,
            "top": null,
            "visibility": null,
            "width": null
          }
        },
        "4240777ee1c64901be5514ab92767c6e": {
          "model_module": "@jupyter-widgets/controls",
          "model_name": "ProgressStyleModel",
          "model_module_version": "1.5.0",
          "state": {
            "_model_module": "@jupyter-widgets/controls",
            "_model_module_version": "1.5.0",
            "_model_name": "ProgressStyleModel",
            "_view_count": null,
            "_view_module": "@jupyter-widgets/base",
            "_view_module_version": "1.2.0",
            "_view_name": "StyleView",
            "bar_color": null,
            "description_width": ""
          }
        },
        "319872a6e16b4ba8aa4addb3d20151fb": {
          "model_module": "@jupyter-widgets/base",
          "model_name": "LayoutModel",
          "model_module_version": "1.2.0",
          "state": {
            "_model_module": "@jupyter-widgets/base",
            "_model_module_version": "1.2.0",
            "_model_name": "LayoutModel",
            "_view_count": null,
            "_view_module": "@jupyter-widgets/base",
            "_view_module_version": "1.2.0",
            "_view_name": "LayoutView",
            "align_content": null,
            "align_items": null,
            "align_self": null,
            "border": null,
            "bottom": null,
            "display": null,
            "flex": null,
            "flex_flow": null,
            "grid_area": null,
            "grid_auto_columns": null,
            "grid_auto_flow": null,
            "grid_auto_rows": null,
            "grid_column": null,
            "grid_gap": null,
            "grid_row": null,
            "grid_template_areas": null,
            "grid_template_columns": null,
            "grid_template_rows": null,
            "height": null,
            "justify_content": null,
            "justify_items": null,
            "left": null,
            "margin": null,
            "max_height": null,
            "max_width": null,
            "min_height": null,
            "min_width": null,
            "object_fit": null,
            "object_position": null,
            "order": null,
            "overflow": null,
            "overflow_x": null,
            "overflow_y": null,
            "padding": null,
            "right": null,
            "top": null,
            "visibility": null,
            "width": null
          }
        },
        "b4ae4ec9d8a744a88b8b714818f8652b": {
          "model_module": "@jupyter-widgets/controls",
          "model_name": "DescriptionStyleModel",
          "model_module_version": "1.5.0",
          "state": {
            "_model_module": "@jupyter-widgets/controls",
            "_model_module_version": "1.5.0",
            "_model_name": "DescriptionStyleModel",
            "_view_count": null,
            "_view_module": "@jupyter-widgets/base",
            "_view_module_version": "1.2.0",
            "_view_name": "StyleView",
            "description_width": ""
          }
        },
        "5d4ceb8711944524ae53412d044f53b1": {
          "model_module": "@jupyter-widgets/controls",
          "model_name": "HBoxModel",
          "model_module_version": "1.5.0",
          "state": {
            "_dom_classes": [],
            "_model_module": "@jupyter-widgets/controls",
            "_model_module_version": "1.5.0",
            "_model_name": "HBoxModel",
            "_view_count": null,
            "_view_module": "@jupyter-widgets/controls",
            "_view_module_version": "1.5.0",
            "_view_name": "HBoxView",
            "box_style": "",
            "children": [
              "IPY_MODEL_9f072dc5caa049d4a29bfe5922d6e2bf",
              "IPY_MODEL_1ce1a4957fa7465cbda2f83f8a058842",
              "IPY_MODEL_e9f89d13dd7548dca694b29cb744862e"
            ],
            "layout": "IPY_MODEL_2750ac98d4284389a6336e9bc745d5bd"
          }
        },
        "9f072dc5caa049d4a29bfe5922d6e2bf": {
          "model_module": "@jupyter-widgets/controls",
          "model_name": "HTMLModel",
          "model_module_version": "1.5.0",
          "state": {
            "_dom_classes": [],
            "_model_module": "@jupyter-widgets/controls",
            "_model_module_version": "1.5.0",
            "_model_name": "HTMLModel",
            "_view_count": null,
            "_view_module": "@jupyter-widgets/controls",
            "_view_module_version": "1.5.0",
            "_view_name": "HTMLView",
            "description": "",
            "description_tooltip": null,
            "layout": "IPY_MODEL_a4fd0583ee934f2bbb652469e1f9313a",
            "placeholder": "​",
            "style": "IPY_MODEL_e7d38d5920de41189349516b43d417d4",
            "value": "Downloading (…)solve/main/vocab.txt: 100%"
          }
        },
        "1ce1a4957fa7465cbda2f83f8a058842": {
          "model_module": "@jupyter-widgets/controls",
          "model_name": "FloatProgressModel",
          "model_module_version": "1.5.0",
          "state": {
            "_dom_classes": [],
            "_model_module": "@jupyter-widgets/controls",
            "_model_module_version": "1.5.0",
            "_model_name": "FloatProgressModel",
            "_view_count": null,
            "_view_module": "@jupyter-widgets/controls",
            "_view_module_version": "1.5.0",
            "_view_name": "ProgressView",
            "bar_style": "success",
            "description": "",
            "description_tooltip": null,
            "layout": "IPY_MODEL_c12a85dcbd6f4d129cebb1fc35da9bca",
            "max": 231508,
            "min": 0,
            "orientation": "horizontal",
            "style": "IPY_MODEL_e4f75a0773ef49ba94bea14f3ee067ba",
            "value": 231508
          }
        },
        "e9f89d13dd7548dca694b29cb744862e": {
          "model_module": "@jupyter-widgets/controls",
          "model_name": "HTMLModel",
          "model_module_version": "1.5.0",
          "state": {
            "_dom_classes": [],
            "_model_module": "@jupyter-widgets/controls",
            "_model_module_version": "1.5.0",
            "_model_name": "HTMLModel",
            "_view_count": null,
            "_view_module": "@jupyter-widgets/controls",
            "_view_module_version": "1.5.0",
            "_view_name": "HTMLView",
            "description": "",
            "description_tooltip": null,
            "layout": "IPY_MODEL_cc645e9bc3854d4286fc609347340ddb",
            "placeholder": "​",
            "style": "IPY_MODEL_18677979e3d44a438dc4d0e138e6b9ae",
            "value": " 232k/232k [00:00&lt;00:00, 1.87MB/s]"
          }
        },
        "2750ac98d4284389a6336e9bc745d5bd": {
          "model_module": "@jupyter-widgets/base",
          "model_name": "LayoutModel",
          "model_module_version": "1.2.0",
          "state": {
            "_model_module": "@jupyter-widgets/base",
            "_model_module_version": "1.2.0",
            "_model_name": "LayoutModel",
            "_view_count": null,
            "_view_module": "@jupyter-widgets/base",
            "_view_module_version": "1.2.0",
            "_view_name": "LayoutView",
            "align_content": null,
            "align_items": null,
            "align_self": null,
            "border": null,
            "bottom": null,
            "display": null,
            "flex": null,
            "flex_flow": null,
            "grid_area": null,
            "grid_auto_columns": null,
            "grid_auto_flow": null,
            "grid_auto_rows": null,
            "grid_column": null,
            "grid_gap": null,
            "grid_row": null,
            "grid_template_areas": null,
            "grid_template_columns": null,
            "grid_template_rows": null,
            "height": null,
            "justify_content": null,
            "justify_items": null,
            "left": null,
            "margin": null,
            "max_height": null,
            "max_width": null,
            "min_height": null,
            "min_width": null,
            "object_fit": null,
            "object_position": null,
            "order": null,
            "overflow": null,
            "overflow_x": null,
            "overflow_y": null,
            "padding": null,
            "right": null,
            "top": null,
            "visibility": null,
            "width": null
          }
        },
        "a4fd0583ee934f2bbb652469e1f9313a": {
          "model_module": "@jupyter-widgets/base",
          "model_name": "LayoutModel",
          "model_module_version": "1.2.0",
          "state": {
            "_model_module": "@jupyter-widgets/base",
            "_model_module_version": "1.2.0",
            "_model_name": "LayoutModel",
            "_view_count": null,
            "_view_module": "@jupyter-widgets/base",
            "_view_module_version": "1.2.0",
            "_view_name": "LayoutView",
            "align_content": null,
            "align_items": null,
            "align_self": null,
            "border": null,
            "bottom": null,
            "display": null,
            "flex": null,
            "flex_flow": null,
            "grid_area": null,
            "grid_auto_columns": null,
            "grid_auto_flow": null,
            "grid_auto_rows": null,
            "grid_column": null,
            "grid_gap": null,
            "grid_row": null,
            "grid_template_areas": null,
            "grid_template_columns": null,
            "grid_template_rows": null,
            "height": null,
            "justify_content": null,
            "justify_items": null,
            "left": null,
            "margin": null,
            "max_height": null,
            "max_width": null,
            "min_height": null,
            "min_width": null,
            "object_fit": null,
            "object_position": null,
            "order": null,
            "overflow": null,
            "overflow_x": null,
            "overflow_y": null,
            "padding": null,
            "right": null,
            "top": null,
            "visibility": null,
            "width": null
          }
        },
        "e7d38d5920de41189349516b43d417d4": {
          "model_module": "@jupyter-widgets/controls",
          "model_name": "DescriptionStyleModel",
          "model_module_version": "1.5.0",
          "state": {
            "_model_module": "@jupyter-widgets/controls",
            "_model_module_version": "1.5.0",
            "_model_name": "DescriptionStyleModel",
            "_view_count": null,
            "_view_module": "@jupyter-widgets/base",
            "_view_module_version": "1.2.0",
            "_view_name": "StyleView",
            "description_width": ""
          }
        },
        "c12a85dcbd6f4d129cebb1fc35da9bca": {
          "model_module": "@jupyter-widgets/base",
          "model_name": "LayoutModel",
          "model_module_version": "1.2.0",
          "state": {
            "_model_module": "@jupyter-widgets/base",
            "_model_module_version": "1.2.0",
            "_model_name": "LayoutModel",
            "_view_count": null,
            "_view_module": "@jupyter-widgets/base",
            "_view_module_version": "1.2.0",
            "_view_name": "LayoutView",
            "align_content": null,
            "align_items": null,
            "align_self": null,
            "border": null,
            "bottom": null,
            "display": null,
            "flex": null,
            "flex_flow": null,
            "grid_area": null,
            "grid_auto_columns": null,
            "grid_auto_flow": null,
            "grid_auto_rows": null,
            "grid_column": null,
            "grid_gap": null,
            "grid_row": null,
            "grid_template_areas": null,
            "grid_template_columns": null,
            "grid_template_rows": null,
            "height": null,
            "justify_content": null,
            "justify_items": null,
            "left": null,
            "margin": null,
            "max_height": null,
            "max_width": null,
            "min_height": null,
            "min_width": null,
            "object_fit": null,
            "object_position": null,
            "order": null,
            "overflow": null,
            "overflow_x": null,
            "overflow_y": null,
            "padding": null,
            "right": null,
            "top": null,
            "visibility": null,
            "width": null
          }
        },
        "e4f75a0773ef49ba94bea14f3ee067ba": {
          "model_module": "@jupyter-widgets/controls",
          "model_name": "ProgressStyleModel",
          "model_module_version": "1.5.0",
          "state": {
            "_model_module": "@jupyter-widgets/controls",
            "_model_module_version": "1.5.0",
            "_model_name": "ProgressStyleModel",
            "_view_count": null,
            "_view_module": "@jupyter-widgets/base",
            "_view_module_version": "1.2.0",
            "_view_name": "StyleView",
            "bar_color": null,
            "description_width": ""
          }
        },
        "cc645e9bc3854d4286fc609347340ddb": {
          "model_module": "@jupyter-widgets/base",
          "model_name": "LayoutModel",
          "model_module_version": "1.2.0",
          "state": {
            "_model_module": "@jupyter-widgets/base",
            "_model_module_version": "1.2.0",
            "_model_name": "LayoutModel",
            "_view_count": null,
            "_view_module": "@jupyter-widgets/base",
            "_view_module_version": "1.2.0",
            "_view_name": "LayoutView",
            "align_content": null,
            "align_items": null,
            "align_self": null,
            "border": null,
            "bottom": null,
            "display": null,
            "flex": null,
            "flex_flow": null,
            "grid_area": null,
            "grid_auto_columns": null,
            "grid_auto_flow": null,
            "grid_auto_rows": null,
            "grid_column": null,
            "grid_gap": null,
            "grid_row": null,
            "grid_template_areas": null,
            "grid_template_columns": null,
            "grid_template_rows": null,
            "height": null,
            "justify_content": null,
            "justify_items": null,
            "left": null,
            "margin": null,
            "max_height": null,
            "max_width": null,
            "min_height": null,
            "min_width": null,
            "object_fit": null,
            "object_position": null,
            "order": null,
            "overflow": null,
            "overflow_x": null,
            "overflow_y": null,
            "padding": null,
            "right": null,
            "top": null,
            "visibility": null,
            "width": null
          }
        },
        "18677979e3d44a438dc4d0e138e6b9ae": {
          "model_module": "@jupyter-widgets/controls",
          "model_name": "DescriptionStyleModel",
          "model_module_version": "1.5.0",
          "state": {
            "_model_module": "@jupyter-widgets/controls",
            "_model_module_version": "1.5.0",
            "_model_name": "DescriptionStyleModel",
            "_view_count": null,
            "_view_module": "@jupyter-widgets/base",
            "_view_module_version": "1.2.0",
            "_view_name": "StyleView",
            "description_width": ""
          }
        }
      }
    }
  },
  "cells": [
    {
      "cell_type": "markdown",
      "metadata": {
        "id": "view-in-github",
        "colab_type": "text"
      },
      "source": [
        "<a href=\"https://colab.research.google.com/github/Zarif123/SSLM-Project/blob/main/chess_model_tiny_classification.ipynb\" target=\"_parent\"><img src=\"https://colab.research.google.com/assets/colab-badge.svg\" alt=\"Open In Colab\"/></a>"
      ]
    },
    {
      "cell_type": "code",
      "source": [
        "%%capture\n",
        "!pip install transformers\n",
        "!pip install python-chess"
      ],
      "metadata": {
        "id": "SmP4VhMQYNa3"
      },
      "execution_count": 12,
      "outputs": []
    },
    {
      "cell_type": "code",
      "execution_count": 13,
      "metadata": {
        "id": "OarbiURKBnK_",
        "colab": {
          "base_uri": "https://localhost:8080/"
        },
        "outputId": "70951e59-2927-4529-8034-20a270c79594"
      },
      "outputs": [
        {
          "output_type": "stream",
          "name": "stdout",
          "text": [
            "Drive already mounted at /content/gdrive; to attempt to forcibly remount, call drive.mount(\"/content/gdrive\", force_remount=True).\n"
          ]
        }
      ],
      "source": [
        "from datetime import datetime\n",
        "\n",
        "from google.colab import drive\n",
        "drive.mount('/content/gdrive')\n",
        "folder = \"/content/gdrive/MyDrive/Statistical_LM_Group_Folder\"\n",
        "\n",
        "csv_file = \"chess_data_with_buckets.csv\"\n",
        "csv_path = f\"{folder}/{csv_file}\"\n",
        "\n",
        "\n",
        "now = datetime.now()\n",
        "dt_string = now.strftime(\"%m_%d_%Y_%H_%M\")\n",
        "\n",
        "model_file = \"classifier_model.pth\"\n",
        "datetime = dt_string\n",
        "model_path = f\"{folder}/{datetime}_{model_file}\""
      ]
    },
    {
      "cell_type": "code",
      "source": [
        "from transformers import BertTokenizer, AutoTokenizer, BertModel, BertConfig, get_linear_schedule_with_warmup, AutoModel\n",
        "import torch.optim as optim\n",
        "import torch\n",
        "import torch.nn as nn\n",
        "import torch.nn.functional as F\n",
        "import pandas as pd\n",
        "from tqdm import tqdm\n",
        "import numpy as np\n",
        "from sklearn.model_selection import train_test_split\n",
        "from torch.utils.data import DataLoader\n",
        "from imblearn.under_sampling import RandomUnderSampler\n",
        "from imblearn.over_sampling import RandomOverSampler"
      ],
      "metadata": {
        "id": "C7PY5j9_ZP99"
      },
      "execution_count": 14,
      "outputs": []
    },
    {
      "cell_type": "markdown",
      "source": [
        "###Parameters"
      ],
      "metadata": {
        "id": "T4jiOnf42l76"
      }
    },
    {
      "cell_type": "code",
      "source": [
        "device = torch.device('cuda' if torch.cuda.is_available() else 'cpu')\n",
        "\n",
        "params = {\n",
        "    \"batch_size\": 8,\n",
        "    \"epochs\": 20,\n",
        "    \"learning_rate\": 0.00003,\n",
        "    \"warmup_steps\": 0.01,\n",
        "    \"accum_iter\": 16,\n",
        "    \"num_classes\": 6,\n",
        "    \"dropout\": 0.5\n",
        "}\n",
        "\n",
        "class Params:\n",
        "  def __init__(self, **kwargs):\n",
        "    for key, value in kwargs.items():\n",
        "      setattr(self, key, value)\n",
        "\n",
        "params = Params(**params)"
      ],
      "metadata": {
        "id": "ky6kpFpn0EF0"
      },
      "execution_count": 15,
      "outputs": []
    },
    {
      "cell_type": "markdown",
      "source": [
        "### Classify Model"
      ],
      "metadata": {
        "id": "Ch3NE1cQ2p9I"
      }
    },
    {
      "cell_type": "code",
      "source": [
        "class BertClassifier(nn.Module):\n",
        "  def __init__(self, dropout=params.dropout, num_classes=params.num_classes):\n",
        "    super(BertClassifier, self).__init__()\n",
        "\n",
        "    self.bert = AutoModel.from_pretrained(\"prajjwal1/bert-tiny\")\n",
        "    self.dropout = nn.Dropout(dropout)\n",
        "    self.linear = nn.Linear(128, num_classes)\n",
        "    # self.relu = nn.ReLU()\n",
        "    self.softmax = nn.LogSoftmax(dim=1)\n",
        "\n",
        "  def forward(self, input_id, mask):\n",
        "    _, pooled_output = self.bert(input_ids= input_id, attention_mask=mask,return_dict=False)\n",
        "    dropout_output = self.dropout(pooled_output)\n",
        "    linear_output = self.linear(dropout_output)\n",
        "    final_layer = self.softmax(linear_output)\n",
        "\n",
        "    return final_layer"
      ],
      "metadata": {
        "id": "lBPTBZJ9wXZw"
      },
      "execution_count": 16,
      "outputs": []
    },
    {
      "cell_type": "markdown",
      "source": [
        "### Dataset Class"
      ],
      "metadata": {
        "id": "S0A41IRS2tFX"
      }
    },
    {
      "cell_type": "code",
      "source": [
        "class ChessDataset(torch.utils.data.Dataset):\n",
        "  def __init__(self, moves, labels):\n",
        "      tokenizer = AutoTokenizer.from_pretrained(\"prajjwal1/bert-tiny\")\n",
        "      self.labels = torch.Tensor(labels.values)\n",
        "      self.moves = [tokenizer(move, \n",
        "                              padding='max_length', max_length = 256, truncation=True,\n",
        "                              return_tensors=\"pt\") for move in moves]\n",
        "\n",
        "  def __len__(self):\n",
        "      return len(self.labels)\n",
        "\n",
        "  def __getitem__(self, idx):\n",
        "      return self.moves[idx], self.labels[idx]"
      ],
      "metadata": {
        "id": "jjod6hIlw0Xg"
      },
      "execution_count": 17,
      "outputs": []
    },
    {
      "cell_type": "markdown",
      "source": [
        "### Training Function"
      ],
      "metadata": {
        "id": "dr7lllaw2vMB"
      }
    },
    {
      "cell_type": "code",
      "source": [
        "def train(model, train_dataloader, val_dataloader, criterion, optimizer):\n",
        "    num_batches = len(train_dataloader)\n",
        "    scheduler = get_linear_schedule_with_warmup(optimizer, num_warmup_steps = params.warmup_steps, num_training_steps = num_batches * params.epochs)\n",
        "    print(f\"Number of batches: {num_batches}\")\n",
        "    for epoch_num in range(params.epochs):\n",
        "        total_acc_train = 0\n",
        "        total_loss_train = 0\n",
        "\n",
        "        for batch_idx, (train_input, train_label) in enumerate(train_dataloader):\n",
        "        #   print(sum(train_input['input_ids'].squeeze(1)[0] == 0))\n",
        "          train_label = train_label.to(device)\n",
        "          mask = train_input['attention_mask'].to(device)\n",
        "          input_id = train_input['input_ids'].squeeze(1).to(device)\n",
        "\n",
        "          output = model(input_id, mask)\n",
        "          \n",
        "          batch_loss = criterion(output, train_label.long())\n",
        "          total_loss_train += batch_loss.item()\n",
        "          \n",
        "          acc = (output.argmax(dim=1) == train_label).sum().item()\n",
        "          total_acc_train += acc\n",
        "\n",
        "          batch_loss.backward()\n",
        "\n",
        "          # Gradient Accumulation\n",
        "          if ((batch_idx + 1) % params.accum_iter == 0) or (batch_idx + 1 == num_batches):\n",
        "            optimizer.step()\n",
        "            scheduler.step()\n",
        "            optimizer.zero_grad()\n",
        "\n",
        "          if batch_idx % 5000 == 0:\n",
        "            print(f\"Batch Number: {batch_idx}\")\n",
        "            print(f\"Model Output: {torch.exp(output).tolist()}\")\n",
        "        \n",
        "        total_acc_val = 0\n",
        "        total_loss_val = 0\n",
        "\n",
        "        with torch.no_grad():\n",
        "\n",
        "          for val_input, val_label in val_dataloader:\n",
        "            val_label = val_label.to(device)\n",
        "            mask = val_input['attention_mask'].to(device)\n",
        "            input_id = val_input['input_ids'].squeeze(1).to(device)\n",
        "\n",
        "            output = model(input_id, mask)\n",
        "            \n",
        "            batch_loss = criterion(output, val_label.long())\n",
        "            total_loss_val += batch_loss.item()\n",
        "            \n",
        "            acc = (output.argmax(dim=1) == val_label).sum().item()\n",
        "            total_acc_val += acc\n",
        "        \n",
        "        print(\n",
        "            f'Epochs: {epoch_num + 1} | Train Loss: {total_loss_train / len(train_dataloader): .3f} \\\n",
        "            | Train Accuracy: {total_acc_train / len(train_dataloader) / params.batch_size: .3f} \\\n",
        "            | Val Loss: {total_loss_val / len(val_dataloader): .3f} \\\n",
        "            | Val Accuracy: {total_acc_val / len(val_dataloader) / params.batch_size: .3f}')\n",
        "        \n",
        "        torch.save(model.state_dict(), model_path)"
      ],
      "metadata": {
        "id": "x337jZ5ixgPG"
      },
      "execution_count": 26,
      "outputs": []
    },
    {
      "cell_type": "markdown",
      "source": [
        "### Test Function"
      ],
      "metadata": {
        "id": "Zj8L6NoCNVxi"
      }
    },
    {
      "cell_type": "code",
      "source": [
        "def test(model, test_dataloader):\n",
        "  total_acc_test = 0\n",
        "  with torch.no_grad():\n",
        "    for test_input, test_label in test_dataloader:\n",
        "      test_label = test_label.to(device)\n",
        "      mask = test_input['attention_mask'].to(device)\n",
        "      input_id = test_input['input_ids'].squeeze(1).to(device)\n",
        "\n",
        "      output = model(input_id, mask)\n",
        "      # print(f\"Model Output: {torch.exp(output).tolist()}\")\n",
        "      # print(f\"Prediction: {output.argmax(dim=1).tolist()}, Truth: {test_label.tolist()}\")\n",
        "\n",
        "      acc = (output.argmax(dim=1) == test_label).sum().item()\n",
        "      total_acc_test += acc\n",
        "       \n",
        "    print(f\"Test Accuracy: {total_acc_test / len(test_dataloader): .3f}\")"
      ],
      "metadata": {
        "id": "ullCZNUINYYj"
      },
      "execution_count": 19,
      "outputs": []
    },
    {
      "cell_type": "markdown",
      "source": [
        "### Loading Data"
      ],
      "metadata": {
        "id": "1MoqFHld3kHf"
      }
    },
    {
      "cell_type": "code",
      "source": [
        "%%capture\n",
        "chess_data = pd.read_csv(csv_path)\n",
        "X = chess_data[\"Moves\"]\n",
        "y = chess_data[\"Bucket\"]\n",
        "\n",
        "balancer = RandomOverSampler()\n",
        "X = X.values.reshape(-1, 1)\n",
        "X, y = balancer.fit_resample(X, y)\n",
        "rating_counts = y.value_counts().sort_index()\n",
        "X = X.flatten()\n",
        "\n",
        "X_train, X_test, y_train, y_test = train_test_split(X, y, test_size=0.2, random_state=7, shuffle=True) # Splits into train/test\n",
        "X_train, X_val, y_train, y_val = train_test_split(X_train, y_train, test_size=0.25, random_state=1, shuffle=True) # Splits train into train/val"
      ],
      "metadata": {
        "id": "Fb7ZFYfU3nPY"
      },
      "execution_count": 20,
      "outputs": []
    },
    {
      "cell_type": "code",
      "source": [
        "train_data, val_data, test_data = ChessDataset(X_train, y_train), ChessDataset(X_val, y_val), ChessDataset(X_test, y_test)"
      ],
      "metadata": {
        "id": "ykScPcfAxGtF",
        "outputId": "c39a0bcf-5b15-429e-89a4-04b88a4ca13b",
        "colab": {
          "base_uri": "https://localhost:8080/",
          "height": 81,
          "referenced_widgets": [
            "c0ef0f5790224fba9e03d5b5e7f7a001",
            "cfcf4a060cdd45959b27e1618838e60e",
            "1e95dfb95ca24380a9f2eeb027b6a72c",
            "97792ad30d4b454aa8fb8fcca6bb1241",
            "193bf3c475cd4360a4023c8acc557717",
            "017ab9eb5b984fbe9af63b38fa27c95c",
            "25475c07e2d54778ab79d2601d5081f5",
            "c69ca230f19d46b4a7f551f55b4f782c",
            "4240777ee1c64901be5514ab92767c6e",
            "319872a6e16b4ba8aa4addb3d20151fb",
            "b4ae4ec9d8a744a88b8b714818f8652b",
            "5d4ceb8711944524ae53412d044f53b1",
            "9f072dc5caa049d4a29bfe5922d6e2bf",
            "1ce1a4957fa7465cbda2f83f8a058842",
            "e9f89d13dd7548dca694b29cb744862e",
            "2750ac98d4284389a6336e9bc745d5bd",
            "a4fd0583ee934f2bbb652469e1f9313a",
            "e7d38d5920de41189349516b43d417d4",
            "c12a85dcbd6f4d129cebb1fc35da9bca",
            "e4f75a0773ef49ba94bea14f3ee067ba",
            "cc645e9bc3854d4286fc609347340ddb",
            "18677979e3d44a438dc4d0e138e6b9ae"
          ]
        }
      },
      "execution_count": 21,
      "outputs": [
        {
          "output_type": "display_data",
          "data": {
            "text/plain": [
              "Downloading (…)lve/main/config.json:   0%|          | 0.00/285 [00:00<?, ?B/s]"
            ],
            "application/vnd.jupyter.widget-view+json": {
              "version_major": 2,
              "version_minor": 0,
              "model_id": "c0ef0f5790224fba9e03d5b5e7f7a001"
            }
          },
          "metadata": {}
        },
        {
          "output_type": "display_data",
          "data": {
            "text/plain": [
              "Downloading (…)solve/main/vocab.txt:   0%|          | 0.00/232k [00:00<?, ?B/s]"
            ],
            "application/vnd.jupyter.widget-view+json": {
              "version_major": 2,
              "version_minor": 0,
              "model_id": "5d4ceb8711944524ae53412d044f53b1"
            }
          },
          "metadata": {}
        }
      ]
    },
    {
      "cell_type": "code",
      "source": [
        "rating_counts"
      ],
      "metadata": {
        "colab": {
          "base_uri": "https://localhost:8080/"
        },
        "id": "XoFWB2KvkTNe",
        "outputId": "474748aa-91eb-4e7a-cc2b-6a9d70c85bf7"
      },
      "execution_count": 22,
      "outputs": [
        {
          "output_type": "execute_result",
          "data": {
            "text/plain": [
              "0    25064\n",
              "1    25064\n",
              "2    25064\n",
              "3    25064\n",
              "4    25064\n",
              "5    25064\n",
              "Name: Bucket, dtype: int64"
            ]
          },
          "metadata": {},
          "execution_count": 22
        }
      ]
    },
    {
      "cell_type": "code",
      "source": [
        "train_dataloader = torch.utils.data.DataLoader(train_data, batch_size=params.batch_size, shuffle=True)\n",
        "val_dataloader = torch.utils.data.DataLoader(val_data, batch_size=params.batch_size)\n",
        "test_dataloader = torch.utils.data.DataLoader(test_data)"
      ],
      "metadata": {
        "id": "tVa8WpZc6Axi"
      },
      "execution_count": 23,
      "outputs": []
    },
    {
      "cell_type": "markdown",
      "source": [
        "### Initialize Model"
      ],
      "metadata": {
        "id": "k05I66qnvMeB"
      }
    },
    {
      "cell_type": "code",
      "source": [
        "%%capture\n",
        "# train_model_name = \"06_01_2023_20_16_classifier_model.pth\"\n",
        "# train_model_path = f\"{folder}/{train_model_name}\"\n",
        "\n",
        "model = BertClassifier()\n",
        "model = model.to(device)\n",
        "# model.load_state_dict(torch.load(train_model_path))\n",
        "criterion = nn.NLLLoss()\n",
        "optimizer = optim.AdamW(model.parameters(), lr = params.learning_rate)"
      ],
      "metadata": {
        "colab": {
          "base_uri": "https://localhost:8080/",
          "height": 91
        },
        "id": "fLMfD4iz5aWl",
        "outputId": "deffb398-d40a-4cab-c3d9-b6d8abcd2d7e"
      },
      "execution_count": 24,
      "outputs": [
        {
          "output_type": "stream",
          "name": "stderr",
          "text": [
            "Some weights of the model checkpoint at prajjwal1/bert-tiny were not used when initializing BertModel: ['cls.predictions.transform.dense.weight', 'cls.predictions.transform.dense.bias', 'cls.predictions.decoder.weight', 'cls.predictions.transform.LayerNorm.bias', 'cls.predictions.transform.LayerNorm.weight', 'cls.seq_relationship.bias', 'cls.predictions.decoder.bias', 'cls.seq_relationship.weight', 'cls.predictions.bias']\n",
            "- This IS expected if you are initializing BertModel from the checkpoint of a model trained on another task or with another architecture (e.g. initializing a BertForSequenceClassification model from a BertForPreTraining model).\n",
            "- This IS NOT expected if you are initializing BertModel from the checkpoint of a model that you expect to be exactly identical (initializing a BertForSequenceClassification model from a BertForSequenceClassification model).\n"
          ]
        }
      ]
    },
    {
      "cell_type": "markdown",
      "source": [
        "### Run Training"
      ],
      "metadata": {
        "id": "mChdv51O8dC6"
      }
    },
    {
      "cell_type": "code",
      "source": [
        "train(model, train_dataloader, val_dataloader, criterion, optimizer)"
      ],
      "metadata": {
        "colab": {
          "base_uri": "https://localhost:8080/"
        },
        "id": "pHj36RRX8e0y",
        "outputId": "676ca040-a66c-43dc-b928-a522280e7f59"
      },
      "execution_count": 27,
      "outputs": [
        {
          "output_type": "stream",
          "name": "stdout",
          "text": [
            "Number of batches: 11279\n",
            "Batch Number: 0\n",
            "Model Output: [[0.290083110332489, 0.42734667658805847, 0.12983466684818268, 0.07247023284435272, 0.035422202199697495, 0.04484311863780022], [0.10185884684324265, 0.1277312934398651, 0.15610696375370026, 0.1493721306324005, 0.2425023764371872, 0.22242847084999084], [0.08438989520072937, 0.13593240082263947, 0.13759219646453857, 0.18474352359771729, 0.259248822927475, 0.1980932205915451], [0.22524383664131165, 0.24203325808048248, 0.13286098837852478, 0.15800943970680237, 0.16780216991901398, 0.07405032217502594], [0.22475476562976837, 0.17913497984409332, 0.32128649950027466, 0.14596456289291382, 0.0837019830942154, 0.045157212764024734], [0.3013328015804291, 0.269402414560318, 0.19652166962623596, 0.10194465517997742, 0.0786416083574295, 0.05215692147612572], [0.4101639688014984, 0.21283727884292603, 0.1860787719488144, 0.08852023631334305, 0.06886595487594604, 0.033533692359924316], [0.31712594628334045, 0.28138279914855957, 0.2182641476392746, 0.09319264441728592, 0.051522575318813324, 0.03851185366511345]]\n",
            "Batch Number: 5000\n",
            "Model Output: [[0.33405110239982605, 0.26738831400871277, 0.13414812088012695, 0.11785183101892471, 0.06991465389728546, 0.07664595544338226], [0.024928398430347443, 0.04873869940638542, 0.0818062424659729, 0.1749277561903, 0.1954210251569748, 0.47417786717414856], [0.08104520291090012, 0.11174333095550537, 0.17010915279388428, 0.19835232198238373, 0.20786374807357788, 0.23088623583316803], [0.007914253510534763, 0.04627435654401779, 0.04636736586689949, 0.08013350516557693, 0.27453184127807617, 0.5447787046432495], [0.17426295578479767, 0.2513144910335541, 0.20723655819892883, 0.1626206636428833, 0.10305758565664291, 0.10150770843029022], [0.06884145736694336, 0.12611033022403717, 0.1941554993391037, 0.2289510816335678, 0.22360050678253174, 0.15834106504917145], [0.04020516201853752, 0.11917918175458908, 0.23860029876232147, 0.27854710817337036, 0.16096998751163483, 0.16249819099903107], [0.46868619322776794, 0.2790278196334839, 0.16744005680084229, 0.024446722120046616, 0.03664008900523186, 0.023759223520755768]]\n",
            "Batch Number: 10000\n",
            "Model Output: [[0.027983948588371277, 0.05571557581424713, 0.10835003107786179, 0.21620260179042816, 0.29576733708381653, 0.2959805130958557], [0.08944214135408401, 0.20496143400669098, 0.1339685171842575, 0.2005082368850708, 0.18185801804065704, 0.18926160037517548], [0.11608247458934784, 0.22358636558055878, 0.22959275543689728, 0.21058079600334167, 0.11990407109260559, 0.10025356709957123], [0.07048337906599045, 0.13407771289348602, 0.12135371565818787, 0.19413122534751892, 0.23480524122714996, 0.24514873325824738], [0.3590145707130432, 0.2690882384777069, 0.203730508685112, 0.08048533648252487, 0.04824431985616684, 0.03943707421422005], [0.038965463638305664, 0.0588284395635128, 0.19783955812454224, 0.2782934904098511, 0.21700157225131989, 0.20907141268253326], [0.016421319916844368, 0.05295943096280098, 0.06109802424907684, 0.21956363320350647, 0.23244760930538177, 0.4175100028514862], [0.006576388143002987, 0.039768051356077194, 0.07696208357810974, 0.22517447173595428, 0.2086925059556961, 0.44282636046409607]]\n",
            "Epochs: 1 | Train Loss:  1.589             | Train Accuracy:  0.303             | Val Loss:  1.569             | Val Accuracy:  0.312\n",
            "Batch Number: 0\n",
            "Model Output: [[0.05572500824928284, 0.13126912713050842, 0.20660023391246796, 0.19249707460403442, 0.23559288680553436, 0.17831572890281677], [0.008922652341425419, 0.047343119978904724, 0.14235930144786835, 0.18172650039196014, 0.4201001524925232, 0.19954819977283478], [0.14434772729873657, 0.1788274198770523, 0.2140580415725708, 0.19722874462604523, 0.10714267194271088, 0.15839533507823944], [0.22214503586292267, 0.25178033113479614, 0.277052104473114, 0.1490079015493393, 0.06444557011127472, 0.035568997263908386], [0.04653671756386757, 0.10675965249538422, 0.09914342314004898, 0.19537198543548584, 0.2701917588710785, 0.28199630975723267], [0.1858922839164734, 0.16419149935245514, 0.19176237285137177, 0.17923302948474884, 0.11186178773641586, 0.16705894470214844], [0.03894787281751633, 0.10053150355815887, 0.1748484969139099, 0.2187209278345108, 0.2581859827041626, 0.20876525342464447], [0.03807852789759636, 0.10824143141508102, 0.11125566065311432, 0.252371221780777, 0.2844705283641815, 0.2055826485157013]]\n",
            "Batch Number: 5000\n",
            "Model Output: [[0.21091903746128082, 0.2138274908065796, 0.24230694770812988, 0.16194504499435425, 0.08592602610588074, 0.08507537841796875], [0.05654634162783623, 0.10893303900957108, 0.1662771850824356, 0.22780397534370422, 0.2077983170747757, 0.2326411008834839], [0.44814056158065796, 0.2909547984600067, 0.165160670876503, 0.05752582848072052, 0.022710200399160385, 0.015508025884628296], [0.018132613971829414, 0.06682106852531433, 0.09156457334756851, 0.22986052930355072, 0.30816957354545593, 0.28545165061950684], [0.028875745832920074, 0.08114626258611679, 0.1336229145526886, 0.2981952726840973, 0.23722992837429047, 0.2209298312664032], [0.1429988592863083, 0.2155865579843521, 0.34655851125717163, 0.15605339407920837, 0.08369076997041702, 0.05511198192834854], [0.08058785647153854, 0.09619370847940445, 0.33617332577705383, 0.23517797887325287, 0.13625045120716095, 0.11561676859855652], [0.07059059292078018, 0.17343460023403168, 0.22669178247451782, 0.18805424869060516, 0.20229580998420715, 0.13893285393714905]]\n",
            "Batch Number: 10000\n",
            "Model Output: [[0.16168631613254547, 0.17998404800891876, 0.11879965662956238, 0.19568221271038055, 0.12370752543210983, 0.22014030814170837], [0.3116104006767273, 0.30786916613578796, 0.18376123905181885, 0.11612292379140854, 0.06337761133909225, 0.017258621752262115], [0.10961592942476273, 0.13757632672786713, 0.16913464665412903, 0.18250787258148193, 0.23024900257587433, 0.17091625928878784], [0.006555827334523201, 0.02151028998196125, 0.07371266931295395, 0.1323350965976715, 0.22132296860218048, 0.5445631146430969], [0.10180123150348663, 0.12641207873821259, 0.20742768049240112, 0.18032324314117432, 0.17780108749866486, 0.20623454451560974], [0.041579872369766235, 0.07495541870594025, 0.19756396114826202, 0.263552188873291, 0.24578803777694702, 0.1765603870153427], [0.0423319935798645, 0.06204853951931, 0.1074197068810463, 0.22665448486804962, 0.25676944851875305, 0.30477574467658997], [0.01949780248105526, 0.02142314426600933, 0.12221837788820267, 0.24275651574134827, 0.3074830174446106, 0.2866211533546448]]\n",
            "Epochs: 2 | Train Loss:  1.551             | Train Accuracy:  0.322             | Val Loss:  1.544             | Val Accuracy:  0.324\n",
            "Batch Number: 0\n",
            "Model Output: [[0.3330758810043335, 0.3174644112586975, 0.18542753159999847, 0.07775237411260605, 0.05173669755458832, 0.03454316034913063], [0.5359176397323608, 0.28290021419525146, 0.12036886811256409, 0.030987394973635674, 0.015275425277650356, 0.014550301246345043], [0.02682601660490036, 0.07165761291980743, 0.129816934466362, 0.1483582705259323, 0.2529650330543518, 0.3703761100769043], [0.15797768533229828, 0.20501920580863953, 0.31777268648147583, 0.1702849566936493, 0.09970056265592575, 0.04924494028091431], [0.009751483798027039, 0.028677036985754967, 0.12105661630630493, 0.2233264297246933, 0.28612956404685974, 0.3310587406158447], [0.10195496678352356, 0.321725994348526, 0.2308780997991562, 0.17163340747356415, 0.1298106163740158, 0.043996937572956085], [0.31107133626937866, 0.2682574689388275, 0.19177639484405518, 0.12068024277687073, 0.06729671359062195, 0.040917761623859406], [0.007214031182229519, 0.022607823833823204, 0.06015226989984512, 0.11771432310342789, 0.24975603818893433, 0.542555570602417]]\n",
            "Batch Number: 5000\n",
            "Model Output: [[0.009137928485870361, 0.029502784833312035, 0.04083174094557762, 0.12093880027532578, 0.2179696410894394, 0.581619143486023], [0.04385961964726448, 0.09770653396844864, 0.18039613962173462, 0.2929370701313019, 0.23720179498195648, 0.1478988230228424], [0.407240092754364, 0.1831524521112442, 0.14771795272827148, 0.12987032532691956, 0.08167669922113419, 0.05034254863858223], [0.16278044879436493, 0.3021242618560791, 0.22789232432842255, 0.17442671954631805, 0.08776678889989853, 0.04500940069556236], [0.027165422216057777, 0.04810963198542595, 0.14462698996067047, 0.14988502860069275, 0.2310379147529602, 0.3991749882698059], [0.01976446993649006, 0.018061472102999687, 0.03690120950341225, 0.11102539300918579, 0.24495042860507965, 0.5692970752716064], [0.21672658622264862, 0.2720751166343689, 0.2285129427909851, 0.1161220595240593, 0.10846249014139175, 0.058100830763578415], [0.12793990969657898, 0.172116219997406, 0.2164628803730011, 0.20694385468959808, 0.18128156661987305, 0.09525559842586517]]\n",
            "Batch Number: 10000\n",
            "Model Output: [[0.02566532790660858, 0.06123899668455124, 0.13369442522525787, 0.19804517924785614, 0.22260676324367523, 0.35874927043914795], [0.13954196870326996, 0.14903439581394196, 0.16448232531547546, 0.1431170403957367, 0.17669793963432312, 0.22712630033493042], [0.0984615832567215, 0.155889093875885, 0.21951799094676971, 0.18851181864738464, 0.18501809239387512, 0.1526014655828476], [0.2176714539527893, 0.17038790881633759, 0.19906286895275116, 0.14465820789337158, 0.1377781182527542, 0.1304415613412857], [0.018468402326107025, 0.05360059440135956, 0.12279168516397476, 0.21908102929592133, 0.30251553654670715, 0.2835427224636078], [0.012266015633940697, 0.03522003814578056, 0.11876457184553146, 0.23522020876407623, 0.24490150809288025, 0.35362765192985535], [0.006230239290744066, 0.018533632159233093, 0.08574223518371582, 0.1579565852880478, 0.32854291796684265, 0.4029945433139801], [0.16021022200584412, 0.21639937162399292, 0.18885192275047302, 0.21245305240154266, 0.13278941810131073, 0.08929597586393356]]\n",
            "Epochs: 3 | Train Loss:  1.527             | Train Accuracy:  0.333             | Val Loss:  1.527             | Val Accuracy:  0.336\n",
            "Batch Number: 0\n",
            "Model Output: [[0.7316422462463379, 0.15123888850212097, 0.07562345266342163, 0.01562776416540146, 0.01272485964000225, 0.013142808340489864], [0.022914253175258636, 0.04283514618873596, 0.15896552801132202, 0.2184104025363922, 0.23877070844173431, 0.3181040287017822], [0.5403492450714111, 0.24042432010173798, 0.15546049177646637, 0.04135480523109436, 0.011120212264358997, 0.011290887370705605], [0.04815160483121872, 0.11540008336305618, 0.17318420112133026, 0.20321013033390045, 0.28157463669776917, 0.17847919464111328], [0.020426297560334206, 0.03253701329231262, 0.11184296011924744, 0.19367609918117523, 0.348308265209198, 0.2932091951370239], [0.012283066287636757, 0.030993033200502396, 0.08965331315994263, 0.15881359577178955, 0.33261430263519287, 0.37564265727996826], [0.33603981137275696, 0.26396819949150085, 0.1700602024793625, 0.12215463072061539, 0.07528095692396164, 0.032496128231287], [0.010143749415874481, 0.01865203306078911, 0.055529650300741196, 0.113212950527668, 0.3224605917930603, 0.4800010025501251]]\n",
            "Batch Number: 5000\n",
            "Model Output: [[0.014639290049672127, 0.025736425071954727, 0.07643388956785202, 0.16574408113956451, 0.3746056854724884, 0.34284067153930664], [0.02973148413002491, 0.043900325894355774, 0.1676529347896576, 0.2508058249950409, 0.2771877348423004, 0.23072169721126556], [0.05252007022500038, 0.1447591632604599, 0.1543099582195282, 0.1756219118833542, 0.19498339295387268, 0.2778055667877197], [0.05588016286492348, 0.13451318442821503, 0.16878639161586761, 0.17979297041893005, 0.2245858758687973, 0.23644140362739563], [0.4060087203979492, 0.2999970614910126, 0.16138938069343567, 0.09188491106033325, 0.031114395707845688, 0.009605452418327332], [0.3894626796245575, 0.2776493728160858, 0.16139324009418488, 0.09762589633464813, 0.05241379141807556, 0.02145499363541603], [0.12726759910583496, 0.1933569759130478, 0.25695985555648804, 0.18460328876972198, 0.15815705060958862, 0.0796552449464798], [0.40590187907218933, 0.2683277726173401, 0.17857010662555695, 0.08274336159229279, 0.03967295214533806, 0.024783918634057045]]\n",
            "Batch Number: 10000\n",
            "Model Output: [[0.5902472734451294, 0.21504542231559753, 0.15341347455978394, 0.024845276027917862, 0.01113242469727993, 0.0053162118420004845], [0.01251013670116663, 0.04981858283281326, 0.11137723922729492, 0.27905818819999695, 0.3401558995246887, 0.2070799171924591], [0.4442424476146698, 0.26126593351364136, 0.13394826650619507, 0.07672623544931412, 0.04337935522198677, 0.04043770954012871], [0.6147424578666687, 0.23694786429405212, 0.08703867346048355, 0.032156746834516525, 0.019333209842443466, 0.009781093336641788], [0.3664706349372864, 0.20534835755825043, 0.1550872027873993, 0.10796048492193222, 0.1143496185541153, 0.05078369379043579], [0.3454732596874237, 0.24911020696163177, 0.26733505725860596, 0.06926047801971436, 0.0437791645526886, 0.0250417347997427], [0.018533136695623398, 0.03302420303225517, 0.09105279296636581, 0.20994997024536133, 0.3383095860481262, 0.30913037061691284], [0.02467000111937523, 0.05345263332128525, 0.1569882333278656, 0.277475506067276, 0.30679023265838623, 0.18062345683574677]]\n",
            "Epochs: 4 | Train Loss:  1.508             | Train Accuracy:  0.341             | Val Loss:  1.510             | Val Accuracy:  0.340\n",
            "Batch Number: 0\n",
            "Model Output: [[0.011987286619842052, 0.029176397249102592, 0.06552911549806595, 0.1811227947473526, 0.2948133647441864, 0.41737106442451477], [0.21658504009246826, 0.18653728067874908, 0.22615459561347961, 0.17694848775863647, 0.1100788339972496, 0.08369587361812592], [0.3633519411087036, 0.2953205108642578, 0.12175245583057404, 0.12390445917844772, 0.05067366734147072, 0.044996920973062515], [0.03493178263306618, 0.14907492697238922, 0.3129412531852722, 0.22477293014526367, 0.19157159328460693, 0.08670742809772491], [0.2254401594400406, 0.23473182320594788, 0.2324080467224121, 0.14319945871829987, 0.09543215483427048, 0.06878843158483505], [0.4499087631702423, 0.26423829793930054, 0.1634063422679901, 0.08227191120386124, 0.026309723034501076, 0.01386500708758831], [0.06741751730442047, 0.10043653845787048, 0.18091504275798798, 0.24573451280593872, 0.20037585496902466, 0.20512038469314575], [0.02101374790072441, 0.07443753629922867, 0.1691952645778656, 0.21107128262519836, 0.25390467047691345, 0.2703774571418762]]\n",
            "Batch Number: 5000\n",
            "Model Output: [[0.22394831478595734, 0.22984923422336578, 0.2021951973438263, 0.1462208330631256, 0.14157746732234955, 0.05620899051427841], [0.022978534922003746, 0.06089276075363159, 0.1336483210325241, 0.20158402621746063, 0.25519827008247375, 0.32569798827171326], [0.17968307435512543, 0.26637348532676697, 0.2601298689842224, 0.15306849777698517, 0.09982515126466751, 0.04091987758874893], [0.017973652109503746, 0.04414193332195282, 0.22246785461902618, 0.3043348789215088, 0.275536447763443, 0.13554513454437256], [0.09687422215938568, 0.19120284914970398, 0.1780862808227539, 0.19138258695602417, 0.22417724132537842, 0.11827695369720459], [0.023625986650586128, 0.07360775023698807, 0.13017341494560242, 0.2423214316368103, 0.3424728512763977, 0.18779854476451874], [0.5875891447067261, 0.2615194022655487, 0.11808324605226517, 0.025524375960230827, 0.005225325468927622, 0.00205847155302763], [0.31865671277046204, 0.34672632813453674, 0.18747442960739136, 0.08680054545402527, 0.03963135555386543, 0.020710650831460953]]\n",
            "Batch Number: 10000\n",
            "Model Output: [[0.5237159729003906, 0.3400784432888031, 0.09729775041341782, 0.02792275696992874, 0.0067580933682620525, 0.004227014258503914], [0.5794981718063354, 0.23873132467269897, 0.10506924241781235, 0.04066120460629463, 0.024462230503559113, 0.011577771976590157], [0.4855322241783142, 0.2712381184101105, 0.1518973559141159, 0.05367949977517128, 0.024115419015288353, 0.013537498190999031], [0.6538223028182983, 0.24022412300109863, 0.06902842968702316, 0.025456244125962257, 0.008220219053328037, 0.0032487884163856506], [0.24508622288703918, 0.33944886922836304, 0.19736512005329132, 0.14117145538330078, 0.05267022177577019, 0.024258125573396683], [0.46569013595581055, 0.330473929643631, 0.13871246576309204, 0.0363900251686573, 0.013599596917629242, 0.015133889392018318], [0.457088440656662, 0.3231646418571472, 0.12166360765695572, 0.06130639836192131, 0.023192020133137703, 0.0135849229991436], [0.024600913748145103, 0.06436694413423538, 0.14942969381809235, 0.21560077369213104, 0.3523998558521271, 0.19360187649726868]]\n",
            "Epochs: 5 | Train Loss:  1.494             | Train Accuracy:  0.350             | Val Loss:  1.539             | Val Accuracy:  0.337\n",
            "Batch Number: 0\n",
            "Model Output: [[0.0014093485660851002, 0.009342342615127563, 0.01896822266280651, 0.08557724207639694, 0.18582919239997864, 0.6988735795021057], [0.5008947849273682, 0.3040497601032257, 0.13727755844593048, 0.03509198874235153, 0.013559307903051376, 0.009126693941652775], [0.6641460657119751, 0.1871815323829651, 0.10962527245283127, 0.02975396439433098, 0.0056970673613250256, 0.003596111899241805], [0.4622471034526825, 0.3186468780040741, 0.10635533183813095, 0.050810687243938446, 0.03442826494574547, 0.027511712163686752], [0.6076512932777405, 0.32068967819213867, 0.037511106580495834, 0.01855291612446308, 0.009004287421703339, 0.006590662524104118], [0.29575490951538086, 0.3280152678489685, 0.19783899188041687, 0.09781419485807419, 0.06026989966630936, 0.020306719467043877], [0.03420798480510712, 0.08331704139709473, 0.15676343441009521, 0.2636413276195526, 0.30092576146125793, 0.16114450991153717], [0.22694973647594452, 0.3608425557613373, 0.22010987997055054, 0.12873543798923492, 0.046950239688158035, 0.0164121612906456]]\n",
            "Batch Number: 5000\n",
            "Model Output: [[0.018391069024801254, 0.04366347938776016, 0.11009799689054489, 0.29932764172554016, 0.2972210943698883, 0.23129867017269135], [0.009158766828477383, 0.018745673820376396, 0.04880538210272789, 0.09193254262208939, 0.23083999752998352, 0.6005175709724426], [0.348393052816391, 0.2822294235229492, 0.19871234893798828, 0.11383930593729019, 0.0445740781724453, 0.012251881882548332], [0.004300886299461126, 0.02013550139963627, 0.06848582625389099, 0.12788215279579163, 0.3103155791759491, 0.4688799977302551], [0.053481075912714005, 0.09549891203641891, 0.19125697016716003, 0.21242350339889526, 0.24376270174980164, 0.20357683300971985], [0.17527137696743011, 0.31374236941337585, 0.2066493034362793, 0.15092511475086212, 0.09489671885967255, 0.05851512402296066], [0.010646563023328781, 0.03189558535814285, 0.16482855379581451, 0.27071064710617065, 0.369072288274765, 0.1528463512659073], [0.002356364391744137, 0.011084736324846745, 0.04771573841571808, 0.1914532482624054, 0.2585844397544861, 0.4888054430484772]]\n",
            "Batch Number: 10000\n",
            "Model Output: [[0.4995843172073364, 0.35421112179756165, 0.10996585339307785, 0.023298051208257675, 0.008534983731806278, 0.00440572714433074], [0.4670310616493225, 0.3195705711841583, 0.12906961143016815, 0.06128505989909172, 0.01866784505546093, 0.004375881515443325], [0.5076024532318115, 0.26900815963745117, 0.1389234960079193, 0.04844912514090538, 0.024019485339522362, 0.011997252702713013], [0.010696609504520893, 0.024257153272628784, 0.06791827082633972, 0.16374178230762482, 0.4472135603427887, 0.28617262840270996], [0.012414575554430485, 0.02484249882400036, 0.06917931139469147, 0.24175067245960236, 0.32067397236824036, 0.3311389982700348], [0.015637259930372238, 0.051138654351234436, 0.19774159789085388, 0.25009745359420776, 0.2997576594352722, 0.18562735617160797], [0.0013123782118782401, 0.0053981589153409, 0.015522845089435577, 0.05609079822897911, 0.1883840411901474, 0.7332918643951416], [0.04196609929203987, 0.10720116645097733, 0.24320724606513977, 0.26129648089408875, 0.20683063566684723, 0.13949835300445557]]\n",
            "Epochs: 6 | Train Loss:  1.479             | Train Accuracy:  0.357             | Val Loss:  1.488             | Val Accuracy:  0.353\n",
            "Batch Number: 0\n",
            "Model Output: [[0.7504024505615234, 0.1515016108751297, 0.07139017432928085, 0.017597390338778496, 0.006922445259988308, 0.0021859477274119854], [0.018419867381453514, 0.05457893759012222, 0.14628949761390686, 0.24020791053771973, 0.24362505972385406, 0.29687872529029846], [0.00593973882496357, 0.02634456753730774, 0.135450080037117, 0.2551456391811371, 0.2851213812828064, 0.2919984459877014], [0.5064949989318848, 0.29498767852783203, 0.12015562504529953, 0.059033602476119995, 0.015992676839232445, 0.0033353997860103846], [0.0730542242527008, 0.16595885157585144, 0.2233666032552719, 0.23870693147182465, 0.16324195265769958, 0.1356714367866516], [0.5144920349121094, 0.2790224552154541, 0.14143331348896027, 0.048615481704473495, 0.011986589059233665, 0.0044501167722046375], [0.0668429434299469, 0.20538680255413055, 0.3378584086894989, 0.22800612449645996, 0.1294550895690918, 0.032450590282678604], [0.05111650750041008, 0.11471705883741379, 0.13547839224338531, 0.19702324271202087, 0.2615957260131836, 0.24006910622119904]]\n",
            "Batch Number: 5000\n",
            "Model Output: [[0.1342909336090088, 0.19881969690322876, 0.19176265597343445, 0.17547883093357086, 0.1666068732738495, 0.1330411285161972], [0.25655844807624817, 0.35312825441360474, 0.26606446504592896, 0.09072138369083405, 0.023855404928326607, 0.009672064334154129], [0.006729881279170513, 0.02068737894296646, 0.04043811187148094, 0.1837763786315918, 0.2700989246368408, 0.4782692790031433], [0.015232082456350327, 0.035615526139736176, 0.05692964047193527, 0.13900615274906158, 0.27045273780822754, 0.4827639162540436], [0.0029011585284024477, 0.013562379404902458, 0.03840462863445282, 0.17920073866844177, 0.40090638399124146, 0.3650246858596802], [0.043816421180963516, 0.11244566738605499, 0.16138041019439697, 0.23195266723632812, 0.24686360359191895, 0.20354121923446655], [0.42519208788871765, 0.2886441946029663, 0.16520841419696808, 0.09198307991027832, 0.019808970391750336, 0.00916323158890009], [0.007346346043050289, 0.01842101849615574, 0.047956597059965134, 0.17547999322414398, 0.32124853134155273, 0.4295474886894226]]\n",
            "Batch Number: 10000\n",
            "Model Output: [[0.018816305324435234, 0.08084277808666229, 0.14120475947856903, 0.23932808637619019, 0.2994247376918793, 0.22038336098194122], [0.13211587071418762, 0.22935348749160767, 0.2524770498275757, 0.1842600554227829, 0.134733185172081, 0.06706041842699051], [0.19641421735286713, 0.22510606050491333, 0.2412581890821457, 0.18154899775981903, 0.10051923245191574, 0.055153243243694305], [0.6129224300384521, 0.21148933470249176, 0.08953283727169037, 0.03627454861998558, 0.02551340125501156, 0.024267449975013733], [0.004069421906024218, 0.01543433591723442, 0.04969388246536255, 0.11556941270828247, 0.23240312933921814, 0.5828298330307007], [0.49649012088775635, 0.24362686276435852, 0.1414785087108612, 0.07147043943405151, 0.036136988550424576, 0.01079696137458086], [0.005592470522969961, 0.02120262384414673, 0.0775451511144638, 0.14119566977024078, 0.3790871202945709, 0.37537693977355957], [0.5431090593338013, 0.23055359721183777, 0.10923313349485397, 0.05089734122157097, 0.04780561476945877, 0.01840127632021904]]\n",
            "Epochs: 7 | Train Loss:  1.466             | Train Accuracy:  0.364             | Val Loss:  1.480             | Val Accuracy:  0.357\n",
            "Batch Number: 0\n",
            "Model Output: [[0.4647756516933441, 0.26033106446266174, 0.12921161949634552, 0.0866812989115715, 0.03847389668226242, 0.02052643522620201], [0.02328907698392868, 0.05289239063858986, 0.3631703853607178, 0.2838941514492035, 0.18619756400585175, 0.09055642783641815], [0.03452852740883827, 0.18485215306282043, 0.2843693494796753, 0.24585722386837006, 0.16547730565071106, 0.08491538465023041], [0.12738646566867828, 0.19111782312393188, 0.27876630425453186, 0.16446353495121002, 0.12905380129814148, 0.10921212285757065], [0.780052125453949, 0.1346164345741272, 0.05658974498510361, 0.01899634674191475, 0.005513294134289026, 0.004232069943100214], [0.027966666966676712, 0.08417604118585587, 0.16472479701042175, 0.23012828826904297, 0.24237492680549622, 0.250629186630249], [0.01107702124863863, 0.04273030906915665, 0.17135773599147797, 0.16743206977844238, 0.2843676805496216, 0.32303518056869507], [0.08001794666051865, 0.07830243557691574, 0.08471967279911041, 0.15825150907039642, 0.20044298470020294, 0.39826536178588867]]\n",
            "Batch Number: 5000\n",
            "Model Output: [[0.651183009147644, 0.25061658024787903, 0.07577632367610931, 0.012815004214644432, 0.007080212235450745, 0.002528851618990302], [0.007268822286278009, 0.051926277577877045, 0.09742282330989838, 0.24249780178070068, 0.29160276055336, 0.30928143858909607], [0.049151383340358734, 0.12452157586812973, 0.2159656137228012, 0.2696051299571991, 0.2700718641281128, 0.07068437337875366], [0.01534290611743927, 0.05526108294725418, 0.12223317474126816, 0.21321795880794525, 0.27372443675994873, 0.3202205002307892], [0.149807408452034, 0.2566942274570465, 0.4201703369617462, 0.11938884109258652, 0.04614413529634476, 0.007794984150677919], [0.08913735300302505, 0.2260008156299591, 0.14203310012817383, 0.2222459763288498, 0.18355174362659454, 0.13703098893165588], [0.5284366607666016, 0.24722158908843994, 0.13043631613254547, 0.06480701267719269, 0.02164352312684059, 0.007454867009073496], [0.292085736989975, 0.291054904460907, 0.20131881535053253, 0.1444261521100998, 0.06479626148939133, 0.006318124011158943]]\n",
            "Batch Number: 10000\n",
            "Model Output: [[0.0650046244263649, 0.11726023256778717, 0.25758081674575806, 0.3300243318080902, 0.17006656527519226, 0.0600634329020977], [0.18747510015964508, 0.2078244835138321, 0.23267321288585663, 0.17781907320022583, 0.12223312258720398, 0.07197507470846176], [0.24603211879730225, 0.397738516330719, 0.20749437808990479, 0.08577857166528702, 0.05397358536720276, 0.008982726372778416], [0.604770302772522, 0.294944167137146, 0.07630952447652817, 0.018542829900979996, 0.004317120648920536, 0.0011161083821207285], [0.20996378362178802, 0.35031989216804504, 0.21923653781414032, 0.12270239740610123, 0.06990797072649002, 0.02786942943930626], [0.002558352192863822, 0.020888101309537888, 0.07623833417892456, 0.28640076518058777, 0.3892476260662079, 0.22466687858104706], [0.3625849187374115, 0.2832060158252716, 0.16779790818691254, 0.09253556281328201, 0.058703530579805374, 0.03517208248376846], [0.010137164033949375, 0.010831060819327831, 0.030333388596773148, 0.07292599976062775, 0.15423166751861572, 0.7215406894683838]]\n",
            "Epochs: 8 | Train Loss:  1.452             | Train Accuracy:  0.371             | Val Loss:  1.478             | Val Accuracy:  0.360\n",
            "Batch Number: 0\n",
            "Model Output: [[0.17715561389923096, 0.24049311876296997, 0.2183140516281128, 0.26244354248046875, 0.07941154390573502, 0.02218213863670826], [0.377384752035141, 0.3122249245643616, 0.12967850267887115, 0.10957463085651398, 0.060345400124788284, 0.01079181395471096], [0.509230375289917, 0.2791804373264313, 0.1345112919807434, 0.04854048043489456, 0.023871134966611862, 0.0046663470566272736], [0.27955034375190735, 0.3639340102672577, 0.2221057265996933, 0.0984930768609047, 0.026398098096251488, 0.009518717415630817], [0.279610276222229, 0.29702240228652954, 0.2084270417690277, 0.1143745630979538, 0.06251399219036102, 0.03805163502693176], [0.3155063986778259, 0.21621599793434143, 0.2385295182466507, 0.1051463782787323, 0.06168752163648605, 0.06291425228118896], [0.6985579133033752, 0.1991674304008484, 0.06380215287208557, 0.029592519626021385, 0.0069829425774514675, 0.0018971080426126719], [0.0504249632358551, 0.0845007449388504, 0.15946075320243835, 0.23603244125843048, 0.24501076340675354, 0.2245703637599945]]\n",
            "Batch Number: 5000\n",
            "Model Output: [[0.1727209985256195, 0.28635260462760925, 0.28551122546195984, 0.16674736142158508, 0.0657794401049614, 0.022888392210006714], [0.39118269085884094, 0.3732658624649048, 0.11636120826005936, 0.05961788445711136, 0.045319247990846634, 0.014253159053623676], [0.017987746745347977, 0.10561885684728622, 0.16599000990390778, 0.364205002784729, 0.25852036476135254, 0.08767811208963394], [0.18029054999351501, 0.308081716299057, 0.15942451357841492, 0.14744149148464203, 0.11638357490301132, 0.08837821334600449], [0.0052948519587516785, 0.021447543054819107, 0.032655827701091766, 0.23826321959495544, 0.3400719165802002, 0.3622666597366333], [0.0443817637860775, 0.0787988156080246, 0.12104833871126175, 0.15449275076389313, 0.23673802614212036, 0.3645402491092682], [0.40933945775032043, 0.3020748794078827, 0.15028546750545502, 0.07572690397500992, 0.04734157398343086, 0.015231718309223652], [0.003068749327212572, 0.02343991957604885, 0.0648035928606987, 0.2065933793783188, 0.288667768239975, 0.41342654824256897]]\n",
            "Batch Number: 10000\n",
            "Model Output: [[0.4038766324520111, 0.36040234565734863, 0.13637734949588776, 0.07394332438707352, 0.020914653316140175, 0.004485693294554949], [0.4501175880432129, 0.31452909111976624, 0.12188216298818588, 0.07411406189203262, 0.02802257239818573, 0.011334537528455257], [0.18075114488601685, 0.34769847989082336, 0.3379146456718445, 0.09604525566101074, 0.029320459812879562, 0.008270091377198696], [0.4540901184082031, 0.293172150850296, 0.09230325371026993, 0.06900642812252045, 0.05209004878997803, 0.03933792933821678], [0.10377520322799683, 0.35655713081359863, 0.2671007215976715, 0.13729748129844666, 0.11550832539796829, 0.019761046394705772], [0.465908944606781, 0.37960144877433777, 0.10206430405378342, 0.0205993615090847, 0.015620545484125614, 0.01620541512966156], [0.010639073327183723, 0.049519747495651245, 0.08188807964324951, 0.16699035465717316, 0.38346120715141296, 0.30750155448913574], [0.216953307390213, 0.2962379455566406, 0.1471719890832901, 0.14796631038188934, 0.09267951548099518, 0.09899098426103592]]\n",
            "Epochs: 9 | Train Loss:  1.442             | Train Accuracy:  0.375             | Val Loss:  1.466             | Val Accuracy:  0.361\n",
            "Batch Number: 0\n",
            "Model Output: [[0.2668548822402954, 0.35355937480926514, 0.26097139716148376, 0.09396043419837952, 0.02047046832740307, 0.0041834390722215176], [0.4982592463493347, 0.24653252959251404, 0.15291687846183777, 0.06895069777965546, 0.02344045601785183, 0.009900146164000034], [0.17550040781497955, 0.36533182859420776, 0.24202118813991547, 0.16621460020542145, 0.039741531014442444, 0.011190393008291721], [0.1408827304840088, 0.2304256707429886, 0.26651033759117126, 0.18747803568840027, 0.1385599672794342, 0.03614325821399689], [0.03175754100084305, 0.09771174937486649, 0.19136278331279755, 0.26867198944091797, 0.28833019733428955, 0.1221657320857048], [0.43953606486320496, 0.3721793591976166, 0.14852602779865265, 0.026116523891687393, 0.01100983377546072, 0.002632266841828823], [0.5130703449249268, 0.3496645987033844, 0.09577786922454834, 0.032150495797395706, 0.007878772914409637, 0.0014578497502952814], [0.01708025299012661, 0.05332562327384949, 0.13257092237472534, 0.21168872714042664, 0.2828257977962494, 0.302508682012558]]\n",
            "Batch Number: 5000\n",
            "Model Output: [[0.026582075282931328, 0.06366320699453354, 0.11877923458814621, 0.2231481820344925, 0.3036009669303894, 0.2642262578010559], [0.008322015404701233, 0.029524879530072212, 0.07657081633806229, 0.22918160259723663, 0.23138202726840973, 0.42501863837242126], [0.0031789010390639305, 0.028019627556204796, 0.09266840666532516, 0.24754686653614044, 0.4136384427547455, 0.21494778990745544], [0.5942050814628601, 0.2771795094013214, 0.07847544550895691, 0.03127264231443405, 0.014722069725394249, 0.004145307466387749], [0.0013858178863301873, 0.004043147899210453, 0.017948130145668983, 0.06337013095617294, 0.13792620599269867, 0.7753265500068665], [0.004630176816135645, 0.023176096379756927, 0.06181829422712326, 0.19103625416755676, 0.29361823201179504, 0.42572084069252014], [0.8441261649131775, 0.13334038853645325, 0.01599850319325924, 0.0043908702209591866, 0.0014859569491818547, 0.0006581470370292664], [0.0030676124151796103, 0.01302449032664299, 0.057235199958086014, 0.17115803062915802, 0.2602577209472656, 0.4952569007873535]]\n",
            "Batch Number: 10000\n",
            "Model Output: [[0.004651261027902365, 0.02697369083762169, 0.08928696811199188, 0.17802001535892487, 0.3026292026042938, 0.39843887090682983], [0.28635403513908386, 0.32085496187210083, 0.22685955464839935, 0.11493826657533646, 0.04263957217335701, 0.00835355930030346], [0.31829026341438293, 0.2989363670349121, 0.2589776813983917, 0.08176228404045105, 0.02983182854950428, 0.01220160722732544], [0.16342002153396606, 0.1891489177942276, 0.19463635981082916, 0.16787758469581604, 0.17587405443191528, 0.10904310643672943], [0.002061164006590843, 0.01251264289021492, 0.09753669798374176, 0.21576027572155, 0.2832701504230499, 0.3888590633869171], [0.6956994533538818, 0.2129940241575241, 0.06271442025899887, 0.015806401148438454, 0.009190067648887634, 0.0035955822095274925], [0.0038469270803034306, 0.027120491489768028, 0.07456854730844498, 0.21284829080104828, 0.3397291302680969, 0.3418866693973541], [0.02066049538552761, 0.07432449609041214, 0.11321592330932617, 0.21736037731170654, 0.28981080651283264, 0.28462791442871094]]\n",
            "Epochs: 10 | Train Loss:  1.427             | Train Accuracy:  0.383             | Val Loss:  1.453             | Val Accuracy:  0.372\n",
            "Batch Number: 0\n",
            "Model Output: [[0.14857564866542816, 0.19235023856163025, 0.17550162971019745, 0.15659664571285248, 0.14456121623516083, 0.18241459131240845], [0.5715425610542297, 0.27798792719841003, 0.09827332943677902, 0.026856930926442146, 0.015825089067220688, 0.009514101780951023], [0.5834957957267761, 0.29613691568374634, 0.09582295268774033, 0.01826501078903675, 0.005152872763574123, 0.0011264197528362274], [0.19220204651355743, 0.27159157395362854, 0.16905511915683746, 0.20951110124588013, 0.12120026350021362, 0.036439865827560425], [0.5211433172225952, 0.26889780163764954, 0.1222330629825592, 0.05357452854514122, 0.023328104987740517, 0.010823152028024197], [0.009831045754253864, 0.0700390636920929, 0.21289563179016113, 0.3774963319301605, 0.26663315296173096, 0.0631047934293747], [0.0339655801653862, 0.11311274766921997, 0.17679105699062347, 0.22114963829517365, 0.2626018226146698, 0.19237923622131348], [0.03473418578505516, 0.17419376969337463, 0.24991264939308167, 0.37896284461021423, 0.1323397010564804, 0.029856925830245018]]\n",
            "Batch Number: 5000\n",
            "Model Output: [[0.06246475502848625, 0.22313591837882996, 0.24338644742965698, 0.26638513803482056, 0.15800614655017853, 0.046621572226285934], [0.02025221474468708, 0.04175809770822525, 0.10513800382614136, 0.17943115532398224, 0.29935193061828613, 0.3540685474872589], [0.004898460581898689, 0.03470263257622719, 0.17085234820842743, 0.2594374716281891, 0.2716079652309418, 0.2585011124610901], [0.4256724715232849, 0.29633089900016785, 0.1659984141588211, 0.07505824416875839, 0.029766876250505447, 0.00717316335067153], [0.36913925409317017, 0.325260728597641, 0.14469824731349945, 0.09650135785341263, 0.04655446857213974, 0.01784602925181389], [0.015515401028096676, 0.026324594393372536, 0.053773459047079086, 0.10453004390001297, 0.25565266609191895, 0.5442038178443909], [0.18182727694511414, 0.21485580503940582, 0.2746480405330658, 0.16184532642364502, 0.1424095779657364, 0.02441404014825821], [0.025265755131840706, 0.09409646689891815, 0.17521382868289948, 0.31807655096054077, 0.30409538745880127, 0.08325204998254776]]\n",
            "Batch Number: 10000\n",
            "Model Output: [[0.004958970472216606, 0.019627917557954788, 0.059195779263973236, 0.1771855354309082, 0.38288992643356323, 0.35614192485809326], [0.07624021917581558, 0.23143252730369568, 0.26766741275787354, 0.2329651415348053, 0.14405152201652527, 0.047643132507801056], [0.0015834803925827146, 0.009038827382028103, 0.04016687348484993, 0.1083059161901474, 0.2581591010093689, 0.5827457308769226], [0.5534557700157166, 0.14377827942371368, 0.09441111981868744, 0.05466098710894585, 0.07218117266893387, 0.08151272684335709], [0.0022803887259215117, 0.006589418277144432, 0.020665515214204788, 0.08629796653985977, 0.28010132908821106, 0.6040653586387634], [0.002443907083943486, 0.034558240324258804, 0.14755092561244965, 0.2993256449699402, 0.25633782148361206, 0.25978344678878784], [0.005542098078876734, 0.022131917998194695, 0.08496899157762527, 0.12201212346553802, 0.28045034408569336, 0.4848945736885071], [0.1314050257205963, 0.3621542453765869, 0.23301184177398682, 0.1790802776813507, 0.07508330047130585, 0.019265225157141685]]\n",
            "Epochs: 11 | Train Loss:  1.414             | Train Accuracy:  0.391             | Val Loss:  1.453             | Val Accuracy:  0.372\n",
            "Batch Number: 0\n",
            "Model Output: [[0.022685889154672623, 0.08516690135002136, 0.2147529274225235, 0.2505303919315338, 0.3179128170013428, 0.10895106196403503], [0.4784015715122223, 0.274273544549942, 0.12832559645175934, 0.08071394264698029, 0.025247659534215927, 0.013037658296525478], [0.013189511373639107, 0.04373765364289284, 0.05780729651451111, 0.06977395713329315, 0.12311102449893951, 0.6923805475234985], [0.012863700278103352, 0.03628849983215332, 0.11373073607683182, 0.2280130237340927, 0.26512908935546875, 0.34397491812705994], [0.0016155758639797568, 0.007188623305410147, 0.020834291353821754, 0.055246394127607346, 0.13492144644260406, 0.780193567276001], [0.03413420915603638, 0.14932730793952942, 0.3126528859138489, 0.25857874751091003, 0.20539490878582, 0.039911918342113495], [0.004217434208840132, 0.06441868841648102, 0.25419938564300537, 0.3855111598968506, 0.22201383113861084, 0.06963935494422913], [0.01276505459100008, 0.06759675592184067, 0.22931113839149475, 0.2818010747432709, 0.25843486189842224, 0.15009108185768127]]\n",
            "Batch Number: 5000\n",
            "Model Output: [[0.0008809970458969474, 0.015194975771009922, 0.05823907256126404, 0.1610935628414154, 0.3443652093410492, 0.42022615671157837], [0.0261773020029068, 0.13564513623714447, 0.17768125236034393, 0.22124625742435455, 0.2711959183216095, 0.16805420815944672], [0.41090017557144165, 0.3756495714187622, 0.1466549038887024, 0.03743577003479004, 0.02246919833123684, 0.006890352815389633], [0.09688466787338257, 0.19386257231235504, 0.2896649241447449, 0.2290271818637848, 0.1633998602628708, 0.027160830795764923], [0.01100265420973301, 0.05068736895918846, 0.12715131044387817, 0.3778809607028961, 0.30157309770584106, 0.13170474767684937], [0.5020962357521057, 0.3332896828651428, 0.10243593156337738, 0.04960991442203522, 0.01034818310290575, 0.0022201037500053644], [0.2556905746459961, 0.31289464235305786, 0.3090466558933258, 0.09454478323459625, 0.024179896339774132, 0.0036434445064514875], [0.15156309306621552, 0.3520297110080719, 0.3229304254055023, 0.10996148735284805, 0.06022806838154793, 0.00328721571713686]]\n",
            "Batch Number: 10000\n",
            "Model Output: [[0.007900848984718323, 0.04913078621029854, 0.17626525461673737, 0.25466233491897583, 0.2841799557209015, 0.22786086797714233], [0.1045309379696846, 0.24198663234710693, 0.2893318831920624, 0.23930734395980835, 0.10283474624156952, 0.022008467465639114], [0.08118564635515213, 0.20827259123325348, 0.2220456451177597, 0.2954072952270508, 0.1634628027677536, 0.02962605282664299], [0.012439243495464325, 0.06990046799182892, 0.19241280853748322, 0.2301117479801178, 0.34362155199050903, 0.1515142172574997], [0.28083497285842896, 0.4572524428367615, 0.17401938140392303, 0.07104777544736862, 0.016045045107603073, 0.0008003349066711962], [0.05635983869433403, 0.12369740754365921, 0.21010857820510864, 0.2047031968832016, 0.2676256000995636, 0.13750530779361725], [0.11767382174730301, 0.40043941140174866, 0.22379295527935028, 0.1400928795337677, 0.08384847640991211, 0.03415246680378914], [0.019259700551629066, 0.11922482401132584, 0.37475115060806274, 0.3595173954963684, 0.10926869511604309, 0.017978297546505928]]\n",
            "Epochs: 12 | Train Loss:  1.403             | Train Accuracy:  0.397             | Val Loss:  1.447             | Val Accuracy:  0.379\n",
            "Batch Number: 0\n",
            "Model Output: [[0.012599323876202106, 0.05795202776789665, 0.17847274243831635, 0.18435856699943542, 0.31050002574920654, 0.2561173141002655], [0.5691966414451599, 0.31133005023002625, 0.07637318968772888, 0.029714129865169525, 0.011569846421480179, 0.0018160752952098846], [0.4875490069389343, 0.2903122901916504, 0.15224885940551758, 0.05125216022133827, 0.014407705515623093, 0.004230089019984007], [0.5043138861656189, 0.27029433846473694, 0.1502484679222107, 0.051863089203834534, 0.01870691031217575, 0.004573225509375334], [0.20045115053653717, 0.26888447999954224, 0.1784316748380661, 0.17054042220115662, 0.13170380890369415, 0.04998846352100372], [0.001421286491677165, 0.01805805414915085, 0.028181517496705055, 0.08631329238414764, 0.2748929262161255, 0.5911328792572021], [0.06416524946689606, 0.099556565284729, 0.18142631649971008, 0.2844180464744568, 0.20608289539813995, 0.16435086727142334], [0.007127819582819939, 0.011617573909461498, 0.01642584055662155, 0.049350250512361526, 0.13420720398426056, 0.7812712788581848]]\n",
            "Batch Number: 5000\n",
            "Model Output: [[0.36618831753730774, 0.31395256519317627, 0.1870618760585785, 0.07127789407968521, 0.03797534108161926, 0.02354409173130989], [0.09311828762292862, 0.1390436738729477, 0.23232053220272064, 0.25163954496383667, 0.20335432887077332, 0.08052364736795425], [0.7248126268386841, 0.22127141058444977, 0.035901788622140884, 0.013203033246099949, 0.003775506280362606, 0.001035599154420197], [0.017694657668471336, 0.09152489900588989, 0.20896871387958527, 0.282459020614624, 0.2701249420642853, 0.12922769784927368], [0.004575229715555906, 0.03552692010998726, 0.15141332149505615, 0.3378598093986511, 0.21684475243091583, 0.25377991795539856], [0.07336001843214035, 0.2009262889623642, 0.24927957355976105, 0.27802202105522156, 0.1548149287700653, 0.043597154319286346], [0.2938103973865509, 0.2841143310070038, 0.2309989184141159, 0.1356305330991745, 0.04716148599982262, 0.00828432384878397], [0.14237080514431, 0.21714355051517487, 0.2773631811141968, 0.19342777132987976, 0.12925060093402863, 0.04044414684176445]]\n",
            "Batch Number: 10000\n",
            "Model Output: [[0.3761446475982666, 0.3778630495071411, 0.15628351271152496, 0.05959765985608101, 0.02474241890013218, 0.005368758924305439], [0.14929786324501038, 0.2407895177602768, 0.2620183527469635, 0.1770065873861313, 0.12344510108232498, 0.047442566603422165], [0.005975008942186832, 0.02263137511909008, 0.05831919237971306, 0.18382897973060608, 0.22981049120426178, 0.49943503737449646], [0.48108378052711487, 0.30326583981513977, 0.15143075585365295, 0.041122619062662125, 0.01950007490813732, 0.0035968837328255177], [0.09293562173843384, 0.22929731011390686, 0.31688883900642395, 0.21511727571487427, 0.1139465719461441, 0.03181443363428116], [0.08881880342960358, 0.14268788695335388, 0.25800663232803345, 0.24012726545333862, 0.20157591998577118, 0.06878340989351273], [0.02447444014251232, 0.030920229852199554, 0.018115147948265076, 0.05732908099889755, 0.0861605703830719, 0.7830005288124084], [0.06959334760904312, 0.1405249536037445, 0.21512170135974884, 0.3339420557022095, 0.20447668433189392, 0.03634127229452133]]\n",
            "Epochs: 13 | Train Loss:  1.390             | Train Accuracy:  0.404             | Val Loss:  1.436             | Val Accuracy:  0.386\n",
            "Batch Number: 0\n",
            "Model Output: [[0.0007397251320071518, 0.006270074285566807, 0.01654118485748768, 0.06191809102892876, 0.2983880341053009, 0.6161429286003113], [0.10610757768154144, 0.1548166573047638, 0.31039419770240784, 0.21304704248905182, 0.1699831336736679, 0.045651402324438095], [0.01933348923921585, 0.04348073527216911, 0.11473637074232101, 0.1823125034570694, 0.32586368918418884, 0.3142732083797455], [0.27535995841026306, 0.30166056752204895, 0.26359134912490845, 0.10161682218313217, 0.04745200276374817, 0.010319259017705917], [0.061875443905591965, 0.060111064463853836, 0.06792042404413223, 0.07668030261993408, 0.31422704458236694, 0.4191857874393463], [0.23285290598869324, 0.48761677742004395, 0.17268525063991547, 0.07760164141654968, 0.026224736124277115, 0.003018670016899705], [0.010366951115429401, 0.05618364363908768, 0.16485555469989777, 0.24574051797389984, 0.3255089521408081, 0.1973443478345871], [0.2748151123523712, 0.36487022042274475, 0.2353416532278061, 0.09518147259950638, 0.02536836639046669, 0.004423139151185751]]\n",
            "Batch Number: 5000\n",
            "Model Output: [[0.0425427183508873, 0.11508996039628983, 0.22946424782276154, 0.31499484181404114, 0.19917073845863342, 0.09873750060796738], [0.005366613622754812, 0.03482060134410858, 0.13600072264671326, 0.24243399500846863, 0.3128490447998047, 0.26852908730506897], [0.007441225927323103, 0.08889544755220413, 0.28816449642181396, 0.3026089370250702, 0.2663272023200989, 0.046562664210796356], [0.0023489121813327074, 0.02611934393644333, 0.11145241558551788, 0.31304842233657837, 0.28920549154281616, 0.25782546401023865], [0.08010533452033997, 0.18609502911567688, 0.2069678157567978, 0.2078200876712799, 0.2850489616394043, 0.033962786197662354], [0.0019541161600500345, 0.01758955419063568, 0.08043849468231201, 0.21083267033100128, 0.4014723300933838, 0.28771287202835083], [0.3651668131351471, 0.3796834647655487, 0.15196794271469116, 0.08137381076812744, 0.02056141383945942, 0.0012464115861803293], [0.004384323488920927, 0.05436892807483673, 0.14774364233016968, 0.3099338710308075, 0.3551216721534729, 0.12844757735729218]]\n",
            "Batch Number: 10000\n",
            "Model Output: [[0.05544814094901085, 0.1562107354402542, 0.2127370685338974, 0.313749223947525, 0.21501322090625763, 0.04684159904718399], [0.17713353037834167, 0.3596042990684509, 0.2946701943874359, 0.1257476806640625, 0.03827878087759018, 0.004565570969134569], [0.2552087604999542, 0.3595161736011505, 0.16482678055763245, 0.132259801030159, 0.07135416567325592, 0.016834348440170288], [0.002516184700652957, 0.020751962438225746, 0.10581512004137039, 0.2779802083969116, 0.36791545152664185, 0.225021094083786], [0.0014436842175200582, 0.011845657601952553, 0.04538097605109215, 0.13814380764961243, 0.35248658061027527, 0.4506992697715759], [0.010461939498782158, 0.1625804901123047, 0.3311404287815094, 0.36137351393699646, 0.1171848252415657, 0.01725871115922928], [0.0022661087568849325, 0.018111027777194977, 0.15091684460639954, 0.48474541306495667, 0.21929779648780823, 0.12466282397508621], [0.008099272847175598, 0.031315989792346954, 0.06681964546442032, 0.17334677278995514, 0.2980470061302185, 0.4223713278770447]]\n",
            "Epochs: 14 | Train Loss:  1.379             | Train Accuracy:  0.408             | Val Loss:  1.452             | Val Accuracy:  0.382\n",
            "Batch Number: 0\n",
            "Model Output: [[0.000699940079357475, 0.009753789752721786, 0.02984803542494774, 0.12658773362636566, 0.24858416616916656, 0.5845262408256531], [0.5588840842247009, 0.3064872920513153, 0.09305237233638763, 0.03144903853535652, 0.008652837947010994, 0.0014743958599865437], [0.009206397458910942, 0.036123283207416534, 0.09390009939670563, 0.17240747809410095, 0.29886364936828613, 0.38949909806251526], [0.03107595443725586, 0.14384791254997253, 0.325078547000885, 0.2901995778083801, 0.18034659326076508, 0.029451413080096245], [0.1418450027704239, 0.331795334815979, 0.252766489982605, 0.18338258564472198, 0.07712912559509277, 0.013081385754048824], [0.002007084898650646, 0.00906465109437704, 0.022190982475876808, 0.061327990144491196, 0.16905423998832703, 0.7363550066947937], [0.007208497729152441, 0.028418032452464104, 0.06703536957502365, 0.15095733106136322, 0.1791052669286728, 0.5672754645347595], [0.0026771482080221176, 0.023269012570381165, 0.23867899179458618, 0.2765643894672394, 0.29818618297576904, 0.16062428057193756]]\n",
            "Batch Number: 5000\n",
            "Model Output: [[0.008614925667643547, 0.03437181934714317, 0.10067062079906464, 0.15126365423202515, 0.35036519169807434, 0.3547137677669525], [0.02078893594443798, 0.11118103563785553, 0.15092991292476654, 0.20053020119667053, 0.27616074681282043, 0.24040915071964264], [0.007999633438885212, 0.020043734461069107, 0.05890119448304176, 0.07910504192113876, 0.145448237657547, 0.6885021328926086], [0.00571852782741189, 0.05440135300159454, 0.08415599912405014, 0.1452121138572693, 0.2432117909193039, 0.467300146818161], [0.005159427877515554, 0.028684552758932114, 0.11347845941781998, 0.3160930573940277, 0.343825101852417, 0.19275936484336853], [0.22884897887706757, 0.23337163031101227, 0.1761704832315445, 0.1018923670053482, 0.07281717658042908, 0.18689928948879242], [0.014177437871694565, 0.05897350236773491, 0.11031518876552582, 0.16342218220233917, 0.23703497648239136, 0.41607666015625], [0.010228452272713184, 0.036311592906713486, 0.1154789999127388, 0.17476654052734375, 0.2027980089187622, 0.46041640639305115]]\n",
            "Batch Number: 10000\n",
            "Model Output: [[0.3682495951652527, 0.39514338970184326, 0.1570349931716919, 0.05553841590881348, 0.020434271544218063, 0.003599347546696663], [0.15053783357143402, 0.33919498324394226, 0.2933170795440674, 0.15111494064331055, 0.058737482875585556, 0.0070976377464830875], [0.013187109492719173, 0.13860182464122772, 0.2310328334569931, 0.2676050066947937, 0.2758329212665558, 0.0737403854727745], [0.4840315878391266, 0.30361661314964294, 0.12196989357471466, 0.05675357207655907, 0.023583712056279182, 0.010044611059129238], [0.039188217371702194, 0.1272508203983307, 0.22315900027751923, 0.2998627722263336, 0.25229719281196594, 0.05824197828769684], [0.18788833916187286, 0.14056986570358276, 0.07692155987024307, 0.08522506058216095, 0.11180128902196884, 0.3975939154624939], [0.0006980987964197993, 0.006409821566194296, 0.037225741893053055, 0.0973689928650856, 0.280391663312912, 0.5779057145118713], [0.0011323150247335434, 0.007414392661303282, 0.027115222066640854, 0.1012742891907692, 0.328400194644928, 0.5346636176109314]]\n",
            "Epochs: 15 | Train Loss:  1.367             | Train Accuracy:  0.417             | Val Loss:  1.423             | Val Accuracy:  0.395\n",
            "Batch Number: 0\n",
            "Model Output: [[0.14408935606479645, 0.2186431735754013, 0.246093288064003, 0.2109455019235611, 0.1423974186182022, 0.03783136606216431], [0.00958288460969925, 0.059686098247766495, 0.21254582703113556, 0.31028690934181213, 0.33763739466667175, 0.0702609270811081], [0.5988426804542542, 0.19836503267288208, 0.1426907479763031, 0.04810681194067001, 0.010840934701263905, 0.001153821125626564], [0.10156421363353729, 0.2591306269168854, 0.325514554977417, 0.21157336235046387, 0.08484046906232834, 0.017376765608787537], [0.0027173184789717197, 0.016552025452256203, 0.0513753779232502, 0.09566659480333328, 0.28356921672821045, 0.5501195192337036], [0.0006280430243350565, 0.00794657040387392, 0.062454551458358765, 0.2791522741317749, 0.4191571772098541, 0.23066146671772003], [0.5744748115539551, 0.22797666490077972, 0.10878724604845047, 0.059360161423683167, 0.016246136277914047, 0.013154934160411358], [0.002962391823530197, 0.007224974688142538, 0.014170441776514053, 0.039162494242191315, 0.07605942338705063, 0.8604203462600708]]\n",
            "Batch Number: 5000\n",
            "Model Output: [[0.1273282915353775, 0.25143712759017944, 0.3224673271179199, 0.20324832201004028, 0.08025752007961273, 0.015261555090546608], [0.03156889230012894, 0.1524965912103653, 0.21804359555244446, 0.24760107696056366, 0.28293296694755554, 0.06735692173242569], [0.18663261830806732, 0.32927727699279785, 0.25584709644317627, 0.1542675942182541, 0.055356089025735855, 0.018619345501065254], [0.024919306859374046, 0.15876667201519012, 0.4076024889945984, 0.20717868208885193, 0.16111937165260315, 0.04041341319680214], [0.012001258321106434, 0.05164532735943794, 0.14226965606212616, 0.1249508410692215, 0.22506266832351685, 0.44407030940055847], [0.11252741515636444, 0.18839918076992035, 0.29205334186553955, 0.21910040080547333, 0.11111535131931305, 0.0768042728304863], [0.32212984561920166, 0.32634851336479187, 0.23297549784183502, 0.07315810769796371, 0.03950193151831627, 0.005886107217520475], [0.014670184813439846, 0.05948338657617569, 0.1150982454419136, 0.26497527956962585, 0.22937245666980743, 0.3164004683494568]]\n",
            "Batch Number: 10000\n",
            "Model Output: [[0.015197642147541046, 0.03501320257782936, 0.057247184216976166, 0.10481449216604233, 0.1743995100259781, 0.6133279204368591], [0.45641395449638367, 0.1672663688659668, 0.14015913009643555, 0.11981657147407532, 0.058054372668266296, 0.05828958377242088], [0.013953391462564468, 0.1071707233786583, 0.1824469417333603, 0.36035996675491333, 0.2819013297557831, 0.05416767671704292], [0.03727773576974869, 0.10799747705459595, 0.19662146270275116, 0.2045888602733612, 0.1995120793581009, 0.25400233268737793], [0.00601505022495985, 0.06708183139562607, 0.18343773484230042, 0.2882753014564514, 0.24939875304698944, 0.20579133927822113], [0.008558576926589012, 0.057345155626535416, 0.14051340520381927, 0.27493003010749817, 0.3438035249710083, 0.17484931647777557], [0.010325062088668346, 0.015794865787029266, 0.03613840043544769, 0.0914897695183754, 0.19244849681854248, 0.6538033485412598], [0.049316130578517914, 0.1508479118347168, 0.2927042245864868, 0.27482759952545166, 0.17531169950962067, 0.05699235945940018]]\n",
            "Epochs: 16 | Train Loss:  1.357             | Train Accuracy:  0.422             | Val Loss:  1.413             | Val Accuracy:  0.402\n",
            "Batch Number: 0\n",
            "Model Output: [[0.48214206099510193, 0.32539376616477966, 0.12244175374507904, 0.05215774476528168, 0.014727363362908363, 0.0031372832600027323], [0.2615382969379425, 0.4054292142391205, 0.23572316765785217, 0.07999911904335022, 0.015621177852153778, 0.0016889997059479356], [0.2277296483516693, 0.42940592765808105, 0.21953772008419037, 0.07976048439741135, 0.04099546745419502, 0.0025707008317112923], [0.4489958882331848, 0.28579097986221313, 0.11224933713674545, 0.05604366213083267, 0.025329042226076126, 0.07159099727869034], [0.06625860184431076, 0.2187415063381195, 0.34805870056152344, 0.2185373306274414, 0.13044790923595428, 0.017955876886844635], [0.001665615476667881, 0.017497943714261055, 0.06111440435051918, 0.1622137576341629, 0.2645162045955658, 0.492992103099823], [0.4657474458217621, 0.3714934289455414, 0.12403114140033722, 0.03146182745695114, 0.006221944000571966, 0.0010441466001793742], [0.6533302068710327, 0.21475271880626678, 0.08032803982496262, 0.03546949476003647, 0.013020305894315243, 0.0030993002001196146]]\n",
            "Batch Number: 5000\n",
            "Model Output: [[0.007444207090884447, 0.04211656004190445, 0.12418992072343826, 0.21660038828849792, 0.41415074467658997, 0.1954982876777649], [0.06904008239507675, 0.25420913100242615, 0.22068393230438232, 0.1770239770412445, 0.1712360978126526, 0.10780678689479828], [0.005807897541671991, 0.02710033766925335, 0.08921027928590775, 0.1567440927028656, 0.30120784044265747, 0.41992953419685364], [0.00488885585218668, 0.03220346197485924, 0.09659349918365479, 0.1620732843875885, 0.2453233152627945, 0.45891761779785156], [0.8733242750167847, 0.1146656796336174, 0.008841820992529392, 0.002079408150166273, 0.0006371720228344202, 0.00045170370140112936], [0.0074113705195486546, 0.012148139998316765, 0.021664809435606003, 0.01922447979450226, 0.042160194367170334, 0.8973909616470337], [0.6103470921516418, 0.26647040247917175, 0.08452869206666946, 0.02734471671283245, 0.010254217311739922, 0.0010548891732469201], [0.0014450183371081948, 0.010593608021736145, 0.027386022731661797, 0.04170338809490204, 0.06631597131490707, 0.8525559902191162]]\n",
            "Batch Number: 10000\n",
            "Model Output: [[0.015075412578880787, 0.06236836686730385, 0.05919472128152847, 0.1279875636100769, 0.19192849099636078, 0.5434454679489136], [0.011114226654171944, 0.06886812299489975, 0.17865513265132904, 0.2272714227437973, 0.3356182277202606, 0.1784728467464447], [0.35097333788871765, 0.27761971950531006, 0.14668267965316772, 0.10596133023500443, 0.09453968703746796, 0.0242232047021389], [0.24842365086078644, 0.4319697320461273, 0.22285360097885132, 0.07856675982475281, 0.01704512909054756, 0.0011411701561883092], [0.19498394429683685, 0.36547958850860596, 0.22888489067554474, 0.13329896330833435, 0.06994133442640305, 0.00741126062348485], [0.4017283022403717, 0.2427809238433838, 0.1930539757013321, 0.05984799563884735, 0.05792417749762535, 0.04466460645198822], [0.11776772886514664, 0.2533907890319824, 0.20366887748241425, 0.20540553331375122, 0.17709773778915405, 0.042669229209423065], [0.019680080935359, 0.14603187143802643, 0.21127577126026154, 0.194984570145607, 0.2623120844364166, 0.16571566462516785]]\n",
            "Epochs: 17 | Train Loss:  1.343             | Train Accuracy:  0.427             | Val Loss:  1.405             | Val Accuracy:  0.401\n",
            "Batch Number: 0\n",
            "Model Output: [[0.1192774772644043, 0.23230043053627014, 0.2707727551460266, 0.1599225103855133, 0.12679719924926758, 0.09092961996793747], [0.000549738819245249, 0.01597338728606701, 0.04499157890677452, 0.2176864594221115, 0.328061580657959, 0.3927372694015503], [0.2865292727947235, 0.44113484025001526, 0.17754335701465607, 0.0717608630657196, 0.021647082641720772, 0.0013845544308423996], [0.35256317257881165, 0.3561793267726898, 0.1842712163925171, 0.06394091248512268, 0.03004973754286766, 0.01299570593982935], [0.0020308461971580982, 0.019748510792851448, 0.07018280774354935, 0.14775227010250092, 0.295810341835022, 0.4644753038883209], [0.05717693269252777, 0.1513693481683731, 0.39172062277793884, 0.26639068126678467, 0.11723467707633972, 0.016107721254229546], [0.007765742484480143, 0.037699997425079346, 0.20750313997268677, 0.3436618745326996, 0.2894424498081207, 0.11392676085233688], [0.001577681628987193, 0.018886327743530273, 0.04297672212123871, 0.17116647958755493, 0.19742104411125183, 0.5679716467857361]]\n",
            "Batch Number: 5000\n",
            "Model Output: [[0.04870063439011574, 0.3813413083553314, 0.2775466740131378, 0.20576713979244232, 0.0828232541680336, 0.0038209727499634027], [0.062073055654764175, 0.19902189075946808, 0.24954867362976074, 0.21698544919490814, 0.11496805399656296, 0.1574028581380844], [0.5556569695472717, 0.32299089431762695, 0.08044679462909698, 0.029967686161398888, 0.009955362416803837, 0.000982346711680293], [0.2684363126754761, 0.21837978065013885, 0.16984683275222778, 0.11848746240139008, 0.1029738113284111, 0.12187577039003372], [0.011239892803132534, 0.16996631026268005, 0.31720396876335144, 0.32901817560195923, 0.15277649462223053, 0.01979520358145237], [0.0027081577572971582, 0.02279103919863701, 0.11811985075473785, 0.2925296723842621, 0.34744635224342346, 0.2164049595594406], [0.40127238631248474, 0.30372390151023865, 0.1821410357952118, 0.08395247161388397, 0.02597525529563427, 0.002935016294941306], [0.08799105882644653, 0.22336047887802124, 0.33877673745155334, 0.22418642044067383, 0.09620889276266098, 0.02947644330561161]]\n",
            "Batch Number: 10000\n",
            "Model Output: [[0.2331342101097107, 0.2951205372810364, 0.2297823280096054, 0.1624951809644699, 0.07340630888938904, 0.006061385851353407], [0.08458758145570755, 0.09521699696779251, 0.1520105004310608, 0.16643579304218292, 0.2170587182044983, 0.28469040989875793], [0.349651038646698, 0.40704041719436646, 0.15773896872997284, 0.06200205907225609, 0.021416274830698967, 0.002151209395378828], [0.018231431022286415, 0.11354558169841766, 0.3297621011734009, 0.2901225686073303, 0.17822515964508057, 0.07011309266090393], [0.0990004763007164, 0.24575047194957733, 0.25062596797943115, 0.25999969244003296, 0.13840660452842712, 0.006216790527105331], [0.32536041736602783, 0.21508806943893433, 0.09946902096271515, 0.10714448988437653, 0.11843675374984741, 0.13450118899345398], [0.0007853060960769653, 0.008384798653423786, 0.032831136137247086, 0.0835498571395874, 0.23383086919784546, 0.6406180262565613], [0.42668479681015015, 0.3352274000644684, 0.16261543333530426, 0.05269622057676315, 0.01581181213259697, 0.0069642215967178345]]\n",
            "Epochs: 18 | Train Loss:  1.333             | Train Accuracy:  0.433             | Val Loss:  1.403             | Val Accuracy:  0.409\n",
            "Batch Number: 0\n",
            "Model Output: [[0.4858345091342926, 0.2808169722557068, 0.13404904305934906, 0.07334032654762268, 0.022119419649243355, 0.0038397833704948425], [0.47099459171295166, 0.34048059582710266, 0.14235329627990723, 0.036293841898441315, 0.008793716318905354, 0.0010838754242286086], [0.47582903504371643, 0.38469764590263367, 0.0883602574467659, 0.0386585108935833, 0.009525073692202568, 0.002929465379565954], [0.0028761790599673986, 0.01675092801451683, 0.03626067936420441, 0.07706306874752045, 0.22225917875766754, 0.64478999376297], [0.0019106138497591019, 0.01784827560186386, 0.06680147349834442, 0.2166626751422882, 0.49915531277656555, 0.19762161374092102], [0.48485442996025085, 0.27958980202674866, 0.12820309400558472, 0.06984960287809372, 0.03229959309101105, 0.005203403066843748], [0.1404200941324234, 0.29057037830352783, 0.29486045241355896, 0.1803470402956009, 0.08572246879339218, 0.008079558610916138], [0.4537729024887085, 0.2826687693595886, 0.12498587369918823, 0.08008087426424026, 0.04991920292377472, 0.008572353050112724]]\n",
            "Batch Number: 5000\n",
            "Model Output: [[0.17229238152503967, 0.2602682411670685, 0.17866310477256775, 0.1849697381258011, 0.16432103514671326, 0.039485376328229904], [0.006445435341447592, 0.026206303387880325, 0.029234468936920166, 0.058603685349226, 0.0831303820014, 0.7963796854019165], [0.0016391185345128179, 0.021756988018751144, 0.09996948391199112, 0.2041991949081421, 0.3521813154220581, 0.320253849029541], [0.5456240773200989, 0.30340099334716797, 0.0933678075671196, 0.045834753662347794, 0.010214073583483696, 0.0015583360800519586], [0.0038401440251618624, 0.0211188867688179, 0.09039696305990219, 0.10825851559638977, 0.29250621795654297, 0.4838792681694031], [0.05822882801294327, 0.21692760288715363, 0.39810216426849365, 0.24385787546634674, 0.07925815880298615, 0.0036253761500120163], [0.004289628006517887, 0.01636447012424469, 0.034810375422239304, 0.10513567179441452, 0.21201781928539276, 0.6273819804191589], [0.5008779764175415, 0.2636033296585083, 0.10382861644029617, 0.08961836993694305, 0.038621604442596436, 0.003450223244726658]]\n",
            "Batch Number: 10000\n",
            "Model Output: [[0.10630523413419724, 0.2614898979663849, 0.3425893485546112, 0.2418421059846878, 0.04548478126525879, 0.0022887890227138996], [0.055803876370191574, 0.2697492837905884, 0.29359835386276245, 0.23176416754722595, 0.1389402151107788, 0.01014405395835638], [0.12981151044368744, 0.3597351014614105, 0.27985674142837524, 0.13869710266590118, 0.0854814276099205, 0.006418029777705669], [0.0018113325349986553, 0.017213262617588043, 0.0721760094165802, 0.19032083451747894, 0.36764395236968994, 0.35083454847335815], [0.4571132957935333, 0.32466384768486023, 0.15668857097625732, 0.040162988007068634, 0.015400591306388378, 0.00597082544118166], [0.5198550820350647, 0.2956949770450592, 0.1299477070569992, 0.0398859865963459, 0.013330623507499695, 0.0012856691610068083], [0.3612981140613556, 0.36984577775001526, 0.1714617908000946, 0.07719994336366653, 0.019379351288080215, 0.0008150696521624923], [0.3270348608493805, 0.21318084001541138, 0.19745256006717682, 0.13691841065883636, 0.10036353021860123, 0.025049831718206406]]\n",
            "Epochs: 19 | Train Loss:  1.319             | Train Accuracy:  0.443             | Val Loss:  1.396             | Val Accuracy:  0.410\n",
            "Batch Number: 0\n",
            "Model Output: [[0.010648609139025211, 0.06552930176258087, 0.15284211933612823, 0.24812091886997223, 0.2976920008659363, 0.22516708076000214], [0.004026778507977724, 0.0523599348962307, 0.2549639344215393, 0.22820283472537994, 0.25550299882888794, 0.20494350790977478], [0.005428521893918514, 0.031300876289606094, 0.12088540941476822, 0.3155427575111389, 0.36609792709350586, 0.16074445843696594], [0.24043063819408417, 0.3306802809238434, 0.2746955454349518, 0.1289958506822586, 0.02325667254626751, 0.0019409903325140476], [0.5449931025505066, 0.2915385067462921, 0.12456837296485901, 0.030640747398138046, 0.0060043842531740665, 0.00225487700663507], [0.004534493666142225, 0.05669676885008812, 0.14229553937911987, 0.2631944417953491, 0.47278881072998047, 0.060489874333143234], [0.0030056640971451998, 0.010161390528082848, 0.031259685754776, 0.05687098577618599, 0.2329999804496765, 0.6657023429870605], [0.04573770985007286, 0.18895819783210754, 0.2426258772611618, 0.28521594405174255, 0.2022608369588852, 0.03520144149661064]]\n",
            "Batch Number: 5000\n",
            "Model Output: [[0.04494832828640938, 0.046922601759433746, 0.04085756465792656, 0.03813174366950989, 0.048234011977910995, 0.7809057235717773], [0.021044231951236725, 0.07744187861680984, 0.2705426514148712, 0.32362881302833557, 0.2932087481021881, 0.014133731834590435], [0.2823528051376343, 0.241245836019516, 0.24824871122837067, 0.11051372438669205, 0.08281953632831573, 0.03481939807534218], [0.009328645654022694, 0.04584528133273125, 0.21919050812721252, 0.32017895579338074, 0.27066436409950256, 0.134792298078537], [0.012188460677862167, 0.09522771090269089, 0.4252665042877197, 0.296431303024292, 0.1336679756641388, 0.03721801936626434], [0.005925651174038649, 0.07669783383607864, 0.19317902624607086, 0.27987590432167053, 0.2512151002883911, 0.19310647249221802], [0.07025384902954102, 0.2872260510921478, 0.2134159952402115, 0.18343958258628845, 0.18085680902004242, 0.06480766087770462], [0.0309695303440094, 0.24493423104286194, 0.2977834641933441, 0.27826225757598877, 0.10135719180107117, 0.046693287789821625]]\n",
            "Batch Number: 10000\n",
            "Model Output: [[0.12434332817792892, 0.4165639281272888, 0.26533275842666626, 0.15622374415397644, 0.035928547382354736, 0.001607688725925982], [0.01727699115872383, 0.16357757151126862, 0.24841374158859253, 0.28196293115615845, 0.26016274094581604, 0.028606127947568893], [0.07255106419324875, 0.20341238379478455, 0.20883211493492126, 0.21917197108268738, 0.23005026578903198, 0.06598218530416489], [0.168719083070755, 0.1829698532819748, 0.26214781403541565, 0.20253364741802216, 0.15472297370433807, 0.028906624764204025], [0.009179075248539448, 0.04242821782827377, 0.13350923359394073, 0.2903493642807007, 0.39848360419273376, 0.1260504573583603], [0.09265073388814926, 0.3391173183917999, 0.2875637412071228, 0.19583375751972198, 0.07655757665634155, 0.008276861160993576], [0.3060148358345032, 0.394863486289978, 0.20967476069927216, 0.06672460585832596, 0.018231362104415894, 0.0044908723793923855], [0.37087151408195496, 0.30293354392051697, 0.15908485651016235, 0.10016153752803802, 0.05474849417805672, 0.012200118973851204]]\n",
            "Epochs: 20 | Train Loss:  1.313             | Train Accuracy:  0.443             | Val Loss:  1.390             | Val Accuracy:  0.420\n"
          ]
        }
      ]
    },
    {
      "cell_type": "markdown",
      "source": [
        "### Run Testing"
      ],
      "metadata": {
        "id": "wH3GOh7rvQTl"
      }
    },
    {
      "cell_type": "code",
      "source": [
        "# test_model_name = \"06_02_2023_09_01_classifier_model.pth\"\n",
        "# test_model_path = f\"{folder}/{test_model_name}\"\n",
        "\n",
        "test_model = BertClassifier()\n",
        "test_model = test_model.to(device)\n",
        "test_model.load_state_dict(torch.load(model_path))\n",
        "test(test_model, test_dataloader)"
      ],
      "metadata": {
        "colab": {
          "base_uri": "https://localhost:8080/"
        },
        "id": "9HSMDah7SZpM",
        "outputId": "1893784c-099f-4e04-8f1c-9c10351a5c66"
      },
      "execution_count": 28,
      "outputs": [
        {
          "output_type": "stream",
          "name": "stderr",
          "text": [
            "Some weights of the model checkpoint at prajjwal1/bert-tiny were not used when initializing BertModel: ['cls.predictions.transform.dense.weight', 'cls.predictions.transform.dense.bias', 'cls.predictions.decoder.weight', 'cls.predictions.transform.LayerNorm.bias', 'cls.predictions.transform.LayerNorm.weight', 'cls.seq_relationship.bias', 'cls.predictions.decoder.bias', 'cls.seq_relationship.weight', 'cls.predictions.bias']\n",
            "- This IS expected if you are initializing BertModel from the checkpoint of a model trained on another task or with another architecture (e.g. initializing a BertForSequenceClassification model from a BertForPreTraining model).\n",
            "- This IS NOT expected if you are initializing BertModel from the checkpoint of a model that you expect to be exactly identical (initializing a BertForSequenceClassification model from a BertForSequenceClassification model).\n"
          ]
        },
        {
          "output_type": "stream",
          "name": "stdout",
          "text": [
            "Test Accuracy:  0.418\n"
          ]
        }
      ]
    }
  ]
}