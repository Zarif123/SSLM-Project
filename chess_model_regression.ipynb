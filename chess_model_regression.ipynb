{
  "nbformat": 4,
  "nbformat_minor": 0,
  "metadata": {
    "colab": {
      "provenance": [],
      "gpuType": "T4",
      "include_colab_link": true
    },
    "kernelspec": {
      "name": "python3",
      "display_name": "Python 3"
    },
    "language_info": {
      "name": "python"
    },
    "accelerator": "GPU"
  },
  "cells": [
    {
      "cell_type": "markdown",
      "metadata": {
        "id": "view-in-github",
        "colab_type": "text"
      },
      "source": [
        "<a href=\"https://colab.research.google.com/github/Zarif123/SSLM-Project/blob/main/chess_model_regression.ipynb\" target=\"_parent\"><img src=\"https://colab.research.google.com/assets/colab-badge.svg\" alt=\"Open In Colab\"/></a>"
      ]
    },
    {
      "cell_type": "code",
      "source": [
        "%%capture\n",
        "!pip install transformers\n",
        "!pip install python-chess"
      ],
      "metadata": {
        "id": "SmP4VhMQYNa3"
      },
      "execution_count": 177,
      "outputs": []
    },
    {
      "cell_type": "code",
      "execution_count": 178,
      "metadata": {
        "id": "OarbiURKBnK_",
        "colab": {
          "base_uri": "https://localhost:8080/"
        },
        "outputId": "5d9d94aa-14ac-4605-b72a-b1431e0cc3b0"
      },
      "outputs": [
        {
          "output_type": "stream",
          "name": "stdout",
          "text": [
            "Drive already mounted at /content/gdrive; to attempt to forcibly remount, call drive.mount(\"/content/gdrive\", force_remount=True).\n"
          ]
        }
      ],
      "source": [
        "from datetime import datetime\n",
        "\n",
        "from google.colab import drive\n",
        "drive.mount('/content/gdrive')\n",
        "folder = \"/content/gdrive/MyDrive/Statistical_LM_Group_Folder\"\n",
        "\n",
        "csv_file = \"chess_data_with_buckets.csv\"\n",
        "csv_path = f\"{folder}/{csv_file}\"\n",
        "\n",
        "\n",
        "now = datetime.now()\n",
        "dt_string = now.strftime(\"%m_%d_%Y_%H_%M\")\n",
        "\n",
        "model_file = \"regression_model.pth\"\n",
        "datetime = dt_string\n",
        "model_path = f\"{folder}/{datetime}_{model_file}\""
      ]
    },
    {
      "cell_type": "code",
      "source": [
        "from transformers import BertTokenizer, AutoTokenizer, BertModel, BertConfig, get_linear_schedule_with_warmup\n",
        "import torch.optim as optim\n",
        "import torch\n",
        "import torch.nn as nn\n",
        "import torch.nn.functional as F\n",
        "import pandas as pd\n",
        "from tqdm import tqdm\n",
        "import numpy as np\n",
        "from sklearn.model_selection import train_test_split\n",
        "from sklearn.preprocessing import StandardScaler\n",
        "from torch.utils.data import DataLoader\n",
        "from imblearn.under_sampling import RandomUnderSampler"
      ],
      "metadata": {
        "id": "C7PY5j9_ZP99"
      },
      "execution_count": 179,
      "outputs": []
    },
    {
      "cell_type": "markdown",
      "source": [
        "###Parameters"
      ],
      "metadata": {
        "id": "T4jiOnf42l76"
      }
    },
    {
      "cell_type": "code",
      "source": [
        "device = torch.device('cuda' if torch.cuda.is_available() else 'cpu')\n",
        "\n",
        "params = {\n",
        "    \"batch_size\": 1,\n",
        "    \"epochs\": 5,\n",
        "    \"learning_rate\": 0.00003,\n",
        "    \"warmup_steps\": 0.01,\n",
        "    \"epsilon\": 1e-8,\n",
        "    \"accum_iter\": 8,\n",
        "    \"num_classes\": 6,\n",
        "    \"dropout\": 0.5\n",
        "}\n",
        "\n",
        "class Params:\n",
        "  def __init__(self, **kwargs):\n",
        "    for key, value in kwargs.items():\n",
        "      setattr(self, key, value)\n",
        "\n",
        "params = Params(**params)"
      ],
      "metadata": {
        "id": "ky6kpFpn0EF0"
      },
      "execution_count": 180,
      "outputs": []
    },
    {
      "cell_type": "markdown",
      "source": [
        "### Regression Model"
      ],
      "metadata": {
        "id": "Ch3NE1cQ2p9I"
      }
    },
    {
      "cell_type": "code",
      "source": [
        "class BertRegressor(nn.Module):\n",
        "  def __init__(self, dropout=params.dropout):\n",
        "    super(BertRegressor, self).__init__()\n",
        "\n",
        "    self.bert = BertModel.from_pretrained('bert-base-cased')\n",
        "    self.dropout = nn.Dropout(dropout)\n",
        "    self.linear = nn.Linear(768, 1)\n",
        "\n",
        "  def forward(self, input_id, mask):\n",
        "    _, pooled_output = self.bert(input_ids= input_id, attention_mask=mask,return_dict=False)\n",
        "    dropout_output = self.dropout(pooled_output)\n",
        "    linear_output = self.linear(dropout_output)\n",
        "\n",
        "    return linear_output"
      ],
      "metadata": {
        "id": "lBPTBZJ9wXZw"
      },
      "execution_count": 181,
      "outputs": []
    },
    {
      "cell_type": "markdown",
      "source": [
        "### Dataset Class"
      ],
      "metadata": {
        "id": "S0A41IRS2tFX"
      }
    },
    {
      "cell_type": "code",
      "source": [
        "class ChessDataset(torch.utils.data.Dataset):\n",
        "  def __init__(self, moves, labels):\n",
        "      tokenizer = BertTokenizer.from_pretrained('bert-base-cased')\n",
        "      self.labels = torch.Tensor(labels)\n",
        "      self.moves = [tokenizer(move, \n",
        "                              padding='max_length', max_length = 256, truncation=True,\n",
        "                              return_tensors=\"pt\") for move in moves]\n",
        "\n",
        "  def __len__(self):\n",
        "      return len(self.labels)\n",
        "\n",
        "  def __getitem__(self, idx):\n",
        "      return self.moves[idx], self.labels[idx]"
      ],
      "metadata": {
        "id": "jjod6hIlw0Xg"
      },
      "execution_count": 182,
      "outputs": []
    },
    {
      "cell_type": "markdown",
      "source": [
        "### Training Function"
      ],
      "metadata": {
        "id": "dr7lllaw2vMB"
      }
    },
    {
      "cell_type": "code",
      "source": [
        "def rating_to_bucket(rating):\n",
        "  if rating < 1300:\n",
        "    return 0\n",
        "  elif rating >= 1300 and rating < 1500:\n",
        "    return 1\n",
        "  elif rating >= 1500 and rating < 1700:\n",
        "    return 2  \n",
        "  elif rating >= 1700 and rating < 1900:\n",
        "    return 3\n",
        "  elif rating >= 1900 and rating < 2100:\n",
        "    return 4\n",
        "  elif rating >= 2100:\n",
        "    return 5"
      ],
      "metadata": {
        "id": "mN_Stf6vSwM8"
      },
      "execution_count": 183,
      "outputs": []
    },
    {
      "cell_type": "code",
      "source": [
        "def train(model, train_dataloader, val_dataloader, criterion, optimizer):\n",
        "    num_batches = len(train_dataloader)\n",
        "    scheduler = get_linear_schedule_with_warmup(optimizer, num_warmup_steps = params.warmup_steps, num_training_steps = num_batches * params.epochs)\n",
        "    print(f\"Number of batches: {num_batches}\")\n",
        "    for epoch_num in range(params.epochs):\n",
        "        total_acc_train = 0\n",
        "        total_loss_train = 0\n",
        "\n",
        "        for batch_idx, (train_input, train_label) in enumerate(train_dataloader):\n",
        "          train_label = train_label.to(device)\n",
        "          mask = train_input['attention_mask'].to(device)\n",
        "          input_id = train_input['input_ids'].squeeze(1).to(device)\n",
        "\n",
        "          output = model(input_id, mask)\n",
        "          \n",
        "          batch_loss = criterion(output.squeeze(), train_label.squeeze())\n",
        "          total_loss_train += batch_loss.item()\n",
        "          \n",
        "          acc = (output == train_label).sum().item()\n",
        "          total_acc_train += acc\n",
        "\n",
        "          batch_loss.backward()\n",
        "\n",
        "          # Gradient Accumulation\n",
        "          if ((batch_idx + 1) % params.accum_iter == 0) or (batch_idx + 1 == num_batches):\n",
        "            optimizer.step()\n",
        "            scheduler.step()\n",
        "            optimizer.zero_grad()\n",
        "\n",
        "          if batch_idx % 50 == 0:\n",
        "            print(f\"Batch Number: {batch_idx}\")\n",
        "            print(f\"Model Output: {output}\")\n",
        "            print(f\"Train Labels: {train_label.tolist()}\")\n",
        "        \n",
        "        total_acc_val = 0\n",
        "        total_loss_val = 0\n",
        "\n",
        "        with torch.no_grad():\n",
        "\n",
        "          for val_input, val_label in val_dataloader:\n",
        "            val_label = val_label.to(device)\n",
        "            mask = val_input['attention_mask'].to(device)\n",
        "            input_id = val_input['input_ids'].squeeze(1).to(device)\n",
        "\n",
        "            output = model(input_id, mask)\n",
        "            \n",
        "            batch_loss = criterion(output, val_label)\n",
        "            total_loss_val += batch_loss.item()\n",
        "            \n",
        "            acc = (output == val_label).sum().item()\n",
        "            total_acc_val += acc\n",
        "        \n",
        "        print(\n",
        "            f'Epochs: {epoch_num + 1} | Train Loss: {total_loss_train / (params.batch_size * len(train_dataloader)): .3f} \\\n",
        "            | Train Accuracy: {total_acc_train / (params.batch_size * len(train_dataloader)): .3f} \\\n",
        "            | Val Loss: {total_loss_val / (params.batch_size * len(val_dataloader)): .3f} \\\n",
        "            | Val Accuracy: {total_acc_val / (params.batch_size * len(val_dataloader)): .3f}')\n",
        "        \n",
        "        torch.save(model.state_dict(), model_path)"
      ],
      "metadata": {
        "id": "x337jZ5ixgPG"
      },
      "execution_count": 184,
      "outputs": []
    },
    {
      "cell_type": "markdown",
      "source": [
        "### Test Function"
      ],
      "metadata": {
        "id": "Zj8L6NoCNVxi"
      }
    },
    {
      "cell_type": "code",
      "source": [
        "def test(model, test_dataloader, criterion, scaler):\n",
        "  total_acc_test = 0\n",
        "  with torch.no_grad():\n",
        "    for test_input, test_label in test_dataloader:\n",
        "      test_label = test_label.to(device)\n",
        "      mask = test_input['attention_mask'].to(device)\n",
        "      input_id = test_input['input_ids'].squeeze(1).to(device)\n",
        "\n",
        "      output = model(input_id, mask)\n",
        "      output = output.cpu().detach().numpy()\n",
        "      test_label = test_label.cpu().detach().numpy()\n",
        "\n",
        "      pred_rating = scaler.inverse_transform(output)\n",
        "      real_rating = scaler.inverse_transform(test_label)\n",
        "      print(f\"Prediction: {pred_rating}, Truth: {real_rating}\")\n",
        "      print(f\"MSE Loss: {criterion(output, test_label)}\")\n",
        "    #   pred_bucket = list(map(rating_to_bucket, output))\n",
        "    #   real_bucket = list(map(rating_to_bucket, test_label))\n",
        "\n",
        "    #   acc = (pred_bucket == real_bucket).sum().item()\n",
        "    #   total_acc_test += acc\n",
        "       \n",
        "    # print(f\"Test Accuracy: {total_acc_test / len(test_dataloader): .3f}\\n\")"
      ],
      "metadata": {
        "id": "ullCZNUINYYj"
      },
      "execution_count": 210,
      "outputs": []
    },
    {
      "cell_type": "markdown",
      "source": [
        "### Loading Data"
      ],
      "metadata": {
        "id": "1MoqFHld3kHf"
      }
    },
    {
      "cell_type": "code",
      "source": [
        "%%capture\n",
        "chess_data = pd.read_csv(csv_path)[0:3000]\n",
        "z = chess_data[\"Bucket\"]\n",
        "chess_data = chess_data[[\"Moves\", \"Elo\"]]\n",
        "\n",
        "balancer = RandomUnderSampler()\n",
        "# chess_data = chess_data.values.reshape(-1, 2)\n",
        "chess_data, z = balancer.fit_resample(chess_data, z)\n",
        "rating_counts = z.value_counts().sort_index()\n",
        "# chess_data = chess_data.flatten()\n",
        "\n",
        "X = chess_data[\"Moves\"]\n",
        "y = chess_data[\"Elo\"]\n",
        "\n",
        "scaler = StandardScaler()\n",
        "y = scaler.fit_transform(y.values.reshape(-1, 1))\n",
        "\n",
        "X_train, X_test, y_train, y_test = train_test_split(X, y, test_size=0.2, random_state=7, shuffle=True) # Splits into train/test\n",
        "X_train, X_val, y_train, y_val = train_test_split(X_train, y_train, test_size=0.25, random_state=1, shuffle=True) # Splits train into train/val\n",
        "\n",
        "train_data, val_data, test_data = ChessDataset(X_train, y_train), ChessDataset(X_val, y_val), ChessDataset(X_test, y_test)"
      ],
      "metadata": {
        "id": "Fb7ZFYfU3nPY"
      },
      "execution_count": 186,
      "outputs": []
    },
    {
      "cell_type": "code",
      "source": [
        "train_dataloader = torch.utils.data.DataLoader(train_data, batch_size=params.batch_size, shuffle=True)\n",
        "val_dataloader = torch.utils.data.DataLoader(val_data, batch_size=params.batch_size)\n",
        "test_dataloader = torch.utils.data.DataLoader(test_data)"
      ],
      "metadata": {
        "id": "tVa8WpZc6Axi"
      },
      "execution_count": 187,
      "outputs": []
    },
    {
      "cell_type": "markdown",
      "source": [
        "### Initialize Model"
      ],
      "metadata": {
        "id": "k05I66qnvMeB"
      }
    },
    {
      "cell_type": "code",
      "source": [
        "%%capture\n",
        "model = BertRegressor()\n",
        "model = model.to(device)\n",
        "criterion = nn.MSELoss()\n",
        "optimizer = optim.AdamW(model.parameters(), lr = params.learning_rate)"
      ],
      "metadata": {
        "id": "fLMfD4iz5aWl",
        "colab": {
          "base_uri": "https://localhost:8080/"
        },
        "outputId": "a3955c1a-fb07-4a41-c47d-f6072573fc9e"
      },
      "execution_count": 203,
      "outputs": [
        {
          "output_type": "stream",
          "name": "stderr",
          "text": [
            "Some weights of the model checkpoint at bert-base-cased were not used when initializing BertModel: ['cls.predictions.decoder.weight', 'cls.predictions.bias', 'cls.seq_relationship.weight', 'cls.seq_relationship.bias', 'cls.predictions.transform.dense.weight', 'cls.predictions.transform.LayerNorm.weight', 'cls.predictions.transform.dense.bias', 'cls.predictions.transform.LayerNorm.bias']\n",
            "- This IS expected if you are initializing BertModel from the checkpoint of a model trained on another task or with another architecture (e.g. initializing a BertForSequenceClassification model from a BertForPreTraining model).\n",
            "- This IS NOT expected if you are initializing BertModel from the checkpoint of a model that you expect to be exactly identical (initializing a BertForSequenceClassification model from a BertForSequenceClassification model).\n"
          ]
        }
      ]
    },
    {
      "cell_type": "markdown",
      "source": [
        "### Run Training"
      ],
      "metadata": {
        "id": "mChdv51O8dC6"
      }
    },
    {
      "cell_type": "code",
      "source": [
        "train(model, train_dataloader, val_dataloader, criterion, optimizer)"
      ],
      "metadata": {
        "id": "pHj36RRX8e0y",
        "colab": {
          "base_uri": "https://localhost:8080/"
        },
        "outputId": "ea11e43e-426f-489f-b4dd-aad6c0123ffd"
      },
      "execution_count": 189,
      "outputs": [
        {
          "output_type": "stream",
          "name": "stdout",
          "text": [
            "Number of batches: 698\n",
            "Batch Number: 0\n",
            "Model Output: tensor([[-0.4122]], device='cuda:0', grad_fn=<AddmmBackward0>)\n",
            "Train Labels: [[1.545135259628296]]\n",
            "Batch Number: 50\n",
            "Model Output: tensor([[-0.1028]], device='cuda:0', grad_fn=<AddmmBackward0>)\n",
            "Train Labels: [[1.5160572528839111]]\n",
            "Batch Number: 100\n",
            "Model Output: tensor([[-0.6328]], device='cuda:0', grad_fn=<AddmmBackward0>)\n",
            "Train Labels: [[-0.7433022856712341]]\n",
            "Batch Number: 150\n",
            "Model Output: tensor([[-0.1005]], device='cuda:0', grad_fn=<AddmmBackward0>)\n",
            "Train Labels: [[-2.0634429454803467]]\n",
            "Batch Number: 200\n",
            "Model Output: tensor([[-0.5329]], device='cuda:0', grad_fn=<AddmmBackward0>)\n",
            "Train Labels: [[-0.3827352523803711]]\n",
            "Batch Number: 250\n",
            "Model Output: tensor([[0.2858]], device='cuda:0', grad_fn=<AddmmBackward0>)\n",
            "Train Labels: [[0.24534925818443298]]\n",
            "Batch Number: 300\n",
            "Model Output: tensor([[0.9037]], device='cuda:0', grad_fn=<AddmmBackward0>)\n",
            "Train Labels: [[0.09705152362585068]]\n",
            "Batch Number: 350\n",
            "Model Output: tensor([[0.5858]], device='cuda:0', grad_fn=<AddmmBackward0>)\n",
            "Train Labels: [[-0.17628154158592224]]\n",
            "Batch Number: 400\n",
            "Model Output: tensor([[0.1824]], device='cuda:0', grad_fn=<AddmmBackward0>)\n",
            "Train Labels: [[2.019106388092041]]\n",
            "Batch Number: 450\n",
            "Model Output: tensor([[-0.2478]], device='cuda:0', grad_fn=<AddmmBackward0>)\n",
            "Train Labels: [[0.8298167586326599]]\n",
            "Batch Number: 500\n",
            "Model Output: tensor([[0.7098]], device='cuda:0', grad_fn=<AddmmBackward0>)\n",
            "Train Labels: [[-1.0398976802825928]]\n",
            "Batch Number: 550\n",
            "Model Output: tensor([[-0.2593]], device='cuda:0', grad_fn=<AddmmBackward0>)\n",
            "Train Labels: [[0.6931502223014832]]\n",
            "Batch Number: 600\n",
            "Model Output: tensor([[0.6844]], device='cuda:0', grad_fn=<AddmmBackward0>)\n",
            "Train Labels: [[0.7454906105995178]]\n",
            "Batch Number: 650\n",
            "Model Output: tensor([[0.3452]], device='cuda:0', grad_fn=<AddmmBackward0>)\n",
            "Train Labels: [[1.2485398054122925]]\n",
            "Epochs: 1 | Train Loss:  1.171             | Train Accuracy:  0.000             | Val Loss:  1.161             | Val Accuracy:  0.000\n",
            "Batch Number: 0\n",
            "Model Output: tensor([[0.6551]], device='cuda:0', grad_fn=<AddmmBackward0>)\n",
            "Train Labels: [[-0.05706179887056351]]\n",
            "Batch Number: 50\n",
            "Model Output: tensor([[0.0026]], device='cuda:0', grad_fn=<AddmmBackward0>)\n",
            "Train Labels: [[1.3270503282546997]]\n",
            "Batch Number: 100\n",
            "Model Output: tensor([[-0.0319]], device='cuda:0', grad_fn=<AddmmBackward0>)\n",
            "Train Labels: [[-1.1474863290786743]]\n",
            "Batch Number: 150\n",
            "Model Output: tensor([[-0.7846]], device='cuda:0', grad_fn=<AddmmBackward0>)\n",
            "Train Labels: [[-0.6211747527122498]]\n",
            "Batch Number: 200\n",
            "Model Output: tensor([[0.5537]], device='cuda:0', grad_fn=<AddmmBackward0>)\n",
            "Train Labels: [[-0.22862191498279572]]\n",
            "Batch Number: 250\n",
            "Model Output: tensor([[0.0332]], device='cuda:0', grad_fn=<AddmmBackward0>)\n",
            "Train Labels: [[-1.8511735200881958]]\n",
            "Batch Number: 300\n",
            "Model Output: tensor([[0.0652]], device='cuda:0', grad_fn=<AddmmBackward0>)\n",
            "Train Labels: [[1.2718021869659424]]\n",
            "Batch Number: 350\n",
            "Model Output: tensor([[0.5066]], device='cuda:0', grad_fn=<AddmmBackward0>)\n",
            "Train Labels: [[-1.4906065464019775]]\n",
            "Batch Number: 400\n",
            "Model Output: tensor([[0.5864]], device='cuda:0', grad_fn=<AddmmBackward0>)\n",
            "Train Labels: [[-1.5749326944351196]]\n",
            "Batch Number: 450\n",
            "Model Output: tensor([[-0.9386]], device='cuda:0', grad_fn=<AddmmBackward0>)\n",
            "Train Labels: [[1.0537172555923462]]\n",
            "Batch Number: 500\n",
            "Model Output: tensor([[-0.2782]], device='cuda:0', grad_fn=<AddmmBackward0>)\n",
            "Train Labels: [[-0.7491178512573242]]\n",
            "Batch Number: 550\n",
            "Model Output: tensor([[-0.0877]], device='cuda:0', grad_fn=<AddmmBackward0>)\n",
            "Train Labels: [[-0.4699692130088806]]\n",
            "Batch Number: 600\n",
            "Model Output: tensor([[1.0204]], device='cuda:0', grad_fn=<AddmmBackward0>)\n",
            "Train Labels: [[0.9344975352287292]]\n",
            "Batch Number: 650\n",
            "Model Output: tensor([[0.8176]], device='cuda:0', grad_fn=<AddmmBackward0>)\n",
            "Train Labels: [[-1.0980536937713623]]\n",
            "Epochs: 2 | Train Loss:  1.100             | Train Accuracy:  0.000             | Val Loss:  1.167             | Val Accuracy:  0.000\n",
            "Batch Number: 0\n",
            "Model Output: tensor([[-0.0836]], device='cuda:0', grad_fn=<AddmmBackward0>)\n",
            "Train Labels: [[-1.5691170692443848]]\n",
            "Batch Number: 50\n",
            "Model Output: tensor([[-0.5710]], device='cuda:0', grad_fn=<AddmmBackward0>)\n",
            "Train Labels: [[-1.5138689279556274]]\n",
            "Batch Number: 100\n",
            "Model Output: tensor([[-0.0950]], device='cuda:0', grad_fn=<AddmmBackward0>)\n",
            "Train Labels: [[-1.0282665491104126]]\n",
            "Batch Number: 150\n",
            "Model Output: tensor([[-0.0201]], device='cuda:0', grad_fn=<AddmmBackward0>)\n",
            "Train Labels: [[1.5160572528839111]]\n",
            "Batch Number: 200\n",
            "Model Output: tensor([[-0.2539]], device='cuda:0', grad_fn=<AddmmBackward0>)\n",
            "Train Labels: [[-1.4004647731781006]]\n",
            "Batch Number: 250\n",
            "Model Output: tensor([[-0.2095]], device='cuda:0', grad_fn=<AddmmBackward0>)\n",
            "Train Labels: [[-0.05706179887056351]]\n",
            "Batch Number: 300\n",
            "Model Output: tensor([[0.0889]], device='cuda:0', grad_fn=<AddmmBackward0>)\n",
            "Train Labels: [[-1.8511735200881958]]\n",
            "Batch Number: 350\n",
            "Model Output: tensor([[-0.2817]], device='cuda:0', grad_fn=<AddmmBackward0>)\n",
            "Train Labels: [[1.3386815786361694]]\n",
            "Batch Number: 400\n",
            "Model Output: tensor([[0.3582]], device='cuda:0', grad_fn=<AddmmBackward0>)\n",
            "Train Labels: [[-0.11521777510643005]]\n",
            "Batch Number: 450\n",
            "Model Output: tensor([[0.3474]], device='cuda:0', grad_fn=<AddmmBackward0>)\n",
            "Train Labels: [[1.3503127098083496]]\n",
            "Batch Number: 500\n",
            "Model Output: tensor([[0.2459]], device='cuda:0', grad_fn=<AddmmBackward0>)\n",
            "Train Labels: [[-0.4292600154876709]]\n",
            "Batch Number: 550\n",
            "Model Output: tensor([[0.2350]], device='cuda:0', grad_fn=<AddmmBackward0>)\n",
            "Train Labels: [[-0.15301916003227234]]\n",
            "Batch Number: 600\n",
            "Model Output: tensor([[0.3016]], device='cuda:0', grad_fn=<AddmmBackward0>)\n",
            "Train Labels: [[0.3325832188129425]]\n",
            "Batch Number: 650\n",
            "Model Output: tensor([[-0.4268]], device='cuda:0', grad_fn=<AddmmBackward0>)\n",
            "Train Labels: [[0.5186823010444641]]\n",
            "Epochs: 3 | Train Loss:  1.073             | Train Accuracy:  0.000             | Val Loss:  1.113             | Val Accuracy:  0.000\n",
            "Batch Number: 0\n",
            "Model Output: tensor([[-0.1165]], device='cuda:0', grad_fn=<AddmmBackward0>)\n",
            "Train Labels: [[1.0682562589645386]]\n",
            "Batch Number: 50\n",
            "Model Output: tensor([[0.3481]], device='cuda:0', grad_fn=<AddmmBackward0>)\n",
            "Train Labels: [[-0.7258554697036743]]\n",
            "Batch Number: 100\n",
            "Model Output: tensor([[0.0086]], device='cuda:0', grad_fn=<AddmmBackward0>)\n",
            "Train Labels: [[0.2715194523334503]]\n",
            "Batch Number: 150\n",
            "Model Output: tensor([[0.4096]], device='cuda:0', grad_fn=<AddmmBackward0>)\n",
            "Train Labels: [[1.5102416276931763]]\n",
            "Batch Number: 200\n",
            "Model Output: tensor([[0.1127]], device='cuda:0', grad_fn=<AddmmBackward0>)\n",
            "Train Labels: [[-1.50514554977417]]\n",
            "Batch Number: 250\n",
            "Model Output: tensor([[-0.0822]], device='cuda:0', grad_fn=<AddmmBackward0>)\n",
            "Train Labels: [[-0.845075249671936]]\n",
            "Batch Number: 300\n",
            "Model Output: tensor([[0.0548]], device='cuda:0', grad_fn=<AddmmBackward0>)\n",
            "Train Labels: [[-0.6851462721824646]]\n",
            "Batch Number: 350\n",
            "Model Output: tensor([[0.4789]], device='cuda:0', grad_fn=<AddmmBackward0>)\n",
            "Train Labels: [[1.216554045677185]]\n",
            "Batch Number: 400\n",
            "Model Output: tensor([[-0.6536]], device='cuda:0', grad_fn=<AddmmBackward0>)\n",
            "Train Labels: [[-0.7287632822990417]]\n",
            "Batch Number: 450\n",
            "Model Output: tensor([[0.6304]], device='cuda:0', grad_fn=<AddmmBackward0>)\n",
            "Train Labels: [[-0.7869192361831665]]\n",
            "Batch Number: 500\n",
            "Model Output: tensor([[-0.0974]], device='cuda:0', grad_fn=<AddmmBackward0>)\n",
            "Train Labels: [[-0.9817417860031128]]\n",
            "Batch Number: 550\n",
            "Model Output: tensor([[0.1987]], device='cuda:0', grad_fn=<AddmmBackward0>)\n",
            "Train Labels: [[0.13485290110111237]]\n",
            "Batch Number: 600\n",
            "Model Output: tensor([[-0.8674]], device='cuda:0', grad_fn=<AddmmBackward0>)\n",
            "Train Labels: [[-0.7403944730758667]]\n",
            "Batch Number: 650\n",
            "Model Output: tensor([[-0.2446]], device='cuda:0', grad_fn=<AddmmBackward0>)\n",
            "Train Labels: [[-0.8072738647460938]]\n",
            "Epochs: 4 | Train Loss:  1.008             | Train Accuracy:  0.000             | Val Loss:  1.192             | Val Accuracy:  0.000\n",
            "Batch Number: 0\n",
            "Model Output: tensor([[0.2576]], device='cuda:0', grad_fn=<AddmmBackward0>)\n",
            "Train Labels: [[0.7629374265670776]]\n",
            "Batch Number: 50\n",
            "Model Output: tensor([[0.7151]], device='cuda:0', grad_fn=<AddmmBackward0>)\n",
            "Train Labels: [[-0.8276284337043762]]\n",
            "Batch Number: 100\n",
            "Model Output: tensor([[0.0633]], device='cuda:0', grad_fn=<AddmmBackward0>)\n",
            "Train Labels: [[0.7454906105995178]]\n",
            "Batch Number: 150\n",
            "Model Output: tensor([[0.5844]], device='cuda:0', grad_fn=<AddmmBackward0>)\n",
            "Train Labels: [[0.30641302466392517]]\n",
            "Batch Number: 200\n",
            "Model Output: tensor([[0.3551]], device='cuda:0', grad_fn=<AddmmBackward0>)\n",
            "Train Labels: [[-1.2027344703674316]]\n",
            "Batch Number: 250\n",
            "Model Output: tensor([[0.9296]], device='cuda:0', grad_fn=<AddmmBackward0>)\n",
            "Train Labels: [[0.5186823010444641]]\n",
            "Batch Number: 300\n",
            "Model Output: tensor([[-0.4608]], device='cuda:0', grad_fn=<AddmmBackward0>)\n",
            "Train Labels: [[0.2773350477218628]]\n",
            "Batch Number: 350\n",
            "Model Output: tensor([[0.7000]], device='cuda:0', grad_fn=<AddmmBackward0>)\n",
            "Train Labels: [[0.033079955726861954]]\n",
            "Batch Number: 400\n",
            "Model Output: tensor([[-0.1437]], device='cuda:0', grad_fn=<AddmmBackward0>)\n",
            "Train Labels: [[-1.5458546876907349]]\n",
            "Batch Number: 450\n",
            "Model Output: tensor([[0.7605]], device='cuda:0', grad_fn=<AddmmBackward0>)\n",
            "Train Labels: [[1.7399576902389526]]\n",
            "Batch Number: 500\n",
            "Model Output: tensor([[-0.3610]], device='cuda:0', grad_fn=<AddmmBackward0>)\n",
            "Train Labels: [[-0.3216714859008789]]\n",
            "Batch Number: 550\n",
            "Model Output: tensor([[0.2741]], device='cuda:0', grad_fn=<AddmmBackward0>)\n",
            "Train Labels: [[-0.36528846621513367]]\n",
            "Batch Number: 600\n",
            "Model Output: tensor([[-0.8311]], device='cuda:0', grad_fn=<AddmmBackward0>)\n",
            "Train Labels: [[1.5276883840560913]]\n",
            "Batch Number: 650\n",
            "Model Output: tensor([[-0.4395]], device='cuda:0', grad_fn=<AddmmBackward0>)\n",
            "Train Labels: [[-1.6883368492126465]]\n",
            "Epochs: 5 | Train Loss:  0.876             | Train Accuracy:  0.000             | Val Loss:  0.860             | Val Accuracy:  0.000\n"
          ]
        }
      ]
    },
    {
      "cell_type": "markdown",
      "source": [
        "### Run Testing"
      ],
      "metadata": {
        "id": "wH3GOh7rvQTl"
      }
    },
    {
      "cell_type": "code",
      "source": [
        "test_model_name = \"06_01_2023_20_27_regression_model.pth\"\n",
        "test_model_path = f\"{folder}/{test_model_name}\"\n",
        "\n",
        "test_model = BertRegressor()\n",
        "test_model = test_model.to(device)\n",
        "test_model.load_state_dict(torch.load(test_model_path))\n",
        "test(test_model, test_dataloader, criterion, scaler)"
      ],
      "metadata": {
        "id": "9HSMDah7SZpM",
        "colab": {
          "base_uri": "https://localhost:8080/",
          "height": 820
        },
        "outputId": "a9384819-2223-4000-aba8-b42dea26a13c"
      },
      "execution_count": 211,
      "outputs": [
        {
          "output_type": "stream",
          "name": "stderr",
          "text": [
            "Some weights of the model checkpoint at bert-base-cased were not used when initializing BertModel: ['cls.predictions.decoder.weight', 'cls.predictions.bias', 'cls.seq_relationship.weight', 'cls.seq_relationship.bias', 'cls.predictions.transform.dense.weight', 'cls.predictions.transform.LayerNorm.weight', 'cls.predictions.transform.dense.bias', 'cls.predictions.transform.LayerNorm.bias']\n",
            "- This IS expected if you are initializing BertModel from the checkpoint of a model trained on another task or with another architecture (e.g. initializing a BertForSequenceClassification model from a BertForPreTraining model).\n",
            "- This IS NOT expected if you are initializing BertModel from the checkpoint of a model that you expect to be exactly identical (initializing a BertForSequenceClassification model from a BertForSequenceClassification model).\n"
          ]
        },
        {
          "output_type": "stream",
          "name": "stdout",
          "text": [
            "Prediction: [[1827.1859]], Truth: [[1956.]]\n"
          ]
        },
        {
          "output_type": "error",
          "ename": "TypeError",
          "evalue": "ignored",
          "traceback": [
            "\u001b[0;31m---------------------------------------------------------------------------\u001b[0m",
            "\u001b[0;31mTypeError\u001b[0m                                 Traceback (most recent call last)",
            "\u001b[0;32m<ipython-input-211-7c4b554108e8>\u001b[0m in \u001b[0;36m<cell line: 7>\u001b[0;34m()\u001b[0m\n\u001b[1;32m      5\u001b[0m \u001b[0mtest_model\u001b[0m \u001b[0;34m=\u001b[0m \u001b[0mtest_model\u001b[0m\u001b[0;34m.\u001b[0m\u001b[0mto\u001b[0m\u001b[0;34m(\u001b[0m\u001b[0mdevice\u001b[0m\u001b[0;34m)\u001b[0m\u001b[0;34m\u001b[0m\u001b[0;34m\u001b[0m\u001b[0m\n\u001b[1;32m      6\u001b[0m \u001b[0mtest_model\u001b[0m\u001b[0;34m.\u001b[0m\u001b[0mload_state_dict\u001b[0m\u001b[0;34m(\u001b[0m\u001b[0mtorch\u001b[0m\u001b[0;34m.\u001b[0m\u001b[0mload\u001b[0m\u001b[0;34m(\u001b[0m\u001b[0mtest_model_path\u001b[0m\u001b[0;34m)\u001b[0m\u001b[0;34m)\u001b[0m\u001b[0;34m\u001b[0m\u001b[0;34m\u001b[0m\u001b[0m\n\u001b[0;32m----> 7\u001b[0;31m \u001b[0mtest\u001b[0m\u001b[0;34m(\u001b[0m\u001b[0mtest_model\u001b[0m\u001b[0;34m,\u001b[0m \u001b[0mtest_dataloader\u001b[0m\u001b[0;34m,\u001b[0m \u001b[0mcriterion\u001b[0m\u001b[0;34m,\u001b[0m \u001b[0mscaler\u001b[0m\u001b[0;34m)\u001b[0m\u001b[0;34m\u001b[0m\u001b[0;34m\u001b[0m\u001b[0m\n\u001b[0m",
            "\u001b[0;32m<ipython-input-210-ddc2a0d298a6>\u001b[0m in \u001b[0;36mtest\u001b[0;34m(model, test_dataloader, criterion, scaler)\u001b[0m\n\u001b[1;32m     14\u001b[0m       \u001b[0mreal_rating\u001b[0m \u001b[0;34m=\u001b[0m \u001b[0mscaler\u001b[0m\u001b[0;34m.\u001b[0m\u001b[0minverse_transform\u001b[0m\u001b[0;34m(\u001b[0m\u001b[0mtest_label\u001b[0m\u001b[0;34m)\u001b[0m\u001b[0;34m\u001b[0m\u001b[0;34m\u001b[0m\u001b[0m\n\u001b[1;32m     15\u001b[0m       \u001b[0mprint\u001b[0m\u001b[0;34m(\u001b[0m\u001b[0;34mf\"Prediction: {pred_rating}, Truth: {real_rating}\"\u001b[0m\u001b[0;34m)\u001b[0m\u001b[0;34m\u001b[0m\u001b[0;34m\u001b[0m\u001b[0m\n\u001b[0;32m---> 16\u001b[0;31m       \u001b[0mprint\u001b[0m\u001b[0;34m(\u001b[0m\u001b[0;34mf\"MSE Loss: {criterion(output, test_label)}\"\u001b[0m\u001b[0;34m)\u001b[0m\u001b[0;34m\u001b[0m\u001b[0;34m\u001b[0m\u001b[0m\n\u001b[0m\u001b[1;32m     17\u001b[0m     \u001b[0;31m#   pred_bucket = list(map(rating_to_bucket, output))\u001b[0m\u001b[0;34m\u001b[0m\u001b[0;34m\u001b[0m\u001b[0m\n\u001b[1;32m     18\u001b[0m     \u001b[0;31m#   real_bucket = list(map(rating_to_bucket, test_label))\u001b[0m\u001b[0;34m\u001b[0m\u001b[0;34m\u001b[0m\u001b[0m\n",
            "\u001b[0;32m/usr/local/lib/python3.10/dist-packages/torch/nn/modules/module.py\u001b[0m in \u001b[0;36m_call_impl\u001b[0;34m(self, *args, **kwargs)\u001b[0m\n\u001b[1;32m   1499\u001b[0m                 \u001b[0;32mor\u001b[0m \u001b[0m_global_backward_pre_hooks\u001b[0m \u001b[0;32mor\u001b[0m \u001b[0m_global_backward_hooks\u001b[0m\u001b[0;34m\u001b[0m\u001b[0;34m\u001b[0m\u001b[0m\n\u001b[1;32m   1500\u001b[0m                 or _global_forward_hooks or _global_forward_pre_hooks):\n\u001b[0;32m-> 1501\u001b[0;31m             \u001b[0;32mreturn\u001b[0m \u001b[0mforward_call\u001b[0m\u001b[0;34m(\u001b[0m\u001b[0;34m*\u001b[0m\u001b[0margs\u001b[0m\u001b[0;34m,\u001b[0m \u001b[0;34m**\u001b[0m\u001b[0mkwargs\u001b[0m\u001b[0;34m)\u001b[0m\u001b[0;34m\u001b[0m\u001b[0;34m\u001b[0m\u001b[0m\n\u001b[0m\u001b[1;32m   1502\u001b[0m         \u001b[0;31m# Do not call functions when jit is used\u001b[0m\u001b[0;34m\u001b[0m\u001b[0;34m\u001b[0m\u001b[0m\n\u001b[1;32m   1503\u001b[0m         \u001b[0mfull_backward_hooks\u001b[0m\u001b[0;34m,\u001b[0m \u001b[0mnon_full_backward_hooks\u001b[0m \u001b[0;34m=\u001b[0m \u001b[0;34m[\u001b[0m\u001b[0;34m]\u001b[0m\u001b[0;34m,\u001b[0m \u001b[0;34m[\u001b[0m\u001b[0;34m]\u001b[0m\u001b[0;34m\u001b[0m\u001b[0;34m\u001b[0m\u001b[0m\n",
            "\u001b[0;32m/usr/local/lib/python3.10/dist-packages/torch/nn/modules/loss.py\u001b[0m in \u001b[0;36mforward\u001b[0;34m(self, input, target)\u001b[0m\n\u001b[1;32m    534\u001b[0m \u001b[0;34m\u001b[0m\u001b[0m\n\u001b[1;32m    535\u001b[0m     \u001b[0;32mdef\u001b[0m \u001b[0mforward\u001b[0m\u001b[0;34m(\u001b[0m\u001b[0mself\u001b[0m\u001b[0;34m,\u001b[0m \u001b[0minput\u001b[0m\u001b[0;34m:\u001b[0m \u001b[0mTensor\u001b[0m\u001b[0;34m,\u001b[0m \u001b[0mtarget\u001b[0m\u001b[0;34m:\u001b[0m \u001b[0mTensor\u001b[0m\u001b[0;34m)\u001b[0m \u001b[0;34m->\u001b[0m \u001b[0mTensor\u001b[0m\u001b[0;34m:\u001b[0m\u001b[0;34m\u001b[0m\u001b[0;34m\u001b[0m\u001b[0m\n\u001b[0;32m--> 536\u001b[0;31m         \u001b[0;32mreturn\u001b[0m \u001b[0mF\u001b[0m\u001b[0;34m.\u001b[0m\u001b[0mmse_loss\u001b[0m\u001b[0;34m(\u001b[0m\u001b[0minput\u001b[0m\u001b[0;34m,\u001b[0m \u001b[0mtarget\u001b[0m\u001b[0;34m,\u001b[0m \u001b[0mreduction\u001b[0m\u001b[0;34m=\u001b[0m\u001b[0mself\u001b[0m\u001b[0;34m.\u001b[0m\u001b[0mreduction\u001b[0m\u001b[0;34m)\u001b[0m\u001b[0;34m\u001b[0m\u001b[0;34m\u001b[0m\u001b[0m\n\u001b[0m\u001b[1;32m    537\u001b[0m \u001b[0;34m\u001b[0m\u001b[0m\n\u001b[1;32m    538\u001b[0m \u001b[0;34m\u001b[0m\u001b[0m\n",
            "\u001b[0;32m/usr/local/lib/python3.10/dist-packages/torch/nn/functional.py\u001b[0m in \u001b[0;36mmse_loss\u001b[0;34m(input, target, size_average, reduce, reduction)\u001b[0m\n\u001b[1;32m   3282\u001b[0m             \u001b[0mmse_loss\u001b[0m\u001b[0;34m,\u001b[0m \u001b[0;34m(\u001b[0m\u001b[0minput\u001b[0m\u001b[0;34m,\u001b[0m \u001b[0mtarget\u001b[0m\u001b[0;34m)\u001b[0m\u001b[0;34m,\u001b[0m \u001b[0minput\u001b[0m\u001b[0;34m,\u001b[0m \u001b[0mtarget\u001b[0m\u001b[0;34m,\u001b[0m \u001b[0msize_average\u001b[0m\u001b[0;34m=\u001b[0m\u001b[0msize_average\u001b[0m\u001b[0;34m,\u001b[0m \u001b[0mreduce\u001b[0m\u001b[0;34m=\u001b[0m\u001b[0mreduce\u001b[0m\u001b[0;34m,\u001b[0m \u001b[0mreduction\u001b[0m\u001b[0;34m=\u001b[0m\u001b[0mreduction\u001b[0m\u001b[0;34m\u001b[0m\u001b[0;34m\u001b[0m\u001b[0m\n\u001b[1;32m   3283\u001b[0m         )\n\u001b[0;32m-> 3284\u001b[0;31m     \u001b[0;32mif\u001b[0m \u001b[0;32mnot\u001b[0m \u001b[0;34m(\u001b[0m\u001b[0mtarget\u001b[0m\u001b[0;34m.\u001b[0m\u001b[0msize\u001b[0m\u001b[0;34m(\u001b[0m\u001b[0;34m)\u001b[0m \u001b[0;34m==\u001b[0m \u001b[0minput\u001b[0m\u001b[0;34m.\u001b[0m\u001b[0msize\u001b[0m\u001b[0;34m(\u001b[0m\u001b[0;34m)\u001b[0m\u001b[0;34m)\u001b[0m\u001b[0;34m:\u001b[0m\u001b[0;34m\u001b[0m\u001b[0;34m\u001b[0m\u001b[0m\n\u001b[0m\u001b[1;32m   3285\u001b[0m         warnings.warn(\n\u001b[1;32m   3286\u001b[0m             \u001b[0;34m\"Using a target size ({}) that is different to the input size ({}). \"\u001b[0m\u001b[0;34m\u001b[0m\u001b[0;34m\u001b[0m\u001b[0m\n",
            "\u001b[0;31mTypeError\u001b[0m: 'int' object is not callable"
          ]
        }
      ]
    }
  ]
}